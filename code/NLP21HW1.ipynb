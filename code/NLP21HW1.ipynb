{
 "cells": [
  {
   "cell_type": "markdown",
   "metadata": {},
   "source": [
    "# NLP21@BGU.CS - HW1"
   ]
  },
  {
   "cell_type": "markdown",
   "metadata": {},
   "source": [
    "## Zvika Haramaty zvikah@post.bgu.ac.il\n",
    "## Daniel Kuvachev (?) yourmail@...\n",
    "### NLP 2021 - HW1 (http://www.cs.bgu.ac.il/~elhadad/nlp21/hw1.html)"
   ]
  },
  {
   "cell_type": "markdown",
   "metadata": {},
   "source": [
    "Nov 2020"
   ]
  },
  {
   "cell_type": "code",
   "execution_count": 2,
   "metadata": {},
   "outputs": [
    {
     "name": "stdout",
     "output_type": "stream",
     "text": [
      "Populating the interactive namespace from numpy and matplotlib\n"
     ]
    }
   ],
   "source": [
    "# Boring preliminaries\n",
    "%pylab inline\n",
    "import re\n",
    "import math\n",
    "import string\n",
    "from collections import Counter\n",
    "from __future__ import division"
   ]
  },
  {
   "cell_type": "markdown",
   "metadata": {},
   "source": [
    "<h2>Content</h2>\n",
    "\n",
    "* <a href=\"#P1\">Part 1: Language Models</a>\n",
    "  * <a href=\"#data\">1.1 Data Exploration</a>\n",
    "    * <a href=\"#explore\">1.1.1 Gathering basic statistics</a>\n",
    "    * <a href=\"#power\">1.1.2 Zipf and Power Law</a>\n",
    "  * <a href=\"#ngram\">1.2 n-gram model</a>\n",
    "    * <a href=\"#n_parameters\">1.2.1 How much memory do you expect a model to occupy?</a>\n",
    "    * <a href=\"#train_lm\">1.2.2 N-gram Word LM</a>\n",
    "  * <a href=\"#eval\">1.3 Language Model Evaluation</a>\n",
    "    * <a href=\"#per\">1.3.1 Perplexity</a>\n",
    "    * <a href=\"#smoothing\">1.3.2 Smoothing</a>\n",
    "    * <a href=\"#overfit\">1.3.3 Perplexity according to the order of the n-gram model\n",
    "    * <a href=\"#test-lm\">1.3.4 Test the best n-gram LM</a>\n",
    "    * <a href=\"#gen\">1.3.5 Generating Text using Language Models</a>\n",
    "  * <a href=\"#nn-lm\">1.4 Character language model</a>\n",
    "    * <a href=\"#effectiveness\">1.4.1 Read and Summarize</a>\n",
    "    * <a href=\"#recipes\">1.4.2 Recipes with a Character LM</a>\n",
    "* <a href=\"#P2\">Part 2: Polynomial curve fitting</a>\n",
    "  * <a href=\"#syntheticdata\">2.1 Synthetic data generation</a>\n",
    "  * <a href=\"#curvefitting\">2.2 Polynomial Curve Fitting</a>\n",
    "  * <a href=\"#regularization\">2.3 Polynomial Curve Fitting with Regularization</a>\n",
    "  * <a href=\"#prob-regr\">2.4 Probabilistic Regression Model</a>\n",
    "* <a href=\"#P3\">Part 3: Text Classification with Character RNN</a>\n",
    "  * <a href=\"#readtut\">3.1 Summarize the PyTorch Tutorial</a>\n",
    "  * <a href=\"#newdata\">3.2 Explore the Cities Dataset</a>\n",
    "  * <a href=\"#citiesmodel\">3.3 Train and Evaluate the RNN Model for Cities</a>\n",
    "  * <a href=\"#bettercitiesmodel\">3.4 (Optional) Improve the Model</a>"
   ]
  },
  {
   "cell_type": "markdown",
   "metadata": {},
   "source": [
    "<hr>\n",
    "<a name=\"P1\"></a>\n",
    "<h2>Part 1: Language Models</h2>\n",
    "\n",
    "<a name=\"data\"></a>\n",
    "<h3>1.1 Data Exploration</h3>\n",
    "\n",
    "<a name=\"explore\"></a>\n",
    "<h4>1.1.1 Gathering Basic Statistics</h4>\n",
    "\n",
    "In this section, we collect and plot the following information on a text dataset:\n",
    "<ul>\n",
    "<li>The total number of tokens</li>\n",
    "<li>The total number of characters</li>\n",
    "<li>The total number of distinct words (vocabulary)</li>\n",
    "<li>The total number of tokens corresponding to the top-N most frequent words in the vocabulary</li>\n",
    "<li>The token/type ratio in the dataset</li>\n",
    "<li>The number of types that appear in the dev data but not the training data</li>\n",
    "<li>The average number and standard deviation of characters per token</li>\n",
    "<li>The total number of distinct n-grams (of words) that appear in the dataset for n=2,3,4.</li>\n",
    "<li>The total number of distint n-grams of characters that appear for n=2,3,4,5,6,7.</li>\n",
    "</ul>"
   ]
  },
  {
   "cell_type": "markdown",
   "metadata": {},
   "source": [
    "We operate on the PTB dataset, which contains 929k training words, 73k validation words, and 82k test words. \n",
    "It is formatted in such a way that only the top 10k most frequent words are in its vocabulary.\n",
    "\n",
    "We gather the files from <a href=\"http://www.fit.vutbr.cz/~imikolov/rnnlm/simple-examples.tgz\">the dataset</a>\n",
    "where sentences are segmented one per line and words separated by spaces.  We assume the files are located in \"../data/\"."
   ]
  },
  {
   "cell_type": "markdown",
   "metadata": {},
   "source": [
    "#### Tokenizing"
   ]
  },
  {
   "cell_type": "markdown",
   "metadata": {},
   "source": [
    "You may need to tokenize strings read from the dataset files into lists of tokens.  \n",
    "\n",
    "Think which method is best appropriate for this dataset given the way it is formatting.\n",
    "Recall the method based on regular expressions used in Norvig's piece.\n",
    "Compare it with the the tokenizer provided in the nltk library."
   ]
  },
  {
   "cell_type": "code",
   "execution_count": 3,
   "metadata": {},
   "outputs": [
    {
     "name": "stdout",
     "output_type": "stream",
     "text": [
      "['Wo', \"n't\", 'this', 'be', 'tokenized', ',', 'the', 'way', 'PTB', 'expects', 'it', 'to', 'be', '.']\n",
      "We found 14 tokens\n"
     ]
    },
    {
     "name": "stderr",
     "output_type": "stream",
     "text": [
      "[nltk_data] Downloading package punkt to\n",
      "[nltk_data]     C:\\Users\\Dani\\AppData\\Roaming\\nltk_data...\n",
      "[nltk_data]   Package punkt is already up-to-date!\n"
     ]
    }
   ],
   "source": [
    "import nltk\n",
    "nltk.download('punkt')\n",
    "\n",
    "text = \"Won't this be tokenized, the way PTB expects it to be.\"\n",
    "tokens = nltk.word_tokenize(text)\n",
    "print(tokens)\n",
    "\n",
    "print(\"We found %s tokens\" % (len(tokens)))"
   ]
  },
  {
   "cell_type": "markdown",
   "metadata": {},
   "source": [
    "The output of justext is organized in paragraphs.  We converted them as one line of text each."
   ]
  },
  {
   "cell_type": "markdown",
   "metadata": {},
   "source": [
    "Note how abbreviations in English are tokenized in PTB (\"I'm\" becomes [\"I\", \"'m\"]) and numbers are all replaced by the \"N\" special token."
   ]
  },
  {
   "cell_type": "markdown",
   "metadata": {},
   "source": [
    "we will now observe the ptb dataset , first we will load the train, validation and test words and tokenize them.\n",
    "we know that this dataset have been preproccesed so there are only 10k most frequent words.\n",
    "in the dataset there are 929k training words, 73k validation words and 82k test words."
   ]
  },
  {
   "cell_type": "code",
   "execution_count": 4,
   "metadata": {},
   "outputs": [
    {
     "name": "stdout",
     "output_type": "stream",
     "text": [
      "we found 978754 tokens in train\n",
      "['aer', 'banknote', 'berlitz', 'calloway', 'centrust', 'cluett', 'fromstein', 'gitano', 'guterman', 'hydro-quebec', 'ipo', 'kia', 'memotec', 'mlx', 'nahb', 'punts', 'rake', 'regatta', 'rubens', 'sim', 'snack-food', 'ssangyong', 'swapo', 'wachter', 'pierre', '<', 'unk', '>', 'N', 'years', 'old', 'will', 'join', 'the', 'board', 'as', 'a', 'nonexecutive', 'director', 'nov.', 'N', 'mr.', '<', 'unk', '>', 'is', 'chairman', 'of', '<', 'unk', '>', 'n.v.', 'the', 'dutch', 'publishing', 'group', 'rudolph', '<', 'unk', '>', 'N', 'years', 'old', 'and', 'former', 'chairman', 'of', 'consolidated', 'gold', 'fields', 'plc', 'was', 'named', 'a', 'nonexecutive', 'director', 'of', 'this', 'british', 'industrial', 'conglomerate', 'a', 'form', 'of', 'asbestos', 'once', 'used', 'to', 'make', 'kent', 'cigarette', 'filters', 'has', 'caused', 'a', 'high', 'percentage', 'of', 'cancer', 'deaths']\n"
     ]
    }
   ],
   "source": [
    "import os\n",
    "\n",
    "train_text = open(os.path.join(os.getcwd(), \"..\\data\\ptb.train.txt\")).read()\n",
    "train_tokens = nltk.word_tokenize(train_text)\n",
    "print(\"we found {num} tokens in train\".format(num=len(train_tokens)))\n",
    "print(train_tokens[:100])"
   ]
  },
  {
   "cell_type": "markdown",
   "metadata": {},
   "source": [
    "we can see that the word tokinizer isn't working as expected , we want the <unk> words to be marked as 1 token and not as 3 , we will use RegexTokinizer for that task"
   ]
  },
  {
   "cell_type": "code",
   "execution_count": 5,
   "metadata": {},
   "outputs": [
    {
     "name": "stdout",
     "output_type": "stream",
     "text": [
      "['aer', 'banknote', 'berlitz', 'calloway', 'centrust', 'cluett', 'fromstein', 'gitano', 'guterman', 'hydro-quebec', 'ipo', 'kia', 'memotec', 'mlx', 'nahb', 'punts', 'rake', 'regatta', 'rubens', 'sim', 'snack-food', 'ssangyong', 'swapo', 'wachter', 'pierre', '<unk>', 'N', 'years', 'old', 'will', 'join', 'the', 'board', 'as', 'a', 'nonexecutive', 'director', 'nov.', 'N', 'mr.', '<unk>', 'is', 'chairman', 'of', '<unk>', 'n.v.', 'the', 'dutch', 'publishing', 'group', 'rudolph', '<unk>', 'N', 'years', 'old', 'and', 'former', 'chairman', 'of', 'consolidated', 'gold', 'fields', 'plc', 'was', 'named', 'a', 'nonexecutive', 'director', 'of', 'this', 'british', 'industrial', 'conglomerate', 'a', 'form', 'of', 'asbestos', 'once', 'used', 'to', 'make', 'kent', 'cigarette', 'filters', 'has', 'caused', 'a', 'high', 'percentage', 'of', 'cancer', 'deaths', 'among', 'a', 'group', 'of', 'workers', 'exposed', 'to', 'it']\n",
      "we found 887521 tokens in train\n"
     ]
    }
   ],
   "source": [
    "from nltk.tokenize import WhitespaceTokenizer\n",
    "\n",
    "tokenizer = WhitespaceTokenizer()\n",
    "train_tokens = tokenizer.tokenize(train_text)\n",
    "print(train_tokens[:100])\n",
    "print(\"we found {num} tokens in train\".format(num=len(train_tokens)))"
   ]
  },
  {
   "cell_type": "markdown",
   "metadata": {},
   "source": [
    "we can see that the number of tokens is sagnifintcly smaller than before , abd we can see that we got reed of '<' , '>'.\n",
    "we will use this method in the other datasets as well."
   ]
  },
  {
   "cell_type": "code",
   "execution_count": 6,
   "metadata": {},
   "outputs": [
    {
     "name": "stdout",
     "output_type": "stream",
     "text": [
      "['consumers', 'may', 'want', 'to', 'move', 'their', 'telephones', 'a', 'little', 'closer', 'to', 'the', 'tv', 'set', '<unk>', '<unk>', 'watching', 'abc', \"'s\", 'monday', 'night', 'football', 'can', 'now', 'vote', 'during', '<unk>', 'for', 'the', 'greatest', 'play', 'in', 'N', 'years', 'from', 'among', 'four', 'or', 'five', '<unk>', '<unk>', 'two', 'weeks', 'ago', 'viewers', 'of', 'several', 'nbc', '<unk>', 'consumer', 'segments', 'started', 'calling', 'a', 'N', 'number', 'for', 'advice', 'on', 'various', '<unk>', 'issues', 'and', 'the', 'new', 'syndicated', 'reality', 'show', 'hard', 'copy', 'records', 'viewers', \"'\", 'opinions', 'for', 'possible', 'airing', 'on', 'the', 'next', 'day', \"'s\", 'show', 'interactive', 'telephone', 'technology', 'has', 'taken', 'a', 'new', 'leap', 'in', '<unk>', 'and', 'television', 'programmers', 'are', 'racing', 'to', 'exploit']\n",
      "we found 70390 tokens in valid dataset\n",
      "['no', 'it', 'was', \"n't\", 'black', 'monday', 'but', 'while', 'the', 'new', 'york', 'stock', 'exchange', 'did', \"n't\", 'fall', 'apart', 'friday', 'as', 'the', 'dow', 'jones', 'industrial', 'average', 'plunged', 'N', 'points', 'most', 'of', 'it', 'in', 'the', 'final', 'hour', 'it', 'barely', 'managed', 'to', 'stay', 'this', 'side', 'of', 'chaos', 'some', 'circuit', 'breakers', 'installed', 'after', 'the', 'october', 'N', 'crash', 'failed', 'their', 'first', 'test', 'traders', 'say', 'unable', 'to', 'cool', 'the', 'selling', 'panic', 'in', 'both', 'stocks', 'and', 'futures', 'the', 'N', 'stock', 'specialist', 'firms', 'on', 'the', 'big', 'board', 'floor', 'the', 'buyers', 'and', 'sellers', 'of', 'last', 'resort', 'who', 'were', 'criticized', 'after', 'the', 'N', 'crash', 'once', 'again', 'could', \"n't\", 'handle', 'the', 'selling']\n",
      "we found 78669 tokens in test dataset\n"
     ]
    }
   ],
   "source": [
    "valid_text = open(os.path.join(os.getcwd(), \"..\\data\\ptb.valid.txt\")).read()\n",
    "valid_tokens = tokenizer.tokenize(valid_text)\n",
    "print(valid_tokens[:100])\n",
    "print(\"we found {num} tokens in valid dataset\".format(num=len(valid_tokens)))\n",
    "\n",
    "test_text = open(os.path.join(os.getcwd(), \"..\\data\\ptb.test.txt\")).read()\n",
    "test_tokens = tokenizer.tokenize(test_text)\n",
    "print(test_tokens[:100])\n",
    "print(\"we found {num} tokens in test dataset\".format(num=len(test_tokens)))"
   ]
  },
  {
   "cell_type": "markdown",
   "metadata": {},
   "source": [
    "we will now load the Shakespeare data set , we can see that this dataset was not preprocessed so we need to tokenize the words difrrently because we will also get spieciel chars as tokens(like '.').\n",
    "we also expect this set to be smaller then our train dataset but this is not mendatory , somtimes test datasets are larger then the train ones."
   ]
  },
  {
   "cell_type": "code",
   "execution_count": 7,
   "metadata": {},
   "outputs": [
    {
     "name": "stdout",
     "output_type": "stream",
     "text": [
      "we found 832301 tokens in shakesphere dataset\n",
      "['First', 'Citizen:', 'Before', 'we', 'proceed', 'any', 'further,', 'hear', 'me', 'speak.', 'All:', 'Speak,', 'speak.', 'First', 'Citizen:', 'You', 'are', 'all', 'resolved', 'rather', 'to', 'die', 'than', 'to', 'famish?', 'All:', 'Resolved.', 'resolved.', 'First', 'Citizen:', 'First,', 'you', 'know', 'Caius', 'Marcius', 'is', 'chief', 'enemy', 'to', 'the', 'people.', 'All:', 'We', \"know't,\", 'we', \"know't.\", 'First', 'Citizen:', 'Let', 'us', 'kill', 'him,', 'and', \"we'll\", 'have', 'corn', 'at', 'our', 'own', 'price.', \"Is't\", 'a', 'verdict?', 'All:', 'No', 'more', 'talking', \"on't;\", 'let', 'it', 'be', 'done:', 'away,', 'away!', 'Second', 'Citizen:', 'One', 'word,', 'good', 'citizens.', 'First', 'Citizen:', 'We', 'are', 'accounted', 'poor', 'citizens,', 'the', 'patricians', 'good.', 'What', 'authority', 'surfeits', 'on', 'would', 'relieve', 'us:', 'if', 'they', 'would']\n"
     ]
    }
   ],
   "source": [
    "shake_test_text = open(os.path.join(os.getcwd(), \"..\\data\\shakespeare.txt\")).read()\n",
    "shake_test_tokens = tokenizer.tokenize(shake_test_text)\n",
    "print(\"we found {num} tokens in shakesphere dataset\".format(num=len(shake_test_tokens)))\n",
    "print(shake_test_tokens[:100])"
   ]
  },
  {
   "cell_type": "markdown",
   "metadata": {},
   "source": [
    "we will now calculate the total number of chars in the ptb dataset , we expect the number of chars to be signifintly more than the number of words in each dataset, we expect that number to be bounded to biggest_word * number_of_words."
   ]
  },
  {
   "cell_type": "code",
   "execution_count": 8,
   "metadata": {},
   "outputs": [
    {
     "name": "stdout",
     "output_type": "stream",
     "text": [
      "we found 4129961 tokens\n"
     ]
    }
   ],
   "source": [
    "def split_words(words):\n",
    "    chars = []\n",
    "    for word in words:\n",
    "        for char in word:\n",
    "            chars.append(char)\n",
    "    return chars\n",
    "\n",
    "train_char_tokens = split_words(train_tokens)\n",
    "print(\"we found {num} tokens\".format(num=len(train_char_tokens)))"
   ]
  },
  {
   "cell_type": "code",
   "execution_count": 9,
   "metadata": {},
   "outputs": [
    {
     "name": "stdout",
     "output_type": "stream",
     "text": [
      "we found 3709942 tokens\n"
     ]
    }
   ],
   "source": [
    "shake_char_tokens = split_words(shake_test_tokens)\n",
    "print(\"we found {num} tokens\".format(num=len(shake_char_tokens)))"
   ]
  },
  {
   "cell_type": "markdown",
   "metadata": {},
   "source": [
    "we will know calculate the total number of disticnt words in the dataset, we know that the ptb dataset was preprocced so it will only containt the 10k most frequent words so that's what we expect to find there.\n",
    "but in the shekspere dataset we didn't run such preprocess so we cant predict how much words are there in that data set but we can be sure it isn't larger then the entire dataset size which was 855k words.\n",
    "in order to get the disticnt number of words we will just use the set object of python which provide uniquness to each word, and then we will check is size."
   ]
  },
  {
   "cell_type": "code",
   "execution_count": 10,
   "metadata": {},
   "outputs": [
    {
     "name": "stdout",
     "output_type": "stream",
     "text": [
      "we found 9999 words in the train\n",
      "we found 6021 words in the valid\n",
      "we found 6048 words in the test\n",
      "we found 62983 words in shakesphere dataset\n"
     ]
    }
   ],
   "source": [
    "disticnt_words_train = set(train_tokens)\n",
    "disticnt_words_valid = set(valid_tokens)\n",
    "disticnt_words_test = set(test_tokens)\n",
    "disticnt_words_shake = set(shake_test_tokens)\n",
    "\n",
    "print(\"we found {num} words in the train\".format(num=len(disticnt_words_train)))\n",
    "print(\"we found {num} words in the valid\".format(num=len(disticnt_words_valid)))\n",
    "print(\"we found {num} words in the test\".format(num=len(disticnt_words_test)))\n",
    "print(\"we found {num} words in shakesphere dataset\".format(num=len(disticnt_words_shake)))"
   ]
  },
  {
   "cell_type": "code",
   "execution_count": 17,
   "metadata": {},
   "outputs": [
    {
     "name": "stdout",
     "output_type": "stream",
     "text": [
      "number of words which are diffrent in the train and valid 3978\n",
      "number of words which are diffrent in the train and test 3951\n",
      "number of words which are diffrent in the train and shakesphere 64516\n"
     ]
    }
   ],
   "source": [
    "print('number of words which are diffrent in the train and valid {}'.format(len(disticnt_words_train.symmetric_difference(disticnt_words_valid))))\n",
    "print('number of words which are diffrent in the train and test {}'.format(len(disticnt_words_train.symmetric_difference(disticnt_words_test))))\n",
    "print('number of words which are diffrent in the train and shakesphere {}'.format(len(disticnt_words_train.symmetric_difference(disticnt_words_shake))))"
   ]
  },
  {
   "cell_type": "code",
   "execution_count": 12,
   "metadata": {},
   "outputs": [
    {
     "data": {
      "text/plain": [
       "[<matplotlib.lines.Line2D at 0x1fd5551f970>]"
      ]
     },
     "execution_count": 12,
     "metadata": {},
     "output_type": "execute_result"
    },
    {
     "data": {
      "image/png": "[encoded data removed]",
      "text/plain": [
       "<Figure size 432x288 with 1 Axes>"
      ]
     },
     "metadata": {
      "needs_background": "light"
     },
     "output_type": "display_data"
    }
   ],
   "source": [
    "import collections\n",
    "most_frequent_words = collections.Counter(train_tokens)\n",
    "plt.plot([val for word,val in most_frequent_words.most_common(4000)])"
   ]
  },
  {
   "cell_type": "code",
   "execution_count": 13,
   "metadata": {},
   "outputs": [
    {
     "name": "stdout",
     "output_type": "stream",
     "text": [
      "the average tokens per type in the dataset is 88.76097609760976\n"
     ]
    }
   ],
   "source": [
    "average_tokens_per_type = sum([freq for freq in most_frequent_words.values()]) / len(most_frequent_words)\n",
    "print('the average tokens per type in the dataset is {}'.format(average_tokens_per_type))"
   ]
  },
  {
   "cell_type": "code",
   "execution_count": 14,
   "metadata": {},
   "outputs": [
    {
     "name": "stdout",
     "output_type": "stream",
     "text": [
      "the std tokens per type in the dataset is 940.1980030300945\n"
     ]
    }
   ],
   "source": [
    "std_token_per_type = np.std([freq for freq in most_frequent_words.values()])\n",
    "print('the std tokens per type in the dataset is {}'.format(std_token_per_type))"
   ]
  },
  {
   "cell_type": "code",
   "execution_count": 22,
   "metadata": {},
   "outputs": [
    {
     "data": {
      "text/plain": [
       "[<matplotlib.lines.Line2D at 0x1fd5d179760>]"
      ]
     },
     "execution_count": 22,
     "metadata": {},
     "output_type": "execute_result"
    },
    {
     "data": {
      "image/png": "[encoded data removed]",
      "text/plain": [
       "<Figure size 432x288 with 1 Axes>"
      ]
     },
     "metadata": {
      "needs_background": "light"
     },
     "output_type": "display_data"
    }
   ],
   "source": [
    "ngrams = []\n",
    "for n in range(2,5):\n",
    "    ngrams.append(len(set((tuple(train_tokens[i : i + n]), train_tokens[i + n]) for i in range(len(train_tokens) - n))))\n",
    "plt.plot([i for i in range(2,5)], ngrams)"
   ]
  },
  {
   "cell_type": "code",
   "execution_count": 24,
   "metadata": {},
   "outputs": [
    {
     "data": {
      "text/plain": [
       "[<matplotlib.lines.Line2D at 0x1fd688576a0>]"
      ]
     },
     "execution_count": 24,
     "metadata": {},
     "output_type": "execute_result"
    },
    {
     "data": {
      "image/png": "[encoded data removed]",
      "text/plain": [
       "<Figure size 432x288 with 1 Axes>"
      ]
     },
     "metadata": {
      "needs_background": "light"
     },
     "output_type": "display_data"
    }
   ],
   "source": [
    "char_ngrams = []\n",
    "for n in range(2,8):\n",
    "    char_ngrams.append(len(set((tuple(train_char_tokens[i : i + n]), train_char_tokens[i + n]) for i in range(len(train_char_tokens) - n))))\n",
    "plt.plot([i for i in range(2,8)], char_ngrams)"
   ]
  },
  {
   "cell_type": "markdown",
   "metadata": {},
   "source": [
    "<a name=\"power\"></a>\n",
    "<h4>1.1.2 Zipf and Power Law</h4>\n",
    "\n",
    "Word count distributions are said to follow <a href=\"https://en.wikipedia.org/wiki/Power_law\">power law distributions</a>. \n",
    "In practice, this means that a plot of the log-frequency against the log-rank is nearly linear. \n",
    "We will verify that this holds for the Penn Treebank dataset by constructing the appropriate corpus_counts counter:\n"
   ]
  },
  {
   "cell_type": "code",
   "execution_count": 12,
   "metadata": {},
   "outputs": [],
   "source": [
    "tokens = train_tokens\n",
    "corpus_counts = Counter(tokens)"
   ]
  },
  {
   "cell_type": "code",
   "execution_count": 13,
   "metadata": {},
   "outputs": [
    {
     "name": "stdout",
     "output_type": "stream",
     "text": [
      "3.3.2\n"
     ]
    },
    {
     "data": {
      "text/plain": [
       "Text(0, 0.5, 'frequency')"
      ]
     },
     "execution_count": 13,
     "metadata": {},
     "output_type": "execute_result"
    },
    {
     "data": {
      "image/png": "[encoded data removed]",
      "text/plain": [
       "<Figure size 432x288 with 1 Axes>"
      ]
     },
     "metadata": {
      "needs_background": "light"
     },
     "output_type": "display_data"
    }
   ],
   "source": [
    "import matplotlib.pyplot as plt\n",
    "import matplotlib\n",
    "print(matplotlib.__version__)\n",
    "\n",
    "plt.loglog([val for word,val in corpus_counts.most_common(4000)])\n",
    "plt.xlabel('rank')\n",
    "plt.ylabel('frequency')"
   ]
  },
  {
   "cell_type": "markdown",
   "metadata": {},
   "source": [
    "<a name=\"ngram\"></a>\n",
    "<h3><a name=\"ngram\">1.2 n-gram Word Language Model</a></h3>\n",
    "\n",
    "<a name=\"n_parameters\"></a>\n",
    "<h4>1.2.1 How much memory do you expect a model to occupy?</h4>\n",
    "\n",
    "i think the model will occupy number_of_words ^ N , and since he have 10k words the model should oocupy 10K ^ N\n"
   ]
  },
  {
   "cell_type": "markdown",
   "metadata": {},
   "source": [
    "<a name=\"train_lm\"></a>\n",
    "<h4>1.2.2 N-gram LM</h4>\n",
    "\n",
    "We present a Python function to construct a word n-gram model given a dataset according to the signature:\n",
    "<pre>\n",
    "train_word_lm(dataset, n=2)\n",
    "</pre>"
   ]
  },
  {
   "cell_type": "markdown",
   "metadata": {},
   "source": [
    "we assume that the dataset was allready tokenized before"
   ]
  },
  {
   "cell_type": "code",
   "execution_count": 56,
   "metadata": {},
   "outputs": [
    {
     "name": "stdout",
     "output_type": "stream",
     "text": [
      "aer banknote berlitz calloway centrust cluett fromstein gitano guterman hydro-quebec ipo kia memotec mlx nahb punts rake regatta rubens sim snack-food ssangyong swapo wachter pierre <unk> an <unk> the shift from socialism to capitalism he farms N acres in the litigation staff among the three carriers reach he said the market does recover the damage and no production slowdown is due to slowing sales of $ N billion yen us$ N million or N cents a share because the two disasters to nearly N N of <unk> men attempting a young boy now turned N on these grounds the budget deficit looms and the cia and fbi to immediately begin processing the japanese want us to define its monetary and fiscal policies germany 's enormous postwar prosperity and the nasd which operates the major nec competitors to ease <unk> rules <unk> gasb rules still apply for permission for bass to buy company shares at <unk> university in <unk> the nation sears said its <unk> calif. concern <unk> which are expected to result from the buy-out firm also tracks smaller technology companies has been <unk> activity against plant diseases as <unk> business works with such <unk> schemes are scrapped before they <unk> <unk> <unk> securities corp. of britain said it would seek to spread salmonella if a customer trips or otherwise do n't see them dealing with a strong fourth quarter ended oct. N and mitsubishi estate prefer to leave his wife sec enforcement chief john <unk> an investigator who acts first as a result marketers of walking shoes the survey they wo n't look at the two companies have joint customers said keith collins a department analyst said lotus had upgrade revenue of c$ N million that purchase represented an attempt to show that the abortion issue failing to find someone or something close to $ N million debenture offering dominated activity in gold sales to canadian and australian taxes chemical profits also declined to elaborate publicly on the shop risks <unk> its responses to the california department of taxation should be added to the u.s. futures exchanges compete world-wide as never before today trading in check among steel shares <unk> group plc of britain put its norwegian oil and natural gas volumes and higher equity earnings in the case for nov. N the key districts with many different <unk> senator who serves as a bridge between oakland and san francisco international also were reported more than N N royal bank of new telephone lines in service industries and government inspectors are <unk> mr. lee also reported that the extra heat is coming under close ethical scrutiny the irs will pay soviet farmers in the marshall islands is merely a sign of overall labor costs which resulted from a well-known <unk> involving share swaps abm gold corp. and new york firm of its common stock on its <unk> <unk> <unk> this treatment but the two sides said the <unk> of some of the <unk> to the particular case they speak volumes about the current backlog of orders made some securities mature that 's not a <unk> mass <unk> an analyst at james capel far east will hold onto its public facilities to nearly N N the company including the assumptions made an offer at least they show up as part of the national association of manufacturers that must be received by N there are virtually carbon copies of chromosome no. N auto shares were outstanding in the week and the earthquake could contribute to stock of which half may be the worst of the wall street journal <unk> kageyama in commenting on the collection we do n't believe a bidding war for jaguar observed mr. barber of james capel inc possible bidders include christopher <unk> will cost about N people were not nearly in his own account is troubled with philip morris cos. had about N N to N marks down from N N west german refinery was damaged though the situation worse if the epicenter typical perhaps was the <unk> <unk> but would n't comment about interpublic but the administration won final congressional approval trinity industries inc. said it would allow considerable flexibility in determining how and when she wants as she <unk> for the <unk> of his duties and exercise the prerogatives the <unk> business units it certainly was n't <unk> they are discussing formation of a high degree of confidence it could cost him $ N million would be sold through underwriters led by blue-chip issues included <unk> of federal court jury verdict in a case of peter <unk> ms. de <unk> is chosen ad notes new account <unk> 's general business systems division lilly shares closed up about N million although the economy 's slowdown is due to be <unk> the soviets to build a $ N million plus the assumption that revenue again will be marketed toward families and prevent the couple could n't pass the tax benefits associated with <unk> l.p. and <unk> <unk> the <unk> excitement of the concerns of environmentalists suggesting that the proposal however was for $ N for a huge portrait of his <unk> portrayal of the clean air act the law and regulations that would <unk> instead of one day it did shaking the market down they also worry that prices are falling while the two-year treasurys the offerings bring freddie mac and fannie mae N N increase over the lab 's computers after the N model year he said he would do little about his honesty and habits satisfied a judge his <unk> castle is part of its defensive restructuring plan would ease investors rushed to buy back as many as N N compared with N N to N members of the cuban people <unk> by s&p it was reluctant to mount even there <unk> a comprehensive <unk> policy that has resulted from corporate <unk> from shareholders in order to find that the manhattan borough president ferdinand <unk> foundation and within the soviet embassy here commerce secretary robert\n"
     ]
    }
   ],
   "source": [
    "def add_padding(dataset, n=2):\n",
    "    return ['*' for i in range(n)] + dataset\n",
    "\n",
    "def prepare_dataset(dataset, n=2):\n",
    "    dataset_with_padding  = add_padding(dataset, n)\n",
    "    return [(tuple(dataset_with_padding[i : i + n]), dataset_with_padding[i + n]) for i in range(len(dataset_with_padding) - n)]\n",
    "\n",
    "def create_lm(dataset, estimator=nltk.MLEProbDist, **kwargs):\n",
    "    cfd = nltk.ConditionalFreqDist(dataset)\n",
    "    return nltk.ConditionalProbDist(cfd, estimator, **kwargs)\n",
    "    \n",
    "def train_word_lm(dataset, n=2, estimator=nltk.MLEProbDist, **kwargs):\n",
    "    word_grams = prepare_dataset(dataset, n)\n",
    "    return create_lm(word_grams, estimator, **kwargs)\n",
    "\n",
    "n = 2\n",
    "lm = train_word_lm(train_tokens, n=n)\n",
    "out = []\n",
    "hist = ['*' for i in range(n)]\n",
    "for _ in range(1000):\n",
    "    word = lm[tuple(hist)].generate()\n",
    "    hist = hist[1:]\n",
    "    hist.append(word)\n",
    "    out.append(word)\n",
    "print(' '.join(out))"
   ]
  },
  {
   "cell_type": "markdown",
   "metadata": {},
   "source": [
    "Provide:\n",
    "* The list of methods of the object cpd that are useful for a language model (inherited or implemented by the various classes in nltk)\n",
    "* Explain how the function generate() used in the sample works - why does it compute a correct way to sample from a distribution?\n"
   ]
  },
  {
   "cell_type": "markdown",
   "metadata": {},
   "source": [
    "<a name=\"eval\"></a>\n",
    "<h3>1.3 Language Model Evaluation</h3>\n",
    "\n",
    "We now evaluate the performance of the learned language models by using two techniques:\n",
    "measuring perplexity on a validation dataset and using the model to generate random text, then assessing\n",
    "the readability of the generated text.\n",
    "\n",
    "<a name=\"per\"></a>\n",
    "<h4>1.3.1 Perplexity</h4>\n",
    "\n",
    "We implement a Python function to measure the perplexity of a trained model on a test dataset."
   ]
  },
  {
   "cell_type": "code",
   "execution_count": 15,
   "metadata": {},
   "outputs": [],
   "source": [
    "# We adapt the methods to compute the cross-entropy and perplexity of a model from nltk.model\n",
    "# to our implementation\n",
    "\n",
    "def entropy(lm , n, text):\n",
    "    e = 0.0\n",
    "    probs = []\n",
    "    counter = 0\n",
    "    for i in range(len(text) - n):\n",
    "        context = tuple(text[i : i + n])\n",
    "        token = text[i + n]\n",
    "        e -= lm[context].logprob(token)\n",
    "    return e / float(len(text) - (n - 1))\n",
    "\n",
    "def perplexity(lm, n, text):\n",
    "    return pow(2.0, entropy(lm, n, text))\n"
   ]
  },
  {
   "cell_type": "code",
   "execution_count": 16,
   "metadata": {},
   "outputs": [
    {
     "name": "stdout",
     "output_type": "stream",
     "text": [
      "43731\n"
     ]
    },
    {
     "ename": "OverflowError",
     "evalue": "(34, 'Result too large')",
     "output_type": "error",
     "traceback": [
      "\u001b[1;31m---------------------------------------------------------------------------\u001b[0m",
      "\u001b[1;31mOverflowError\u001b[0m                             Traceback (most recent call last)",
      "\u001b[1;32m<ipython-input-16-e39c9e43a1af>\u001b[0m in \u001b[0;36m<module>\u001b[1;34m\u001b[0m\n\u001b[0;32m      2\u001b[0m \u001b[0mvocabulary_size\u001b[0m \u001b[1;33m=\u001b[0m \u001b[0mlen\u001b[0m\u001b[1;33m(\u001b[0m\u001b[0mset\u001b[0m\u001b[1;33m(\u001b[0m\u001b[0mtrain_tokens\u001b[0m\u001b[1;33m)\u001b[0m\u001b[1;33m)\u001b[0m\u001b[1;33m\u001b[0m\u001b[1;33m\u001b[0m\u001b[0m\n\u001b[0;32m      3\u001b[0m \u001b[0mvalid_tokens_with_padding\u001b[0m \u001b[1;33m=\u001b[0m \u001b[0madd_padding\u001b[0m\u001b[1;33m(\u001b[0m\u001b[0mvalid_tokens\u001b[0m\u001b[1;33m)\u001b[0m\u001b[1;33m\u001b[0m\u001b[1;33m\u001b[0m\u001b[0m\n\u001b[1;32m----> 4\u001b[1;33m \u001b[0mprint\u001b[0m\u001b[1;33m(\u001b[0m\u001b[1;34m\"results : {}\"\u001b[0m\u001b[1;33m.\u001b[0m\u001b[0mformat\u001b[0m\u001b[1;33m(\u001b[0m\u001b[0mperplexity\u001b[0m\u001b[1;33m(\u001b[0m\u001b[0mlm\u001b[0m\u001b[1;33m,\u001b[0m \u001b[1;36m2\u001b[0m\u001b[1;33m,\u001b[0m \u001b[0mvalid_tokens_with_padding\u001b[0m\u001b[1;33m)\u001b[0m\u001b[1;33m)\u001b[0m\u001b[1;33m)\u001b[0m\u001b[1;33m\u001b[0m\u001b[1;33m\u001b[0m\u001b[0m\n\u001b[0m",
      "\u001b[1;32m<ipython-input-15-6542362a90e0>\u001b[0m in \u001b[0;36mperplexity\u001b[1;34m(lm, n, text)\u001b[0m\n\u001b[0;32m     20\u001b[0m \u001b[1;33m\u001b[0m\u001b[0m\n\u001b[0;32m     21\u001b[0m \u001b[1;32mdef\u001b[0m \u001b[0mperplexity\u001b[0m\u001b[1;33m(\u001b[0m\u001b[0mlm\u001b[0m\u001b[1;33m,\u001b[0m \u001b[0mn\u001b[0m\u001b[1;33m,\u001b[0m \u001b[0mtext\u001b[0m\u001b[1;33m)\u001b[0m\u001b[1;33m:\u001b[0m\u001b[1;33m\u001b[0m\u001b[1;33m\u001b[0m\u001b[0m\n\u001b[1;32m---> 22\u001b[1;33m     \u001b[1;32mreturn\u001b[0m \u001b[0mpow\u001b[0m\u001b[1;33m(\u001b[0m\u001b[1;36m2.0\u001b[0m\u001b[1;33m,\u001b[0m \u001b[0mentropy\u001b[0m\u001b[1;33m(\u001b[0m\u001b[0mlm\u001b[0m\u001b[1;33m,\u001b[0m \u001b[0mn\u001b[0m\u001b[1;33m,\u001b[0m \u001b[0mtext\u001b[0m\u001b[1;33m)\u001b[0m\u001b[1;33m)\u001b[0m\u001b[1;33m\u001b[0m\u001b[1;33m\u001b[0m\u001b[0m\n\u001b[0m",
      "\u001b[1;31mOverflowError\u001b[0m: (34, 'Result too large')"
     ]
    }
   ],
   "source": [
    "# We now measure the reported perplexity values on the Penn Treebank validation dataset ptb.valid.txt\n",
    "vocabulary_size = len(set(train_tokens))\n",
    "valid_tokens_with_padding = add_padding(valid_tokens)\n",
    "print(\"results : {}\".format(perplexity(lm, 2, valid_tokens_with_padding)))"
   ]
  },
  {
   "cell_type": "markdown",
   "metadata": {},
   "source": [
    "Analyze the observed result..."
   ]
  },
  {
   "cell_type": "markdown",
   "metadata": {},
   "source": [
    "we can observe that the result is to big because we encountered unseen words in the valid set $\\lim_{x\\to0^{+}} log(x)=-\\infty$"
   ]
  },
  {
   "cell_type": "markdown",
   "metadata": {},
   "source": [
    "<a name=\"smoothing\"></a>\n",
    "<h4>1.3.2 Smoothing</h4>\n",
    "\n",
    "In order to improve the model, we will use a smoothing technique.\n",
    "\n",
    "We use the <a href=\"http://www.nltk.org/_modules/nltk/probability.html\">nltk probability distribution</a> module which provides different estimators that implement smoothing methods (Laplace, Lidstone, Witten-Bell, Good-Turing). "
   ]
  },
  {
   "cell_type": "code",
   "execution_count": null,
   "metadata": {},
   "outputs": [],
   "source": [
    "# We change the model to use a different estimator than the Maximum Likelihood Estimator (MLE) count-based estimator\n",
    "# to compute the probability of p(w|history).  \n",
    "laplace_lm = train_word_lm(train_tokens, n=2, estimator=nltk.LidstoneProbDist, bins=vocabulary_size, gamma=0.1)\n",
    "valid_tokens_with_padding = add_padding(valid_tokens)\n",
    "print(\"results : {}\".format(perplexity(laplace_lm, 2, valid_tokens_with_padding)))"
   ]
  },
  {
   "cell_type": "markdown",
   "metadata": {},
   "source": [
    "Compare the obtained perplexity of the trained model on the validation dataset for different Lidstone estimators for a \n",
    "variety of hyper-parameter gamma $0 \\leq gamma \\leq 1$ by drawing a graph of the obtained perplexity on the validation dataset for different values of gamma.\n"
   ]
  },
  {
   "cell_type": "code",
   "execution_count": 17,
   "metadata": {},
   "outputs": [
    {
     "name": "stdout",
     "output_type": "stream",
     "text": [
      "0\n",
      "0\n",
      "0\n",
      "0\n",
      "0\n",
      "0\n",
      "0\n",
      "0\n",
      "0\n",
      "0\n"
     ]
    }
   ],
   "source": [
    "# Draw graph of perplexity of bigram LM for values of gamma with Lidstone estimator as smoothing method\n",
    "perplexity_results = {}\n",
    "max_iter = 10\n",
    "valid_tokens_with_padding = add_padding(valid_tokens)\n",
    "for i in range(1, max_iter + 1):\n",
    "    gamma = i / max_iter\n",
    "    laplace_lm = train_word_lm(train_tokens, n=2,  estimator=nltk.LidstoneProbDist, bins=vocabulary_size, gamma=gamma)\n",
    "    perplexity_results[gamma] = perplexity(laplace_lm, 2, valid_tokens_with_padding)"
   ]
  },
  {
   "cell_type": "code",
   "execution_count": 18,
   "metadata": {},
   "outputs": [
    {
     "name": "stdout",
     "output_type": "stream",
     "text": [
      "{0.1: 2176.860464522929, 0.2: 2624.48852680885, 0.3: 2942.8820682716237, 0.4: 3194.8900907278576, 0.5: 3405.047880359019, 0.6: 3585.938001742114, 0.7: 3745.013279161242, 0.8: 3887.1073946166343, 0.9: 4015.55855154743, 1.0: 4132.781196996034}\n"
     ]
    },
    {
     "data": {
      "text/plain": [
       "Text(0, 0.5, 'perplexity')"
      ]
     },
     "execution_count": 18,
     "metadata": {},
     "output_type": "execute_result"
    },
    {
     "data": {
      "image/png": "[encoded data removed]",
      "text/plain": [
       "<Figure size 432x288 with 1 Axes>"
      ]
     },
     "metadata": {
      "needs_background": "light"
     },
     "output_type": "display_data"
    }
   ],
   "source": [
    "print(perplexity_results)\n",
    "plt.plot(perplexity_results.keys(), perplexity_results.values())\n",
    "plt.xlabel('gamma')\n",
    "plt.ylabel('perplexity')"
   ]
  },
  {
   "cell_type": "markdown",
   "metadata": {},
   "source": [
    "we can see that we get the best preplexity when gamma is the smallest , meaning we will use gamma = 0.1"
   ]
  },
  {
   "cell_type": "markdown",
   "metadata": {},
   "source": [
    "<a name=\"overfit\"></a>\n",
    "<h4>1.3.3 Perplexity according to the order of the n-gram model</h4>\n",
    "\n",
    "Another way to improve the model is to use an n-gram model with increasing values of n (2,3,...10)."
   ]
  },
  {
   "cell_type": "code",
   "execution_count": 19,
   "metadata": {},
   "outputs": [
    {
     "name": "stdout",
     "output_type": "stream",
     "text": [
      "0\n",
      "0\n",
      "0\n",
      "0\n",
      "0\n",
      "0\n",
      "0\n",
      "0\n",
      "0\n"
     ]
    }
   ],
   "source": [
    "# Draw a graph of the obtained perplexity on the validation dataset for different values of n between 2 and 20\n",
    "# for the best value of gamma obtained above.\n",
    "perplexity_results_n_gram = {}\n",
    "max_iter = 10\n",
    "gamma = 1\n",
    "valid_tokens_with_padding = add_padding(valid_tokens)\n",
    "for i in range(2, max_iter + 1):\n",
    "    laplace_lm = train_word_lm(train_tokens, n=i, estimator=nltk.LidstoneProbDist, bins=vocabulary_size, gamma=0.1)\n",
    "    perplexity_results_n_gram[i] = perplexity(laplace_lm, i, valid_tokens_with_padding)"
   ]
  },
  {
   "cell_type": "code",
   "execution_count": 20,
   "metadata": {},
   "outputs": [
    {
     "name": "stdout",
     "output_type": "stream",
     "text": [
      "{2: 2176.860464522929, 3: 5173.614758248297, 4: 7090.420590210644, 5: 8012.935911462408, 6: 8481.667891320034, 7: 8757.659397217209, 8: 8946.213476460991, 9: 9083.60772410707, 10: 9186.278663387231}\n"
     ]
    },
    {
     "data": {
      "text/plain": [
       "Text(0, 0.5, 'perplexity')"
      ]
     },
     "execution_count": 20,
     "metadata": {},
     "output_type": "execute_result"
    },
    {
     "data": {
      "image/png": "[encoded data removed]",
      "text/plain": [
       "<Figure size 432x288 with 1 Axes>"
      ]
     },
     "metadata": {
      "needs_background": "light"
     },
     "output_type": "display_data"
    }
   ],
   "source": [
    "print(perplexity_results_n_gram)\n",
    "plt.plot(perplexity_results_n_gram.keys(), perplexity_results_n_gram.values())\n",
    "plt.xlabel('n-gram')\n",
    "plt.ylabel('perplexity')"
   ]
  },
  {
   "cell_type": "markdown",
   "metadata": {},
   "source": [
    "<a name=\"test-lm\"></a>\n",
    "<h4>1.3.4 Test the best n-gram LM</h4>\n",
    "\n",
    "Based on the 2 graphs above, we hypothesize that the best combination LM is an n-gram of order NN smoothed with Lidstone estimator with parameter gamma = GG.\n",
    "\n",
    "We test this model on the test dataset of the Penn Treebank and obtain the following perplexity on the validation set:"
   ]
  },
  {
   "cell_type": "code",
   "execution_count": 21,
   "metadata": {},
   "outputs": [
    {
     "name": "stdout",
     "output_type": "stream",
     "text": [
      "0\n",
      "perplexity on the test set 2197.8393203748356\n"
     ]
    }
   ],
   "source": [
    "## Test LM with optimal parameters - report perplexity on validation.\n",
    "laplace_lm = train_word_lm(train_tokens, n=2,  estimator=nltk.LidstoneProbDist, bins=vocabulary_size, gamma=0.1)\n",
    "test_tokens_with_padding = add_padding(test_tokens)\n",
    "print('perplexity on the test set {}'.format(perplexity(laplace_lm, 2, test_tokens_with_padding)))"
   ]
  },
  {
   "cell_type": "markdown",
   "metadata": {},
   "source": [
    "We also test our n-gram model with the <a href=\"https://www.nltk.org/api/nltk.html#nltk.probability.SimpleGoodTuringProbDist\">Good-Turing estimator instead of the Lidstone estimator."
   ]
  },
  {
   "cell_type": "code",
   "execution_count": 22,
   "metadata": {},
   "outputs": [
    {
     "name": "stderr",
     "output_type": "stream",
     "text": [
      "C:\\Users\\Dani\\miniconda3\\envs\\nlp21\\lib\\site-packages\\nltk\\probability.py:1456: UserWarning: SimpleGoodTuring did not find a proper best fit line for smoothing probabilities of occurrences. The probability estimates are likely to be unreliable.\n",
      "  warnings.warn(\n"
     ]
    },
    {
     "name": "stdout",
     "output_type": "stream",
     "text": [
      "341988\n"
     ]
    },
    {
     "ename": "OverflowError",
     "evalue": "(34, 'Result too large')",
     "output_type": "error",
     "traceback": [
      "\u001b[1;31m---------------------------------------------------------------------------\u001b[0m",
      "\u001b[1;31mOverflowError\u001b[0m                             Traceback (most recent call last)",
      "\u001b[1;32m<ipython-input-22-5bedd3d7a9d8>\u001b[0m in \u001b[0;36m<module>\u001b[1;34m\u001b[0m\n\u001b[0;32m      2\u001b[0m \u001b[0msimple_good_turing_lm\u001b[0m \u001b[1;33m=\u001b[0m \u001b[0mtrain_word_lm\u001b[0m\u001b[1;33m(\u001b[0m\u001b[0mtrain_tokens\u001b[0m\u001b[1;33m,\u001b[0m \u001b[0mn\u001b[0m\u001b[1;33m=\u001b[0m\u001b[1;36m2\u001b[0m\u001b[1;33m,\u001b[0m \u001b[0mestimator\u001b[0m\u001b[1;33m=\u001b[0m\u001b[0mnltk\u001b[0m\u001b[1;33m.\u001b[0m\u001b[0mSimpleGoodTuringProbDist\u001b[0m\u001b[1;33m,\u001b[0m \u001b[0mbins\u001b[0m\u001b[1;33m=\u001b[0m\u001b[0mvocabulary_size\u001b[0m\u001b[1;33m)\u001b[0m\u001b[1;33m\u001b[0m\u001b[1;33m\u001b[0m\u001b[0m\n\u001b[0;32m      3\u001b[0m \u001b[0mtest_tokens_with_padding\u001b[0m \u001b[1;33m=\u001b[0m \u001b[0madd_padding\u001b[0m\u001b[1;33m(\u001b[0m\u001b[0mtrain_tokens\u001b[0m\u001b[1;33m)\u001b[0m\u001b[1;33m\u001b[0m\u001b[1;33m\u001b[0m\u001b[0m\n\u001b[1;32m----> 4\u001b[1;33m \u001b[0mprint\u001b[0m\u001b[1;33m(\u001b[0m\u001b[1;34m'perplexity on the test set {}'\u001b[0m\u001b[1;33m.\u001b[0m\u001b[0mformat\u001b[0m\u001b[1;33m(\u001b[0m\u001b[0mperplexity\u001b[0m\u001b[1;33m(\u001b[0m\u001b[0msimple_good_turing_lm\u001b[0m\u001b[1;33m,\u001b[0m \u001b[1;36m2\u001b[0m\u001b[1;33m,\u001b[0m \u001b[0mtest_tokens_with_padding\u001b[0m\u001b[1;33m)\u001b[0m\u001b[1;33m)\u001b[0m\u001b[1;33m)\u001b[0m\u001b[1;33m\u001b[0m\u001b[1;33m\u001b[0m\u001b[0m\n\u001b[0m",
      "\u001b[1;32m<ipython-input-15-6542362a90e0>\u001b[0m in \u001b[0;36mperplexity\u001b[1;34m(lm, n, text)\u001b[0m\n\u001b[0;32m     20\u001b[0m \u001b[1;33m\u001b[0m\u001b[0m\n\u001b[0;32m     21\u001b[0m \u001b[1;32mdef\u001b[0m \u001b[0mperplexity\u001b[0m\u001b[1;33m(\u001b[0m\u001b[0mlm\u001b[0m\u001b[1;33m,\u001b[0m \u001b[0mn\u001b[0m\u001b[1;33m,\u001b[0m \u001b[0mtext\u001b[0m\u001b[1;33m)\u001b[0m\u001b[1;33m:\u001b[0m\u001b[1;33m\u001b[0m\u001b[1;33m\u001b[0m\u001b[0m\n\u001b[1;32m---> 22\u001b[1;33m     \u001b[1;32mreturn\u001b[0m \u001b[0mpow\u001b[0m\u001b[1;33m(\u001b[0m\u001b[1;36m2.0\u001b[0m\u001b[1;33m,\u001b[0m \u001b[0mentropy\u001b[0m\u001b[1;33m(\u001b[0m\u001b[0mlm\u001b[0m\u001b[1;33m,\u001b[0m \u001b[0mn\u001b[0m\u001b[1;33m,\u001b[0m \u001b[0mtext\u001b[0m\u001b[1;33m)\u001b[0m\u001b[1;33m)\u001b[0m\u001b[1;33m\u001b[0m\u001b[1;33m\u001b[0m\u001b[0m\n\u001b[0m",
      "\u001b[1;31mOverflowError\u001b[0m: (34, 'Result too large')"
     ]
    }
   ],
   "source": [
    "## Test LM with Good-Turing estimator - report perplexity.\n",
    "simple_good_turing_lm = train_word_lm(train_tokens, n=2, estimator=nltk.SimpleGoodTuringProbDist, bins=vocabulary_size)\n",
    "test_tokens_with_padding = add_padding(train_tokens)\n",
    "print('perplexity on the test set {}'.format(perplexity(simple_good_turing_lm, 2, test_tokens_with_padding)))"
   ]
  },
  {
   "cell_type": "markdown",
   "metadata": {},
   "source": [
    "To assess the success of these LMs, we compare our result with a set of baselines:\n",
    "* the expected results on a uniform distribution of words (worst case) \n",
    "* recent research results reported in research paper on language models that you can find in Google Scholar tested on the Penn Treebank dataset."
   ]
  },
  {
   "cell_type": "markdown",
   "metadata": {},
   "source": [
    "<a name=\"gen\"></a>\n",
    "<h4>1.3.5 Generating Text from a Language Model</h4>\n",
    "\n",
    "Another way to evaluate a language model is to use the model in a generative manner - that is, to randomly sample\n",
    "sentences starting from a seed prefix, and generating each next word by sampling from the model distribution $p(w | prefix)$.\n",
    "\n",
    "Discuss ways to decide when the generation should stop."
   ]
  },
  {
   "cell_type": "code",
   "execution_count": null,
   "metadata": {},
   "outputs": [],
   "source": [
    "# Define generate(model, seed) \n",
    "\n",
    "# Test generate it on the best model trained above\n",
    "\n",
    "def generate(model, seed, n):\n",
    "    seed_with_padding = add_padding(seed, n)\n",
    "    new_word = model[seed_with_padding].generate()"
   ]
  },
  {
   "cell_type": "markdown",
   "metadata": {},
   "source": [
    "When we sample from the LM given a history, we do not pick the most likely word generated by the LM, otherwise the generator would be deterministic.  Instead, we use <a href=\"https://www.nltk.org/api/nltk.html#nltk.probability.ProbDistI.generate\">nltk.ProbDistI.generate()</a>.  \n",
    "* Explain what is expected from this method of text generation."
   ]
  },
  {
   "cell_type": "markdown",
   "metadata": {},
   "source": [
    "We experiment with a variety of seeds.  \n",
    "\n",
    "We first test the case where ....\n",
    "\n",
    "Then the case where ....\n",
    "\n",
    "Analyze your observations."
   ]
  },
  {
   "cell_type": "markdown",
   "metadata": {},
   "source": [
    "<h4>Optional material</h4>\n",
    "\n",
    "One way to control the variety of the text generated by an LM is to introduce a parameter called the <i>temperature</i>\n",
    "of the generator which allows us to sample words randomly according to the distribution produced by the LM (that is, we do not \n",
    "always select the most likely candidate - we sample from the distribution produced by the LM).  \n",
    "    \n",
    "<a href=\"https://nlp.stanford.edu/blog/maximum-likelihood-decoding-with-rnns-the-good-the-bad-and-the-ugly/\">Maximum Likelihood Decoding with RNNs - the good, the bad, and the ugly</a> by Russell Stewart (2016) explains how a temperature argument can control the level of variability generated by the model.  \n",
    "\n",
    "The idea is ... (summarize the post).\n",
    "\n",
    "<a href=\"https://github.com/sameersingh/uci-statnlp/blob/master/hw2/generator.py\">generator.py</a> from Sameer Sing demonstrates a method to generate from a LM with a temperature parameter.  \n",
    "\n",
    "Explain how the code in this method corresponds to the mathematical explanation provided in the blog above."
   ]
  },
  {
   "cell_type": "markdown",
   "metadata": {},
   "source": [
    "<a name=\"nn-lm\"></a>\n",
    "<h3>1.4 Character language model</h3>\n",
    "\n",
    "It is interesting to compare word-based and character-based language models.\n",
    "On the one hand, character-based models need to predict a much smaller range of options (one character out of ~100 possible characters vs. one word out of 200K possible words - or 10K in the example we reviewed above).  \n",
    "On the other hand, we need to maintain a much longer history of characters to obtain a significant memory of the context which would make sense semantically.\n",
    "\n",
    "\n",
    "<a name=\"effectiveness\"></a>\n",
    "<h4>1.4.1 Read and Summarize</h4>\n",
    "\n",
    "<h5>1.4.1.1 <a href=\"http://karpathy.github.io/2015/05/21/rnn-effectiveness/\">The Unreasonable Effectiveness of Recurrent Neural Networks</a>, May 21, 2015, Andrej Karpathy </h5>\n",
    "\n",
    "The article’s author claims that RNNs have surprising power for NLP tasks – acting as character level language model.\n",
    "\n",
    "The uniqueness of RNNs over other neural networks is because they work on sequences of inputs – if we think of RNN as a function, the result of the function is not dependent only on the current input, but on all previous inputs. Therefore, they have more power over regular LMs, which are based on N-grams, with a fixed amount of previous word taken into account (while RNNs can take all history into account).\n",
    "\n",
    "Since the author used RNNs as LMs, he can generate words, from given history. That’s way he generated not only words, but whole articles, in different styles, and even almost-perfect structured text, like LaTeX and even “Linux” source code.\n",
    "\n",
    "We know that according to Chomsky's hierarchy of languages the most expressive languages are recursively enumerable languages, which can be modeled by a Turing Machine. RNNs have only finite memory, therefore, they can be thought of them as FSMs, capable of handling only regular languages. Thus, it’s quite surprising that RNNs can “know” arbitrary languages.\n",
    "\n",
    "It’s interesting that the author of the article is working on character level; while according to what we’ve learnt we would have expected better results with word based RNNs. He briefly mentions that “Currently it seems that word-level models work better than character-level models, but this is surely a temporary thing.” We don’t understand this claim, and we are not sure that it proved itself to be true.\n"
   ]
  },
  {
   "cell_type": "markdown",
   "metadata": {},
   "source": [
    "<h5>1.4.1.1 The follow-up article: The unreasonable effectiveness of Character-level Language Models (and why RNNs are still cool) </h5>\n",
    "<a href=\"http://nbviewer.jupyter.org/gist/yoavg/d76121dfde2618422139\">The unreasonable effectiveness of Character-level Language Models (and why RNNs are still cool)</a>, Sept 2015, Yoav Goldberg.  \n",
    "\n",
    "In this article Goldberg claims that there’s actually nothing special about most of the results shown by the “The Unreasonable Effectiveness of Recurrent Neural Networks” article. The generative power of traditional n-grams based LMs, with order of no more than 10, is already impressing, and generates nice and readable texts. The RNNs aren’t worse; but neither are they better in that aspect. Thus, “The Unreasonable Effectiveness of Recurrent Neural Networks” examples of Paul Graham’s style texts, or Shakespearean style text, have nothing really new in them, and Goldberg demonstrates his own “new” Shakespearean text.\n",
    "\n",
    "However, the thing that is really impressing about RNNs isn’t their mere power of generating text, but their power of generating structured text, such as the Linux code example. When he tried to generate similar code with LMs, it miserably failed with order of 10 (that was good enough to create “a new Shakespeare text”) , and even with order of 20, it created better results, but still failed with things like indentation and brackets – which RNNs done pretty much OK. That’s the point where RNNs “memory” gave much better results than the LMs “short memory”. Thus, in structured text RNNs excels and indeed worthy the “Unreasonable Effectiveness” title.\n"
   ]
  },
  {
   "cell_type": "markdown",
   "metadata": {},
   "source": [
    "<a name=\"recipes\"></a>\n",
    "<h4>1.4.2 Recipes with a Character LM</h4>\n",
    "\n",
    "Strikingly realistic output can be generated when training a character language-model on a strongly-constrained genre of text like cooking recipes.\n",
    "Train your n-gram model on the dataset provided in \n",
    "<a href=\"https://gist.github.com/nylki/1efbaa36635956d35bcc\">do androids dream of cooking?</a> which contains about 32K recipes gathered from the Internet."
   ]
  },
  {
   "cell_type": "markdown",
   "metadata": {},
   "source": [
    "Gather the recipes dataset and prepare a dataset reader according to the structure of the files."
   ]
  },
  {
   "cell_type": "code",
   "execution_count": 26,
   "metadata": {},
   "outputs": [
    {
     "name": "stdout",
     "output_type": "stream",
     "text": [
      "MMMMM----- Recipe via Meal-Master (tm) v8.05\n",
      " \n",
      "      Title: \"BE MINE\" LOLLIPOPS\n",
      " Categories: Candies, Valentine\n",
      "      Yield: 8 Servings\n",
      " \n",
      "           Text only\n",
      " \n",
      "  Source: Better Homes and Gardens, Febuary 1998 Prep time: 20 minutes\n",
      "  Cook: 6 to 8 minutes\n",
      "  \n",
      "  2 1/2 to 3 1/2-inch round or heart-shaped metal cookie cutters 8 oz.\n",
      "  assorted red, pink, and/or clearhard candies 35 to 60 (2 to 3 oz.)\n",
      "  assorted small decorative candies, such as red cinnamon candies,\n",
      "  small nonpareils, colored candy hearts, spice drops, and gumdrops\n",
      "  Edible rose petals or other flower petals (optional) Lollipop sticks\n",
      "  \n",
      "  Place unwrapped hard candies in a heavy plastic bag, then place bag\n",
      "  on top of folded towel and crush candies into small chunks wiht meat\n",
      "  mallet or small hammer.\n",
      "  \n",
      "  Make only three or four lollipops at one time.  Line a baking sheet\n",
      "  with foil.  Place desired cookie cutters on foil, at least 2 inches\n",
      "  apart. Divide crushed candies evenly among cutters, approximately 1\n",
      "  1/2 to 2 tablespoons per lollipop.  Candy layer should be 1/4 to 1/2\n",
      "  inch thick. Add small decorative candies or edible rose or other\n",
      "  flower petals to crushed candies.  (If using flower petals, make sure\n",
      "  they are covered with a layer of the crushed candy.)\n",
      "  \n",
      "  Bake in a 350 degree oven for 6 to 8 minutes or till candies are\n",
      "  completely melted.  Col 30 seconds.  Remove cookie cutters with\n",
      "  tongs, allowing melted candy to spread slightly.\n",
      "  \n",
      "  Quickly attach a stick to base of each lollipop, twisting the stick to\n",
      "  cover lollipop end with melted candy.  If desired, press more small\n",
      "  candies or flower petals into hot lolipops.  Cool.  Peel foil from\n",
      "  lollipops. Makes 8\n",
      " \n",
      "MMMMM\n",
      " \n",
      "\n"
     ]
    }
   ],
   "source": [
    "dataset = []\n",
    "for (dirpath, dirnames, filenames) in os.walk('../data/recipes_dataset'):\n",
    "    for file in filenames:\n",
    "        with open(os.path.join('../data/recipes_dataset', file), encoding='utf-8', errors='ignore') as file:\n",
    "            dataset.append(file.read())\n",
    "print(dataset[0][:1685])"
   ]
  },
  {
   "cell_type": "markdown",
   "metadata": {},
   "source": [
    "we can see that a recipe starts with MMMMM---- and ends with MMMMM , we need to construct an expression which captures this pattern"
   ]
  },
  {
   "cell_type": "code",
   "execution_count": 27,
   "metadata": {},
   "outputs": [
    {
     "name": "stdout",
     "output_type": "stream",
     "text": [
      "MMMMM----- Recipe via Meal-Master (tm) v8.05\n",
      " \n",
      "      Title: \"BE MINE\" LOLLIPOPS\n",
      " Categories: Candies, Valentine\n",
      "      Yield: 8 Servings\n",
      " \n",
      "           Text only\n",
      " \n",
      "  Source: Better Homes and Gardens, Febuary 1998 Prep time: 20 minutes\n",
      "  Cook: 6 to 8 minutes\n",
      "  \n",
      "  2 1/2 to 3 1/2-inch round or heart-shaped metal cookie cutters 8 oz.\n",
      "  assorted red, pink, and/or clearhard candies 35 to 60 (2 to 3 oz.)\n",
      "  assorted small decorative candies, such as red cinnamon candies,\n",
      "  small nonpareils, colored candy hearts, spice drops, and gumdrops\n",
      "  Edible rose petals or other flower petals (optional) Lollipop sticks\n",
      "  \n",
      "  Place unwrapped hard candies in a heavy plastic bag, then place bag\n",
      "  on top of folded towel and crush candies into small chunks wiht meat\n",
      "  mallet or small hammer.\n",
      "  \n",
      "  Make only three or four lollipops at one time.  Line a baking sheet\n",
      "  with foil.  Place desired cookie cutters on foil, at least 2 inches\n",
      "  apart. Divide crushed candies evenly among cutters, approximately 1\n",
      "  1/2 to 2 tablespoons per lollipop.  Candy layer should be 1/4 to 1/2\n",
      "  inch thick. Add small decorative candies or edible rose or other\n",
      "  flower petals to crushed candies.  (If using flower petals, make sure\n",
      "  they are covered with a layer of the crushed candy.)\n",
      "  \n",
      "  Bake in a 350 degree oven for 6 to 8 minutes or till candies are\n",
      "  completely melted.  Col 30 seconds.  Remove cookie cutters with\n",
      "  tongs, allowing melted candy to spread slightly.\n",
      "  \n",
      "  Quickly attach a stick to base of each lollipop, twisting the stick to\n",
      "  cover lollipop end with melted candy.  If desired, press more small\n",
      "  candies or flower petals into hot lolipops.  Cool.  Peel foil from\n",
      "  lollipops. Makes 8\n",
      " \n",
      "MMMMM\n"
     ]
    }
   ],
   "source": [
    "from nltk.tokenize import RegexpTokenizer\n",
    "tokenizer = RegexpTokenizer('MMMMM-----.*?MMMMM$')\n",
    "recipies = []\n",
    "for recipe in dataset:\n",
    "    recipies.extend(tokenizer.tokenize(recipe))\n",
    "print(recipies[0])"
   ]
  },
  {
   "cell_type": "markdown",
   "metadata": {},
   "source": [
    "Report basic statistics about the dataset (number of recipes, tokens, characters, vocabulary size, distribution of the size of recipes in words and in chars, distribution of length of words)."
   ]
  },
  {
   "cell_type": "code",
   "execution_count": 39,
   "metadata": {},
   "outputs": [
    {
     "name": "stdout",
     "output_type": "stream",
     "text": [
      "number of recipes is the data set : 32963\n",
      "number of tokens in the dataset : 5852065\n"
     ]
    }
   ],
   "source": [
    "print('number of recipes is the data set : {}'.format(len(recipies)))\n",
    "tokenized_recipies = []\n",
    "for recipe in recipies:\n",
    "    tokenized_recipies.append(WhitespaceTokenizer().tokenize(recipe))\n",
    "number_of_tokens = sum([len(recipe) for recipe in tokenized_recipies])\n",
    "print('number of tokens in the dataset : {}'.format(number_of_tokens))"
   ]
  },
  {
   "cell_type": "code",
   "execution_count": 29,
   "metadata": {},
   "outputs": [
    {
     "name": "stdout",
     "output_type": "stream",
     "text": [
      "150949\n"
     ]
    }
   ],
   "source": [
    "vocabulary_size = len(set([y for x in tokenized_recipies for y in x]))\n",
    "print(vocabulary_size)"
   ]
  },
  {
   "cell_type": "markdown",
   "metadata": {},
   "source": [
    "we can see that we got a huge number, and that is beacuse we didnt do any preprocessing to dataset, in order to currectly measure the vocabulary size , we need to remove numbers and special chars and also lower the strings so there wont be any diffrence between the and The."
   ]
  },
  {
   "cell_type": "code",
   "execution_count": 30,
   "metadata": {},
   "outputs": [
    {
     "name": "stdout",
     "output_type": "stream",
     "text": [
      "78956\n"
     ]
    }
   ],
   "source": [
    "import re\n",
    "lower_recipies = [y.lower() for x in tokenized_recipies for y in x]\n",
    "without_special_char = set([re.sub('[^A-Za-z]+', '', string) for recipe in tokenized_recipies for string in recipe])\n",
    "vocabulary_size = len(without_special_char)\n",
    "print(vocabulary_size)"
   ]
  },
  {
   "cell_type": "code",
   "execution_count": 31,
   "metadata": {},
   "outputs": [
    {
     "name": "stdout",
     "output_type": "stream",
     "text": [
      "99\n"
     ]
    }
   ],
   "source": [
    "number_of_chars = set(x for recipe in tokenized_recipies for string in recipe for x in string)\n",
    "print(len(number_of_chars))"
   ]
  },
  {
   "cell_type": "code",
   "execution_count": 33,
   "metadata": {},
   "outputs": [
    {
     "name": "stdout",
     "output_type": "stream",
     "text": [
      "177.53435670297\n",
      "95.63421891115212\n"
     ]
    }
   ],
   "source": [
    "average_words_in_recipe = sum([len(recipe) for recipe in tokenized_recipies]) / len(tokenized_recipies)\n",
    "print(average_words_in_recipe)\n",
    "std_words_in_recipe = np.std([len(recipe) for recipe in tokenized_recipies])\n",
    "print(std_words_in_recipe)"
   ]
  },
  {
   "cell_type": "code",
   "execution_count": 37,
   "metadata": {},
   "outputs": [
    {
     "name": "stdout",
     "output_type": "stream",
     "text": [
      "849.9724843005795\n",
      "449.01228751877915\n"
     ]
    }
   ],
   "source": [
    "average_chars_in_recipe = sum([len(word) for recipe in tokenized_recipies for word in recipe]) / len(tokenized_recipies)\n",
    "print(average_chars_in_recipe)\n",
    "std_chars_in_recipe = np.std([sum([len(word) for word in recipe]) for recipe in tokenized_recipies])\n",
    "print(std_chars_in_recipe)"
   ]
  },
  {
   "cell_type": "code",
   "execution_count": 44,
   "metadata": {},
   "outputs": [
    {
     "name": "stdout",
     "output_type": "stream",
     "text": [
      "4.787650683989327\n",
      "3.220266831664587\n"
     ]
    }
   ],
   "source": [
    "average_length_of_words_in_recipe = sum([len(word) for recipe in tokenized_recipies for word in recipe]) / number_of_tokens\n",
    "print(average_length_of_words_in_recipe)\n",
    "std_length_of_words_in_recipe = np.std([len(word) for recipe in tokenized_recipies for word in recipe])\n",
    "print(std_length_of_words_in_recipe)"
   ]
  },
  {
   "cell_type": "markdown",
   "metadata": {},
   "source": [
    "Split the dataset into training, dev and test as a 80%/10%/10% split.  Provide a Python interface to access the split conveniently."
   ]
  },
  {
   "cell_type": "code",
   "execution_count": 101,
   "metadata": {},
   "outputs": [
    {
     "name": "stdout",
     "output_type": "stream",
     "text": [
      "MMMMM----- Recipe via Meal-Master (tm) v8.05\n",
      " \n",
      "      Title: CHERRY NUT BREAD\n",
      " Categories: Breads\n",
      "      Yield: 6 Servings\n",
      " \n",
      "      1 c  Brown sugar\n",
      "    1/4 c  Margarine\n",
      "      1 ea Egg\n",
      "      2 c  Flour\n",
      "      2 ts Baking powder\n",
      "      1 ts Salt\n",
      "      1 cn Dalton cherries small jar\n",
      "    1/2 c  Walnuts\n",
      " \n",
      "  cream sugar & margarine. add egg, sift flour baking powder and salt.\n",
      "  In cup put juice of cherries and fill cup with milk. Add milk mixture\n",
      "  alternately with flour adding cut up cherries & nuts with each\n",
      "  portion of flour. Bake in 350 F oven in loaf pan 1 hour or until\n",
      "  toothpick comes out clean.\n",
      " \n",
      "MMMMM\n"
     ]
    }
   ],
   "source": [
    "def split_dataset(dataset):\n",
    "    random.shuffle(dataset)\n",
    "    train_size = math.ceil(0.8 * len(dataset))\n",
    "    valid_size = math.ceil(0.1 * len(dataset)) + train_size\n",
    "    train = dataset[:train_size]\n",
    "    valid = dataset[train_size: valid_size]\n",
    "    test = dataset[valid_size:]\n",
    "    return train, valid, test\n",
    "\n",
    "train, valid, test = split_dataset(recipies)\n",
    "print(train[0])"
   ]
  },
  {
   "cell_type": "markdown",
   "metadata": {},
   "source": [
    "Choose the order of the char n-gram according to the indications given in Yoav Goldberg's article.  \n",
    "Justify the choice (you should use the dev test for this)."
   ]
  },
  {
   "cell_type": "markdown",
   "metadata": {},
   "source": [
    "from yoav goldberg's article i learned that we need to choose n which is larger then 4 but there isn't really a formula of chosing it , we try and if it doesn't work than we increase n to somthing larger"
   ]
  },
  {
   "cell_type": "markdown",
   "metadata": {},
   "source": [
    "Train a char language model using your LM mode adapted to work on characters instead of words."
   ]
  },
  {
   "cell_type": "markdown",
   "metadata": {},
   "source": [
    "we will start with n = 4 , lets see the generated result. one importent detail is after some trail and error i found out that i get the best result if i use padding on each recipe, by that the model seems to learn some kind of structure of the recipe."
   ]
  },
  {
   "cell_type": "code",
   "execution_count": 113,
   "metadata": {},
   "outputs": [
    {
     "name": "stdout",
     "output_type": "stream",
     "text": [
      "MMMMM****MMMM****MMMMMM****MMMMMM****MMMM----- Recipe By        -Kyllis with onion.  To seconomics or until first\n",
      "  board. Set in a microwave\n",
      " \n",
      "MMMM*****MMMM****MMMM---- Recipe via Meal-Master or a steamed milk mixture diced\n",
      "    1 1/2 tb Fine inse wafers and set aside. 3. Bring soda and\n",
      "     3/4 c  Butter and let simmer and leek. Poultry brown.  Add\n",
      "  mixtures\n",
      "    1 lb Butter\n",
      " \n",
      "  *Do not red --\n",
      "    3    Beated and Tabasco\n",
      "    Eggs\n",
      " \n",
      "  TO MAKER QUICK BEANS (HERS\n",
      " Categories: Frients; simmedium-high heat to 5 minutes. Set aside.  Stir until in plate chips over\n",
      "      Yield: 4 Serve wings\n",
      " \n",
      "  Frosting Mix, 3 greast; grill 1 jalapeno pepper; scallis@oxygen.aps1.anl.gov (Danis)\n",
      "    Eggs; half in a wool.\n",
      "  :    1 ea Greasts with remaining outer (tm) v8.05\n",
      " \n",
      "  At lost curls once.\n",
      "  \n",
      "  Potatoes evaporates on fold table oil\n",
      "      3 times.\n",
      "  \n",
      "  1 barbecue wheat oil. Cut and simmer and stick into 2 x  Caraway for spoon on\n",
      "     Yield: 1 ts Vanilla,\n",
      "  pull Puree all dry packen spoon baked. Sticking potatoes to\n",
      "  cook long springs\n",
      " \n",
      "    Title: CARAMEL (YUM! 3 tb Ripe via Meal\n",
      "  thyme, brushed rice. Cover with a table for servings\n",
      " \n",
      "       3/4 c  Place flour; unpeel, Detroot\n",
      "  almonds of Bajra\n",
      "  2 tb Butter\n",
      "            Yield: 1 Serve\n",
      "  skillets serve fry 1996 Posted. Add be mangourmer\n",
      "    3 c  Milk\n",
      "  years; peeled, if it\n",
      "  \n",
      "  Makes cornstantly until tender. Stir flour\n",
      "    Title: CIUFFED WINE: GRILLING:\n",
      "  \n",
      "    2 tb Dried applesauces\n",
      "     120 Frostin over  Purpose floured on extra virgin a blender and milk. Pour crushed with water\n",
      "  jphelps@shell cut it is OK put outer with the water.\n",
      "  \n",
      "  Pour in in a large\n",
      "\n",
      "MMMM--------------- Recipe via Meats into make it water, plungently for\n",
      "    3    4 servings\n",
      " \n",
      "    1 tb Ea. onion with slight. Combine milling *P CRBR 38 A\n",
      " \n",
      "MMMM------- Recipe via Meal-Master or\n",
      "    Seed\n",
      "  vaniature, shredded. Corian Saucepan altern Camotest of water; also ungredients with mince\n",
      "  bowl within style. Drained\n",
      "    1 tb Lime zest\n",
      "   Medium heat the top on paper char\n"
     ]
    }
   ],
   "source": [
    "def combine_recipies(dataset):\n",
    "    return [char for recipe in dataset for char in recipe]\n",
    "\n",
    "def tokenize_recipe(recipe):\n",
    "    return [char for char in recipe]\n",
    "\n",
    "def prepare_recipe_dataset(dataset, n):\n",
    "    dataset_with_padding = []\n",
    "    for recipe in dataset:\n",
    "        dataset_with_padding.append(add_padding(tokenize_recipe(recipe), n))\n",
    "    combined_recipies = combine_recipies(dataset_with_padding)\n",
    "    return [(tuple(combined_recipies[i : i + n]), combined_recipies[i + n]) for i in range(len(combined_recipies) - n)]\n",
    "\n",
    "def train_char_lm(dataset, n, estimator=nltk.MLEProbDist, **kwargs):\n",
    "    char_grams = prepare_recipe_dataset(dataset, n)\n",
    "    return create_lm(char_grams, estimator, **kwargs)\n",
    "    \n",
    "def generate_samples(lm, n, letters):\n",
    "    hist = ['*' for i in range(n)]\n",
    "    out = []\n",
    "    for _ in range(letters):\n",
    "        word = lm[tuple(hist)].generate()\n",
    "        hist = hist[1:]\n",
    "        hist.append(word)\n",
    "        out.append(word)\n",
    "    return ''.join(out)\n",
    "\n",
    "n = 4\n",
    "lm = train_char_lm(train, n=n)\n",
    "print(generate_samples(lm, n, 2000))"
   ]
  },
  {
   "cell_type": "markdown",
   "metadata": {},
   "source": [
    "it's readable but still doesn't look good, the structure is all wrong , lets try n = 7:"
   ]
  },
  {
   "cell_type": "code",
   "execution_count": 117,
   "metadata": {},
   "outputs": [
    {
     "name": "stdout",
     "output_type": "stream",
     "text": [
      "*MMMMM----- Recipes. 3 working in each side,then dump couscous with sliced\n",
      " \n",
      "  In a medium heat,\n",
      "  onion until smooth batter into gelatin completelyon a rack to a large stock,\n",
      "  smooth and bake for 15 minutes. Add a little lemon juice\n",
      "      Title: CRAIG CLAIBORNE'S NOTE:  I used to individual casserole:\n",
      "  \n",
      "  From:\n",
      " \n",
      "MMMMM********MMMMM----- Recipe via Meal-Master (tm) v8.05\n",
      " \n",
      "    1/4 ts Pepper\n",
      "      2 ts Cornstarch\n",
      "      Yield: 4 Servings\n",
      " \n",
      "MMMMM----- Recipe via Meal-Master (tm) v8.05\n",
      " \n",
      "            Fresh mint sprigs, if desired. 12 Pour batter\n",
      "           or spreading whatever is very delicious)\n",
      "            -trussing nutmeg and mix well. In\n",
      "  small jar with crab meat with nutmeg\n",
      "      1 pk Puff pastry browned and cheese, soften, until\n",
      "  light and diced Ham -- thinly\n",
      "      1 c  Whipped cream\n",
      "  and water, if\n",
      "  desired.\n",
      "  \n",
      "  Country Magazine, July, Ovo lacto\n",
      "      Title: DUNDEE CAKE (GELB KUCHEN\n",
      " Categories: Vegetarian, Sauces, Pasta\n",
      "                                      Layer them with 3\n",
      "  table:\n",
      "  \n",
      "  Recipe via Meal-Master (tm) v8.05\n",
      " \n",
      "      Title: CHEESECAKE\n",
      " Categories: Breadmaker, Solon,\n",
      "  Onion, chopped fresh fruit.  Mix Cornstarch\n",
      "    1 1/2 to 2 hours so they will fall apart on angle\n",
      "  onto serve.\n",
      "  \n",
      "  Soak the eggs, one at a time, until the\n",
      "  ginger baking soda\n",
      "    1/8 ts Ground cloves\n",
      "      2    Garlic cloves\n",
      "    1/2 c  Finely chopped. Add eggs,\n",
      "  mixing well and processor until desired.\n",
      " \n",
      "MMMMM*******MMMMM----- Recipe via Meal-Master (tm) v8.05\n",
      " \n",
      "      1    Cloves garlic in 1/4 cups.\n",
      "  \n",
      "  From: Jackie Bordelon <jbord@premier.Ne\n",
      " \n",
      "MMMMM*******MMMMM----- Recipe via Meal-Master (tm) v8.05\n",
      " \n",
      "      8    Coconut milk,\n",
      "  salt and place on low for 7 minutes before serving, brown syrup dropped onions, garlic, ginger\n",
      "      3 tb MELTED\n",
      "  MARGARINE\n",
      "      2    Eggs\n",
      "      1 tb Chopped green\n",
      "  to taste - it\n",
      "        Salt\n",
      " \n",
      "  Parboil pigs' tails on. This dressing\n",
      "  MMCONV and Sylvia Steiger, GEnie THE.STEIGERS, CI$ 71511,2253,\n",
      "  Internet\n",
      "  sylvia.steiger@lunatic.com, moderator \n"
     ]
    }
   ],
   "source": [
    "n = 7\n",
    "lm_7 = train_char_lm(train, n=n)\n",
    "print(generate_samples(lm_7, n, 2000))"
   ]
  },
  {
   "cell_type": "markdown",
   "metadata": {},
   "source": [
    "this one looks alot better then the previos one but we still get some syntax errors, lets try n=10:"
   ]
  },
  {
   "cell_type": "code",
   "execution_count": 118,
   "metadata": {},
   "outputs": [
    {
     "name": "stdout",
     "output_type": "stream",
     "text": [
      "MMMMM----- Recipe via Meal-Master (tm) v8.05\n",
      " \n",
      "      Title: ASPARAGUS SALAD WITH FENNEL & ORANGE SALAD\n",
      " Categories: Ice cream\n",
      "  scoop to fill mold 3/4 full.\n",
      "  \n",
      "  Beans and tomato cut in pieces in\n",
      "  about 35 minutes\n",
      "  \n",
      "  Place artichoke\n",
      "    1/4 c  Butter, softened\n",
      "          Cayenne pepper\n",
      "  \n",
      "  Score the surface, roll out to 18- x 6-inch rectangles. Place\n",
      "  the eggnog base is done but not brown. Remove from heat and starting with something else you\n",
      "  carve it. Using a pastry blender, place the margarine; melted\n",
      " \n",
      "  In a small bowl, combine 1/4 teaspoon of mixture a little\n",
      "  more flour and add half to eggs; beat for 2 minutes. Turn\n",
      "  the peppers and roll in butter, salt, and pepper to taste\n",
      "      1 lb Ham, cubed\n",
      "      1 tb Baking powder\n",
      "  1 1/4 c  Water, room temperature. Makes 3 cups. Courtesy of Bon\n",
      "  Appetit\n",
      "  \n",
      "  From the files of Al\n",
      "  Rice, North Pole Alaska.    Feb 1994\n",
      " \n",
      "MMMMM**********MMMMM---------------------------------------------------\n",
      "\n",
      "MMMMM----- Recipe via Meal-Master (tm) v8.05\n",
      " \n",
      "      Title: CROCKPOT SOUTHWESTERN BUTTER------------\n",
      "    1/4 c  Chopped nuts\n",
      "      1 c  White bread flour\n",
      "    1/2 c  Cornstarch\n",
      "    1/4 tb Sesame seed, toasted\n",
      "  buns and cook, stirring, 3 minutes. Form dough into 1-inch\n",
      "    square\n",
      "  baking dish. Brush well with cookie mixture to a boil & cook for 7\n",
      "  hours or overnight to\n",
      "  dark red gravy. Keep warm.\n",
      "  Serve immediately. By adding\n",
      "  carrots are limp. Add gravy, garlic, shallots in butter.\n",
      "  \n",
      "  Stir the salt and let stand one mint\n",
      "  cookies.  Walt MM\n",
      " \n",
      "MMMMM**********MMMMM----------------------------------\n",
      "      4 oz Rectangular or 12- to 15-inch oval ring.\n",
      " \n",
      "MMMMM**********MMMMM--------------------FROSTING-----------------------\n",
      "      1 ts Cinnamon,ground\n",
      "           -Monterey Jack\n",
      "        1 sm zucchini, onion, thyme\n",
      "  and rivals key lime pie for 30 minutes. Turn down and divide the mixture in the kitchen.  The proportion of salt\n",
      "      1 c  Cherry tomatoes\n",
      "    100 g  Sugar\n",
      "      2    Cans of beer.\n",
      " \n",
      "MMMMM**********MMMMM----- Re\n"
     ]
    }
   ],
   "source": [
    "n = 10\n",
    "lm_10 = train_char_lm(train, n=n)\n",
    "print(generate_samples(lm_10, n, 2000))"
   ]
  },
  {
   "cell_type": "markdown",
   "metadata": {},
   "source": [
    "we can see that the best result is with n=10, the stracture looks good and readable."
   ]
  },
  {
   "cell_type": "markdown",
   "metadata": {},
   "source": [
    "Report on the perplexity of the trained language model.  Comment on the value you observe compared to the perplexity of the word LM model obtained above."
   ]
  },
  {
   "cell_type": "code",
   "execution_count": 120,
   "metadata": {},
   "outputs": [
    {
     "name": "stdout",
     "output_type": "stream",
     "text": [
      "3861070\n"
     ]
    },
    {
     "ename": "OverflowError",
     "evalue": "(34, 'Result too large')",
     "output_type": "error",
     "traceback": [
      "\u001b[1;31m---------------------------------------------------------------------------\u001b[0m",
      "\u001b[1;31mOverflowError\u001b[0m                             Traceback (most recent call last)",
      "\u001b[1;32m<ipython-input-120-0763456e921b>\u001b[0m in \u001b[0;36m<module>\u001b[1;34m\u001b[0m\n\u001b[0;32m      1\u001b[0m \u001b[0mvalid_dataset\u001b[0m \u001b[1;33m=\u001b[0m \u001b[0mprepare_recipe_dataset\u001b[0m\u001b[1;33m(\u001b[0m\u001b[0mvalid\u001b[0m\u001b[1;33m,\u001b[0m \u001b[1;36m10\u001b[0m\u001b[1;33m)\u001b[0m\u001b[1;33m\u001b[0m\u001b[1;33m\u001b[0m\u001b[0m\n\u001b[1;32m----> 2\u001b[1;33m \u001b[0mprint\u001b[0m\u001b[1;33m(\u001b[0m\u001b[1;34m'perplexity with n=7 is {}'\u001b[0m\u001b[1;33m.\u001b[0m\u001b[0mformat\u001b[0m\u001b[1;33m(\u001b[0m\u001b[0mperplexity\u001b[0m\u001b[1;33m(\u001b[0m\u001b[0mlm_10\u001b[0m\u001b[1;33m,\u001b[0m \u001b[1;36m10\u001b[0m\u001b[1;33m,\u001b[0m \u001b[0mvalid_dataset\u001b[0m\u001b[1;33m)\u001b[0m\u001b[1;33m)\u001b[0m\u001b[1;33m)\u001b[0m\u001b[1;33m\u001b[0m\u001b[1;33m\u001b[0m\u001b[0m\n\u001b[0m",
      "\u001b[1;32m<ipython-input-15-6542362a90e0>\u001b[0m in \u001b[0;36mperplexity\u001b[1;34m(lm, n, text)\u001b[0m\n\u001b[0;32m     20\u001b[0m \u001b[1;33m\u001b[0m\u001b[0m\n\u001b[0;32m     21\u001b[0m \u001b[1;32mdef\u001b[0m \u001b[0mperplexity\u001b[0m\u001b[1;33m(\u001b[0m\u001b[0mlm\u001b[0m\u001b[1;33m,\u001b[0m \u001b[0mn\u001b[0m\u001b[1;33m,\u001b[0m \u001b[0mtext\u001b[0m\u001b[1;33m)\u001b[0m\u001b[1;33m:\u001b[0m\u001b[1;33m\u001b[0m\u001b[1;33m\u001b[0m\u001b[0m\n\u001b[1;32m---> 22\u001b[1;33m     \u001b[1;32mreturn\u001b[0m \u001b[0mpow\u001b[0m\u001b[1;33m(\u001b[0m\u001b[1;36m2.0\u001b[0m\u001b[1;33m,\u001b[0m \u001b[0mentropy\u001b[0m\u001b[1;33m(\u001b[0m\u001b[0mlm\u001b[0m\u001b[1;33m,\u001b[0m \u001b[0mn\u001b[0m\u001b[1;33m,\u001b[0m \u001b[0mtext\u001b[0m\u001b[1;33m)\u001b[0m\u001b[1;33m)\u001b[0m\u001b[1;33m\u001b[0m\u001b[1;33m\u001b[0m\u001b[0m\n\u001b[0m",
      "\u001b[1;31mOverflowError\u001b[0m: (34, 'Result too large')"
     ]
    }
   ],
   "source": [
    "valid_dataset = prepare_recipe_dataset(valid, 10)\n",
    "print('perplexity with n=7 is {}'.format(perplexity(lm_10, 10, valid_dataset)))"
   ]
  },
  {
   "cell_type": "markdown",
   "metadata": {},
   "source": [
    "we can see that we got bad results because we didn't use smoothing, we will use lidstone estimator now."
   ]
  },
  {
   "cell_type": "code",
   "execution_count": 32,
   "metadata": {},
   "outputs": [
    {
     "ename": "NameError",
     "evalue": "name 'train_char_lm' is not defined",
     "output_type": "error",
     "traceback": [
      "\u001b[1;31m---------------------------------------------------------------------------\u001b[0m",
      "\u001b[1;31mNameError\u001b[0m                                 Traceback (most recent call last)",
      "\u001b[1;32m<ipython-input-32-1663cd83ad87>\u001b[0m in \u001b[0;36m<module>\u001b[1;34m\u001b[0m\n\u001b[0;32m      1\u001b[0m \u001b[0mn\u001b[0m \u001b[1;33m=\u001b[0m \u001b[1;36m10\u001b[0m\u001b[1;33m\u001b[0m\u001b[1;33m\u001b[0m\u001b[0m\n\u001b[1;32m----> 2\u001b[1;33m \u001b[0mlm_10\u001b[0m \u001b[1;33m=\u001b[0m \u001b[0mtrain_char_lm\u001b[0m\u001b[1;33m(\u001b[0m\u001b[0mtrain\u001b[0m\u001b[1;33m,\u001b[0m \u001b[0mn\u001b[0m\u001b[1;33m=\u001b[0m\u001b[0mn\u001b[0m\u001b[1;33m,\u001b[0m \u001b[0mestimator\u001b[0m\u001b[1;33m=\u001b[0m\u001b[0mnltk\u001b[0m\u001b[1;33m.\u001b[0m\u001b[0mLidstoneProbDist\u001b[0m\u001b[1;33m,\u001b[0m \u001b[0mbins\u001b[0m\u001b[1;33m=\u001b[0m\u001b[1;36m99\u001b[0m\u001b[1;33m,\u001b[0m \u001b[0mgamma\u001b[0m\u001b[1;33m=\u001b[0m\u001b[1;36m0.1\u001b[0m\u001b[1;33m)\u001b[0m\u001b[1;33m\u001b[0m\u001b[1;33m\u001b[0m\u001b[0m\n\u001b[0m\u001b[0;32m      3\u001b[0m \u001b[0mprint\u001b[0m\u001b[1;33m(\u001b[0m\u001b[0mgenerate_samples\u001b[0m\u001b[1;33m(\u001b[0m\u001b[0mlm_10\u001b[0m\u001b[1;33m,\u001b[0m \u001b[0mn\u001b[0m\u001b[1;33m,\u001b[0m \u001b[1;36m2000\u001b[0m\u001b[1;33m)\u001b[0m\u001b[1;33m)\u001b[0m\u001b[1;33m\u001b[0m\u001b[1;33m\u001b[0m\u001b[0m\n",
      "\u001b[1;31mNameError\u001b[0m: name 'train_char_lm' is not defined"
     ]
    }
   ],
   "source": [
    "n = 10\n",
    "lm_10 = train_char_lm(train, n=n, estimator=nltk.LidstoneProbDist, bins=99, gamma=0.1)\n",
    "print(generate_samples(lm_10, n, 2000))"
   ]
  },
  {
   "cell_type": "code",
   "execution_count": 123,
   "metadata": {},
   "outputs": [
    {
     "name": "stdout",
     "output_type": "stream",
     "text": [
      "0\n",
      "perplexity with n=7 is 149.99980540848813\n"
     ]
    }
   ],
   "source": [
    "valid_dataset = prepare_recipe_dataset(valid, 10)\n",
    "print('perplexity with n=10 is {}'.format(perplexity(lm_10, 10, valid_dataset)))"
   ]
  },
  {
   "cell_type": "markdown",
   "metadata": {},
   "source": [
    "well the number seems kind of low, but we know that we have about 200 options, if we choose randomly we will get a number which is pretty close to that one, so the results are not great."
   ]
  },
  {
   "cell_type": "markdown",
   "metadata": {},
   "source": [
    "Sample about 5 generated recipes from the trained language model."
   ]
  },
  {
   "cell_type": "code",
   "execution_count": 137,
   "metadata": {},
   "outputs": [
    {
     "name": "stdout",
     "output_type": "stream",
     "text": [
      "MMMMM----- Recipe via Meal-Master (tm) v8.05\n",
      " \n",
      "      Title: FRESH YAMS IN ORANGE-BASIL BUTTERED HONEY NUT OAT BISCOTTI\n",
      " Categories: Pork\n",
      "                     Diced\n",
      "  1 3/4 c  Grated, peeled and roughly charred and cooled\n",
      "      3 tb Poppy Seeds\n",
      "  2 1/2 c  Flour\n",
      "    1/8 ts GROUND GINGER\n",
      " Categories: Poultry\n",
      "      Yield: 6 Servings\n",
      " \n",
      "      5 c  Water\n",
      "      1 ts Table salt\n",
      "         -pepperoni or\n",
      "  cornstarch, allspice.  Stir until\n",
      "  creamy flavor to decide how soft you like;\n",
      "  a very rich, so if you have handled with caramelizing Sweetened Coconut\n",
      "  1 2/3 tb Lemon juice\n",
      "      4    Dozen eggs\n",
      "    3/4 c  Water\n",
      "      1 ts Thin soy sauce, vinegar and sundried tomatoe\n",
      " \n",
      "  Mix pudding mix. 7.\n",
      "  Gradually stir in endive.\n",
      "  \n",
      "  Usually, you should have 12 to 15 minutes or until doubled -- about 4\n",
      "           temperature guesstimated, Boil Water Show #8354\n",
      "  \n",
      "  From: On the Wild Thyme Grows\" article\n",
      "  \"Straight From The New Yorker Magazine 1/97\n",
      "  \n",
      "  COMBINE BUTTER, SUGAR AND\n",
      "  SERVE OT STORE.\n",
      " \n",
      "MMMMM\n",
      "MMMMM----- Recipe via Meal-Master (tm) v8.05\n",
      " \n",
      "      Title: BISCUIT-TOPPED DEEP-DISH BURRITOS\n",
      " Categories: Main dish, Cheese/eggs\n",
      "      1 c  Chopped fresh dill, minced\n",
      "      3 lg Eggs;\n",
      "      1 md Onion; peeled and devein shrimp.Marinate fish for holy days in Medieval Cookbook.\n",
      "  \n",
      "  SAUCE: Mix 1/2 c. sugar and stir 2\n",
      "  minutes. Carefully remove. Keep the\n",
      "  mixture to a boil and allow sauce to thicken.Bring to boil. Drop half-teaspoons salt, oil and\n",
      "  cook on each side, or until dough does not\n",
      "  too sweet, I made this, I used 1 cup water, blending well, until liquid\n",
      "  is gone. While the dough in a bowl.  Let stand for about 1 week in\n",
      "  refrigerate covered in microwave, Chili\n",
      "          - thawed\n",
      "    1/4 c  Sugar\n",
      " \n",
      "  Prepare 8 small nests on the lime juice, liquid, so this stew\n",
      "  seems Mexican sausage, spoon mixture),\n",
      "      1 x  PAN JUICES FROM CHILE-HEADS DIGEST\n",
      "  \n",
      "  From:  The Best Bagels are best. Bake an additional grated parmesan cheese; grated\n",
      "          Halves; sliced &\n",
      "            Toasted Pumpkin\n",
      "  1 1/2 c  Whole-wheat\n",
      "  1 1/2 ts Vanilla extract\n",
      "     32 sm Pitted prunes, bouquet garni\n",
      "\n",
      "MMMMM\n",
      "MMMMM----- Recipe via Meal-Master (tm) v8.05\n",
      " \n",
      "      Title: APPLE BREAKFAST\n",
      " Categories: Breads\n",
      "      Yield: 8 Servings\n",
      " \n",
      "    2/3 c  Firmly packed light brown around Sacramento Bee October 1993/MM by DEEANNE\n",
      " \n",
      "MMMMM\n",
      "MMMMM-----------------\n",
      "      1 ts Salt\n",
      "      2 c  Icing sugar\n",
      "  1 1/2 ts Salt\n",
      "      6 oz Spaghetti -- cooked\n",
      "  vegetable cooking 15 min or longer, occasionally. Ladle into batch.  Drop by teaspoon baking sheet. Discard loose\n",
      "      1    Medium potato, diced\n",
      "    1/2    Stick butter\n",
      "      2 ts ITALIAN STRAWBERRIES--------------THREE-BERRY COMPTE\n",
      " Categories: Appetizers, Caribbean markets.   Mix together to\n",
      "  cover. Cover. At low speed\n",
      "  about 30 minutes. Now add the\n",
      "  reserved marinade.\n",
      " \n",
      "MMMMM\n",
      "MMMMM----- Recipe via Meal-Master (tm) v8.05\n",
      " \n",
      "      Title: CHINESE MINIMAL FISH SOUP (KAKAVIA)\n",
      " Categories: \n",
      "      Yield: 12 Servings\n",
      " \n",
      "  4 1/2 ts French wine vinegar-sugar boils, cook briefly until edge is set but center vein of\n",
      "  each end of roll to hold for corn tortillas;\n",
      "  1 1/2 c  Mild salsa, drained (19-ounce canned corn and cut each in half from root bottoms os stems.  When chicken\n",
      "  pieces. Patricia R. Wagner ISBN 0-931722-79-9\n",
      "  \n",
      "  Posted By Susan Ashby\n",
      "  \n",
      "  Shared by: Sharon Stevens\n",
      " \n",
      "MMMMM\n"
     ]
    }
   ],
   "source": [
    "from nltk.tokenize import RegexpTokenizer\n",
    "tokenizer = RegexpTokenizer('MMMMM-----.*?MMMMM')\n",
    "generated_recipies = generate_samples(lm_10, 10, 4000)\n",
    "generated_recipies = tokenizer.tokenize(generated_recipies)\n",
    "for i in range(5):\n",
    "    print(generated_recipies[i])"
   ]
  },
  {
   "cell_type": "markdown",
   "metadata": {},
   "source": [
    "Write 3 to 5 observations about the generated samples."
   ]
  },
  {
   "cell_type": "markdown",
   "metadata": {},
   "source": [
    "1. we can see that the char model was able to capture the structure of the recipie which is quite impressive(for me at list i thought that only rnn will be able to do somthing like that)\n",
    "2. we can see that it uses random numbers from there to there which is nice, it makes to recipe look more realistic.\n",
    "3. the model add sufix like Posted By , and Shared by which which also make the recipe looks more realistic.\n",
    "4. somtimes the instructions doesn't make sense but it's readable and looks man made.\n",
    "5. somtimes we get recipe with only 1 line, which doesn't make any sense."
   ]
  },
  {
   "cell_type": "markdown",
   "metadata": {},
   "source": [
    "<hr>\n",
    "<hr>\n",
    "<a name=\"P2\"></a>\n",
    "<h2>Part 2: Polynomial Curve Fitting</h2>\n",
    "\n",
    "We reproduce the polynomial curve fitting example used in Bishop's <a href=\"https://www.microsoft.com/en-us/research/people/cmbishop/#!prml-book\">book</a> in Chapter 1.  \n",
    "\n",
    "<a name=\"syntheticdata\"></a>\n",
    "<h3>2.1 Synthetic Dataset Generation</h3>\n",
    "\n",
    "We generate a dataset of points in the form of 2 vectors $x$ and $t$ of size $N$ where:\n",
    "\n",
    "$t_i = y(x_i) + \\mathcal{N}(\\mu, \\sigma)$\n",
    "\n",
    "where:\n",
    "* The $x_i$ values are equi-distant on the $[0 \\dots 1]$ segment (that is, $x_1 = 0, x_2=\\frac{1}{N-1}, x_3=\\frac{2}{N-1}..., x_N = 1.0$)\n",
    "* $\\mu = 0.0$\n",
    "* $\\sigma = 0.03$ \n",
    "* $y(x) = sin(2\\pi \\times x)$"
   ]
  },
  {
   "cell_type": "code",
   "execution_count": 24,
   "metadata": {},
   "outputs": [],
   "source": [
    "# Learn the function y given the generated noisy dataset\n",
    "def f(x): \n",
    "    return math.sin(2 * math.pi * x)\n",
    "\n",
    "def generateDataset(N, f, sigma):\n",
    "    t = []\n",
    "    x = numpy.linspace(0.0, 1.0, N)\n",
    "    s = np.random.default_rng().normal(0, sigma, N)\n",
    "    for i in range(0, N):\n",
    "        t.append(f(x[i]) + s[i])\n",
    "    return x,t"
   ]
  },
  {
   "cell_type": "markdown",
   "metadata": {},
   "source": [
    "Draw the plot (scatterplot) of (x,t) using matplotlib for N=100.\n",
    "* Look at the documentation of the <a href=\"https://numpy.org/doc/stable/reference/random/generated/numpy.random.Generator.normal.html#numpy.random.Generator.normal\">numpy.random.Generator.normal</a> function in Numpy for an example of usage.\n",
    "* Look at the definition of the function <a href=\"https://numpy.org/doc/stable/reference/generated/numpy.linspace.html#numpy.linspace\">numpy.linspace</a> to generate your dataset.\n"
   ]
  },
  {
   "cell_type": "code",
   "execution_count": 25,
   "metadata": {},
   "outputs": [
    {
     "data": {
      "text/plain": [
       "<matplotlib.collections.PathCollection at 0x149c1a28b20>"
      ]
     },
     "execution_count": 25,
     "metadata": {},
     "output_type": "execute_result"
    },
    {
     "data": {
      "image/png": "[encoded data removed]",
      "text/plain": [
       "<Figure size 432x288 with 1 Axes>"
      ]
     },
     "metadata": {
      "needs_background": "light"
     },
     "output_type": "display_data"
    }
   ],
   "source": [
    "x,t = generateDataset(100, f, 0.03)\n",
    "plt.scatter(x,t)"
   ]
  },
  {
   "cell_type": "code",
   "execution_count": 26,
   "metadata": {},
   "outputs": [
    {
     "name": "stdout",
     "output_type": "stream",
     "text": [
      "[1 2 3 4]\n",
      "(4,)\n",
      "[ 1  4  9 16]\n",
      "(4,)\n",
      "[-2.44929360e-16 -4.89858720e-16 -7.34788079e-16 -9.79717439e-16]\n"
     ]
    }
   ],
   "source": [
    "import math\n",
    "import numpy as np\n",
    "def s(x): return x**2\n",
    "def f(x): return math.sin(2 * math.pi * x)\n",
    "vf = np.vectorize(f)        # Create a vectorized version of f\n",
    "\n",
    "z = np.array([1,2,3,4])\n",
    "print(z)\n",
    "\n",
    "sz = s(z)                   # You can apply simple functions to an array\n",
    "print(sz.shape)             # Same dimension as z (4)\n",
    "print(sz)\n",
    "\n",
    "fz = vf(z)                  # For more complex ones, you must use the vectorized version of f\n",
    "print(fz.shape)\n",
    "print(fz)"
   ]
  },
  {
   "cell_type": "markdown",
   "metadata": {},
   "source": [
    "<a name=\"curvefitting\"></a>\n",
    "<h3>2.2 Polynomial Curve Fitting</h3>\n",
    "\n",
    "We will attempt to learn the function y given a synthetic dataset $(x, t)$.\n",
    "\n",
    "We assume that $y$ is a polynomial of degree $M$ - that is:\n",
    "\n",
    "$y(x) = w_0 + w_1 x + w_2 x^2 + ... + w_M x^M$\n",
    "\n",
    "Our objective is to estimate the vector $w = (w_0 \\dots w_M)$ from the dataset $(x, t)$."
   ]
  },
  {
   "cell_type": "code",
   "execution_count": 27,
   "metadata": {},
   "outputs": [
    {
     "data": {
      "text/plain": [
       "(2,)"
      ]
     },
     "execution_count": 27,
     "metadata": {},
     "output_type": "execute_result"
    }
   ],
   "source": [
    "import numpy as np\n",
    "import scipy.linalg\n",
    "\n",
    "t = np.array([1,2,3,4])                    # This is a vector of dim 4\n",
    "t.shape                                    # (4,)\n",
    "phi = np.array([[1,1],[2,4],[3,3],[2,4]])  # This is a 4x2 matrix\n",
    "phi.shape                                  # (4, 2) \n",
    "prod = np.dot(phi.T, phi)                  # prod is a 2x2 matrix\n",
    "prod.shape                                 # (2, 2)\n",
    "i = np.linalg.inv(prod)                    # i is a 2x2 matrix\n",
    "i.shape                                    # (2, 2)\n",
    "m = np.dot(i, phi.T)                       # m is a 2x4 matrix\n",
    "m.shape                                    # (2, 4)\n",
    "w = np.dot(m, t)                           # w is a vector of dim 2\n",
    "w.shape                                    # (2,)"
   ]
  },
  {
   "cell_type": "markdown",
   "metadata": {},
   "source": [
    "We implement a method <b>optimizeLS(x, t, M)</b> which given the dataset $(x, t)$ returns the optimal polynomial of degree $M$ that approximates the dataset according to the least squares objective. "
   ]
  },
  {
   "cell_type": "code",
   "execution_count": 28,
   "metadata": {},
   "outputs": [],
   "source": [
    "def calculate_design_matrix(x, M):\n",
    "    design_m = np.zeros((len(x), M + 1))\n",
    "    for i in range(len(x)):\n",
    "        for j in range(0, M + 1):\n",
    "            design_m[i][j] = pow(x[i], j)\n",
    "    return design_m\n",
    "\n",
    "def optimizeLS(x, t, M):\n",
    "    design_m = calculate_design_matrix(x, M)\n",
    "    w = np.dot(design_m.T, design_m)\n",
    "    w = np.linalg.inv(w)\n",
    "    w = np.dot(w, design_m.T)\n",
    "    w = np.dot(w, t)\n",
    "    return w"
   ]
  },
  {
   "cell_type": "markdown",
   "metadata": {},
   "source": [
    "We now plot the learned polynomial $w_M(x_i)$ and the real function $sin(2πx)$ for a dataset of size $N=10$ and $M=1,3,5,10$.\n"
   ]
  },
  {
   "cell_type": "code",
   "execution_count": 29,
   "metadata": {},
   "outputs": [
    {
     "data": {
      "image/png": "[encoded data removed]",
      "text/plain": [
       "<Figure size 432x288 with 1 Axes>"
      ]
     },
     "metadata": {
      "needs_background": "light"
     },
     "output_type": "display_data"
    }
   ],
   "source": [
    "x,t = generateDataset(10, f, 0.03)\n",
    "M = [1,3,5,10]\n",
    "colors = ['b', 'g', 'r', 'c']\n",
    "for i in range(len(M)):\n",
    "    coeffs = optimizeLS(x,t,M[i])\n",
    "    plt.scatter(x, t)\n",
    "    y = np.array([np.sum(np.array([coeffs[i]*(j**i) for i in range(len(coeffs))])) for j in x])\n",
    "    plt.plot(x, y, color=colors[i])"
   ]
  },
  {
   "cell_type": "markdown",
   "metadata": {},
   "source": [
    "<a name=\"regularization\"></a>\n",
    "<h3>2.3 Polynomial Curve Fitting with Regularization</h3>\n",
    "\n",
    "We observe in the plot above that the solution to the least-squares optimization has a tendency to over-fit the dataset.\n",
    "\n",
    "To avoid over-fitting, we will use <i>regularization</i>: the objective function we want to optimize will take into account the least-squares error as above, and in addition the complexity of the learned model $w$."
   ]
  },
  {
   "cell_type": "markdown",
   "metadata": {},
   "source": [
    "We write a function <b>optimizePLS(x, t, M, lambda)</b> which returns the optimal parameters $w_{PLS}$ given $M$ and $\\lambda$."
   ]
  },
  {
   "cell_type": "code",
   "execution_count": 30,
   "metadata": {},
   "outputs": [
    {
     "data": {
      "image/png": "[encoded data removed]",
      "text/plain": [
       "<Figure size 432x288 with 1 Axes>"
      ]
     },
     "metadata": {
      "needs_background": "light"
     },
     "output_type": "display_data"
    }
   ],
   "source": [
    "def optimizePLS(x, t, M, lamb):\n",
    "    design_m = calculate_design_matrix(x, M)\n",
    "    w = np.dot(design_m.T, design_m)\n",
    "    w = w + (np.identity(M + 1) * lamb)\n",
    "    w = np.linalg.inv(w)\n",
    "    w = np.dot(w, design_m.T)\n",
    "    w = np.dot(w, t)\n",
    "    return w\n",
    "\n",
    "def calculatePointsFromCoef(coeffs, x):\n",
    "    return np.array([np.sum(np.array([coeffs[i]*(j**i) for i in range(len(coeffs))])) for j in x])\n",
    "\n",
    "x,t = generateDataset(10, f, 0.03)\n",
    "M = [1,3,5,10]\n",
    "colors = ['b', 'g', 'r', 'c']\n",
    "for i in range(len(M)):\n",
    "    coeffs = optimizePLS(x,t,M[i], 0.0001)\n",
    "    plt.scatter(x, t)\n",
    "    y = calculatePointsFromCoef(coeffs, x)\n",
    "    plt.plot(x, y, color=colors[i])"
   ]
  },
  {
   "cell_type": "markdown",
   "metadata": {},
   "source": [
    "We want to optimize the value of λ. The way to optimize is to use a development set in addition to our training set.\n",
    "\n",
    "To construct a development set, we extend our synthetic dataset construction function to return 3 samples:\n",
    "* one for training, \n",
    "* one for development \n",
    "* and one for testing"
   ]
  },
  {
   "cell_type": "code",
   "execution_count": 31,
   "metadata": {},
   "outputs": [],
   "source": [
    "def generateSet(N, f, sigma, x):\n",
    "    t = []\n",
    "    s = np.random.default_rng().normal(0, sigma, N)\n",
    "    for i in range(0, N):\n",
    "        t.append(f(x[i]) + s[i])\n",
    "    return t\n",
    "    \n",
    "def generateDataset3(N, f, sigma):\n",
    "    x = numpy.linspace(0.0, 1.0, 3 * N)\n",
    "    np.random.default_rng().shuffle(x)\n",
    "    x_train, x_valid, x_test = np.split(x, 3)\n",
    "    return (x_train, generateSet(N, f, sigma, x_train)), (x_valid, generateSet(N, f, sigma, x_valid)), (x_test, generateSet(N, f, sigma, x_test))\n",
    "\n",
    "def calculateMeanError(coeffs, xv, tv):\n",
    "    estimated_points = calculatePointsFromCoef(coeffs, xv)\n",
    "    return np.sqrt(np.sum(np.power((tv-estimated_points),2))) / len(xv)\n",
    "\n",
    "def calculate_mse_for_lambs(xt, tt, xv, tv, xtest, ttest, M):\n",
    "    train_errors = []\n",
    "    valid_errors = []\n",
    "    test_errors = []\n",
    "    lambs = []\n",
    "    for i in range(-40, -20):\n",
    "        lamb = pow(2, i)\n",
    "        coeffs = optimizePLS(xt, tt, M, lamb)\n",
    "        lambs.append(lamb)\n",
    "        train_errors.append(calculateMeanError(coeffs, xt, tt))\n",
    "        valid_errors.append(calculateMeanError(coeffs, xv, tv))\n",
    "        test_errors.append(calculateMeanError(coeffs, xtest, ttest))\n",
    "    return lambs, train_errors, valid_errors, test_errors"
   ]
  },
  {
   "cell_type": "code",
   "execution_count": 32,
   "metadata": {},
   "outputs": [
    {
     "data": {
      "text/plain": [
       "[<matplotlib.lines.Line2D at 0x149c25f0d00>]"
      ]
     },
     "execution_count": 32,
     "metadata": {},
     "output_type": "execute_result"
    },
    {
     "data": {
      "image/png": "[encoded data removed]",
      "text/plain": [
       "<Figure size 432x288 with 1 Axes>"
      ]
     },
     "metadata": {
      "needs_background": "light"
     },
     "output_type": "display_data"
    }
   ],
   "source": [
    "train_set, valid_set, test_set = generateDataset3(10, f, 0.03)\n",
    "xt, tt = train_set\n",
    "xv, tv = valid_set\n",
    "x_test, t_test = test_set\n",
    "lambs, train_errors, valid_errors, test_errors = calculate_mse_for_lambs(xt, tt, xv, tv, x_test, t_test, 3)\n",
    "plt.plot(lambs, train_errors)"
   ]
  },
  {
   "cell_type": "code",
   "execution_count": 33,
   "metadata": {},
   "outputs": [
    {
     "data": {
      "text/plain": [
       "[<matplotlib.lines.Line2D at 0x149c365e910>]"
      ]
     },
     "execution_count": 33,
     "metadata": {},
     "output_type": "execute_result"
    },
    {
     "data": {
      "image/png": "[encoded data removed]",
      "text/plain": [
       "<Figure size 432x288 with 1 Axes>"
      ]
     },
     "metadata": {
      "needs_background": "light"
     },
     "output_type": "display_data"
    }
   ],
   "source": [
    "plt.plot(lambs, valid_errors)"
   ]
  },
  {
   "cell_type": "code",
   "execution_count": 34,
   "metadata": {},
   "outputs": [
    {
     "data": {
      "text/plain": [
       "[<matplotlib.lines.Line2D at 0x149c3698e80>]"
      ]
     },
     "execution_count": 34,
     "metadata": {},
     "output_type": "execute_result"
    },
    {
     "data": {
      "image/png": "[encoded data removed]",
      "text/plain": [
       "<Figure size 432x288 with 1 Axes>"
      ]
     },
     "metadata": {
      "needs_background": "light"
     },
     "output_type": "display_data"
    }
   ],
   "source": [
    "plt.plot(lambs, test_errors)"
   ]
  },
  {
   "cell_type": "code",
   "execution_count": 35,
   "metadata": {},
   "outputs": [
    {
     "data": {
      "text/plain": [
       "[<matplotlib.lines.Line2D at 0x149c36d68e0>]"
      ]
     },
     "execution_count": 35,
     "metadata": {},
     "output_type": "execute_result"
    },
    {
     "data": {
      "image/png": "[encoded data removed]",
      "text/plain": [
       "<Figure size 432x288 with 1 Axes>"
      ]
     },
     "metadata": {
      "needs_background": "light"
     },
     "output_type": "display_data"
    }
   ],
   "source": [
    "train_set, valid_set, test_set = generateDataset3(100, f, 0.03)\n",
    "xt, tt = train_set\n",
    "xv, tv = valid_set\n",
    "x_test, t_test = test_set\n",
    "lambs, train_errors, valid_errors, test_errors = calculate_mse_for_lambs(xt, tt, xv, tv, x_test, t_test, 3)\n",
    "plt.plot(lambs, train_errors)"
   ]
  },
  {
   "cell_type": "markdown",
   "metadata": {},
   "source": [
    "Given a synthetic dataset, we optimize for the value of λ by varying the value of log(λ) from -40 to -20 on the development set. "
   ]
  },
  {
   "cell_type": "code",
   "execution_count": 36,
   "metadata": {},
   "outputs": [
    {
     "data": {
      "text/plain": [
       "[<matplotlib.lines.Line2D at 0x149c3714520>]"
      ]
     },
     "execution_count": 36,
     "metadata": {},
     "output_type": "execute_result"
    },
    {
     "data": {
      "image/png": "[encoded data removed]",
      "text/plain": [
       "<Figure size 432x288 with 1 Axes>"
      ]
     },
     "metadata": {
      "needs_background": "light"
     },
     "output_type": "display_data"
    }
   ],
   "source": [
    "plt.plot(lambs, valid_errors)"
   ]
  },
  {
   "cell_type": "code",
   "execution_count": 37,
   "metadata": {},
   "outputs": [
    {
     "data": {
      "text/plain": [
       "[<matplotlib.lines.Line2D at 0x149c374be20>]"
      ]
     },
     "execution_count": 37,
     "metadata": {},
     "output_type": "execute_result"
    },
    {
     "data": {
      "image/png": "[encoded data removed]",
      "text/plain": [
       "<Figure size 432x288 with 1 Axes>"
      ]
     },
     "metadata": {
      "needs_background": "light"
     },
     "output_type": "display_data"
    }
   ],
   "source": [
    "plt.plot(lambs, test_errors)"
   ]
  },
  {
   "cell_type": "markdown",
   "metadata": {},
   "source": [
    "from the plots above we can cleary see that when the lambda paramter is bigger then the error on the train set gets bigger, but the error on the validation set and the test set is smaller.\n",
    "we can see that the model can generalized better on data he didn't see before thanks to the regularization which prevents the overfitting of the model."
   ]
  },
  {
   "cell_type": "code",
   "execution_count": 38,
   "metadata": {},
   "outputs": [
    {
     "data": {
      "text/plain": [
       "4.76837158203125e-07"
      ]
     },
     "execution_count": 38,
     "metadata": {},
     "output_type": "execute_result"
    }
   ],
   "source": [
    "def optimizePLS2(xt, tt, xv, tv, M):\n",
    "    best_error = 10000\n",
    "    best_lamb = 0.0\n",
    "    for i in range(-40, -20):\n",
    "        lamb = pow(2, i)\n",
    "        coeffs = optimizePLS(xt, tt, M, lamb)\n",
    "        new_error = calculateMeanError(coeffs, xv, tv)\n",
    "        if new_error < best_error:\n",
    "            best_error = new_error\n",
    "            best_lamb = lamb\n",
    "    return best_lamb\n",
    "\n",
    "optimizePLS2(train_set[0], train_set[1], valid_set[0], valid_set[1], 3)"
   ]
  },
  {
   "cell_type": "markdown",
   "metadata": {},
   "source": [
    "<a name=\"prob-regr\"></a>\n",
    "<h3>2.4 Probabilistic Regression Framework</h3>\n",
    "\n",
    "We now consider the same problem of regression (learning a function from a dataset) formulated in a probabilistic framework."
   ]
  },
  {
   "cell_type": "code",
   "execution_count": 61,
   "metadata": {},
   "outputs": [],
   "source": [
    "def Mean(x, sigma2, design_m_train, t_train, M, S):\n",
    "    design_m = calculate_design_matrix(x, M)\n",
    "    m = np.matmul(design_m_train.T, t_train)\n",
    "    m = np.dot(S, m)\n",
    "    m = np.dot(design_m, m)\n",
    "    return (1/sigma2) * m.T\n",
    "\n",
    "def Var(x, sigma2, M, S):\n",
    "    design_m = calculate_design_matrix(x, M)\n",
    "    v = np.dot(S, design_m.T)\n",
    "    v = np.dot(design_m, v)\n",
    "    return v + sigma2\n",
    "\n",
    "\n",
    "def calculate_sum_vector(m, t, N):\n",
    "    return np.sum([np.dot(m[i,:], t[i]) for i in range(0, N)])\n",
    "\n",
    "def calculate_sum_matrices(m, t, N):\n",
    "    print(m[i,:])\n",
    "    print(t[:,i])\n",
    "    return np.sum([np.dot(m[i,:], t[:,i]) for i in range(0, N)])\n",
    "\n",
    "def bayesianEstimator(x, t, M, alpha, sigma2):\n",
    "    t = np.array(t)\n",
    "    design_m = calculate_design_matrix(x, M)\n",
    "    s =  np.linalg.inv((np.identity(M + 1) * alpha) + ((1/sigma2) * np.matmul(design_m.T, design_m)))\n",
    "    m = lambda x: Mean(x, sigma2, design_m, t, M, s)\n",
    "    v = lambda x: Var(x, sigma2, M, s)\n",
    "    return m, v"
   ]
  },
  {
   "cell_type": "markdown",
   "metadata": {},
   "source": [
    "We draw the plot of the original function $y = sin(2πx)$ over the range $[0 \\dots 1]$, the mean of the predictive distribution $m(x)$ and the confidence interval $m(x) - \\sqrt{var(x)}$ and $m(x) + \\sqrt{var(x)}$ (that is, one standard deviation around each predicted point) for the values:\n",
    "* $\\alpha = 0.005$\n",
    "* $\\sigma^2 = 1/11.1$\n",
    "* $M = 9$\n",
    "\n",
    "over a synthetic dataset of size $N=10$ and $N=100$."
   ]
  },
  {
   "cell_type": "code",
   "execution_count": 62,
   "metadata": {},
   "outputs": [
    {
     "data": {
      "text/plain": [
       "[<matplotlib.lines.Line2D at 0x149c41d3640>]"
      ]
     },
     "execution_count": 62,
     "metadata": {},
     "output_type": "execute_result"
    },
    {
     "data": {
      "image/png": "[encoded data removed]",
      "text/plain": [
       "<Figure size 432x288 with 1 Axes>"
      ]
     },
     "metadata": {
      "needs_background": "light"
     },
     "output_type": "display_data"
    }
   ],
   "source": [
    "def calculate_point_from_mean_and_variance(M, m, v, x):\n",
    "    result = []\n",
    "    for j in x:\n",
    "        point = m([j])\n",
    "        var = v([j])\n",
    "        result.append((point[0], point[0] + np.sqrt(var[0]), point[0] - np.sqrt(var[0])))\n",
    "    return result\n",
    "\n",
    "\n",
    "train_set, valid_set, test_set = generateDataset3(10, f, 0.03)\n",
    "xt, tt = train_set\n",
    "xv, tv = valid_set\n",
    "x_test, t_test = test_set\n",
    "m, v = bayesianEstimator(xt, tt, 9, 0.005, 1/11.1)\n",
    "sorted_xv = sorted(xv)\n",
    "y = calculate_point_from_mean_and_variance(9, m, v, sorted_xv)\n",
    "plt.scatter(xv, tv)\n",
    "plt.plot(sorted_xv, [point[0] for point in y], color='g')\n",
    "plt.plot(sorted_xv, [point[1] for point in y], color='b')\n",
    "plt.plot(sorted_xv, [point[2] for point in y], color='r')"
   ]
  },
  {
   "cell_type": "code",
   "execution_count": 63,
   "metadata": {},
   "outputs": [
    {
     "data": {
      "text/plain": [
       "[<matplotlib.lines.Line2D at 0x149c420dc10>]"
      ]
     },
     "execution_count": 63,
     "metadata": {},
     "output_type": "execute_result"
    },
    {
     "data": {
      "image/png": "[encoded data removed]",
      "text/plain": [
       "<Figure size 432x288 with 1 Axes>"
      ]
     },
     "metadata": {
      "needs_background": "light"
     },
     "output_type": "display_data"
    }
   ],
   "source": [
    "sorted_xtest = sorted(x_test)\n",
    "y = calculate_point_from_mean_and_variance(9, m, v, sorted_xtest)\n",
    "plt.scatter(x_test, t_test)\n",
    "plt.plot(sorted_xtest, [point[0] for point in y], color='g')\n",
    "plt.plot(sorted_xtest, [point[1] for point in y], color='b')\n",
    "plt.plot(sorted_xtest, [point[2] for point in y], color='r')"
   ]
  },
  {
   "cell_type": "code",
   "execution_count": 64,
   "metadata": {},
   "outputs": [
    {
     "data": {
      "text/plain": [
       "[<matplotlib.lines.Line2D at 0x149c425a550>]"
      ]
     },
     "execution_count": 64,
     "metadata": {},
     "output_type": "execute_result"
    },
    {
     "data": {
      "image/png": "[encoded data removed]",
      "text/plain": [
       "<Figure size 432x288 with 1 Axes>"
      ]
     },
     "metadata": {
      "needs_background": "light"
     },
     "output_type": "display_data"
    }
   ],
   "source": [
    "train_set, valid_set, test_set = generateDataset3(100, f, 0.03)\n",
    "xt, tt = train_set\n",
    "xv, tv = valid_set\n",
    "x_test, t_test = test_set\n",
    "m, v = bayesianEstimator(xt, tt, 9, 0.005, 1/11.1)\n",
    "sorted_xv = sorted(xv)\n",
    "y = calculate_point_from_mean_and_variance(9, m, v, sorted_xv)\n",
    "plt.scatter(xv, tv)\n",
    "plt.plot(sorted_xv, [point[0] for point in y], color='g')\n",
    "plt.plot(sorted_xv, [point[1] for point in y], color='b')\n",
    "plt.plot(sorted_xv, [point[2] for point in y], color='r')"
   ]
  },
  {
   "cell_type": "code",
   "execution_count": 65,
   "metadata": {},
   "outputs": [
    {
     "data": {
      "text/plain": [
       "[<matplotlib.lines.Line2D at 0x149c5c98340>]"
      ]
     },
     "execution_count": 65,
     "metadata": {},
     "output_type": "execute_result"
    },
    {
     "data": {
      "image/png": "[encoded data removed]",
      "text/plain": [
       "<Figure size 432x288 with 1 Axes>"
      ]
     },
     "metadata": {
      "needs_background": "light"
     },
     "output_type": "display_data"
    }
   ],
   "source": [
    "sorted_xtest = sorted(x_test)\n",
    "y = calculate_point_from_mean_and_variance(9, m, v, sorted_xtest)\n",
    "plt.scatter(x_test, t_test)\n",
    "plt.plot(sorted_xtest, [point[0] for point in y], color='g')\n",
    "plt.plot(sorted_xtest, [point[1] for point in y], color='b')\n",
    "plt.plot(sorted_xtest, [point[2] for point in y], color='r')"
   ]
  },
  {
   "cell_type": "markdown",
   "metadata": {},
   "source": [
    "Interpret the height of the band around the most likely function in terms of the distribution of the xs in your synthetic dataset.\n",
    "Can you think of ways to make this height very small in one segment of the function and large in another?"
   ]
  },
  {
   "cell_type": "markdown",
   "metadata": {},
   "source": [
    "<hr/>\n",
    "<hr/>\n",
    "<a name=\"P3\"></a>\n",
    "<h2>Part 3: Neural Models for Classification</h2>\n",
    "\n",
    "In this section, we adopt the PyTorch tutorial on \n",
    "<a href=\"https://pytorch.org/tutorials/intermediate/char_rnn_classification_tutorial.html\">Character RNN for classification</a>\n",
    "to a different dataset.\n",
    "\n",
    "<a name=\"readtut\"></a>\n",
    "<h3>3.1 Summarize the Tutorial</h3>\n",
    "\n",
    "We summarize the <a href=\"https://pytorch.org/tutorials/intermediate/char_rnn_classification_tutorial.html\">PyTorch tutorial</a>:\n",
    "* task\n",
    "* method\n",
    "* data encoding\n",
    "* loss function \n",
    "* evaluation method\n",
    "\n",
    "(Reading <a href=\"https://pytorch.org/tutorials/beginner/blitz/tensor_tutorial.html\">PyTorch Tensor Tutorial</a> helps)"
   ]
  },
  {
   "cell_type": "markdown",
   "metadata": {},
   "source": [
    "<a name=\"newdata\"></a>\n",
    "<h3>3.2 Explore City Names Dataset</h3>\n",
    "\n",
    "We use a dataset on city names in different countries to train a classifier.\n",
    "\n",
    "The data from <a href=\"cities_val.zip\">cities_val.zip</a> (validation) and <a href=\"cities_train.zip\">cities_train.zip</a> (training)\n",
    "is under \"../data/cities/val\" and \"../data/cities/train\".\n"
   ]
  },
  {
   "cell_type": "code",
   "execution_count": 88,
   "metadata": {},
   "outputs": [],
   "source": [
    "import codecs\n",
    "import math\n",
    "import random\n",
    "import string\n",
    "import time\n",
    "import numpy as np\n",
    "from sklearn.metrics import accuracy_score\n",
    "\n",
    "'''\n",
    "Don't change these constants for the classification task.\n",
    "You may use different copies for the sentence generation model.\n",
    "'''\n",
    "languages = [\"af\", \"cn\", \"de\", \"fi\", \"fr\", \"in\", \"ir\", \"pk\", \"za\"]\n",
    "all_letters = string.ascii_lowercase + \" .,;'\"\n",
    "n_letters = len(all_letters)\n",
    "n_categories = len(languages)\n",
    "\n",
    "import unicodedata\n",
    "\n",
    "# Turn a Unicode string to plain ASCII, thanks to https://stackoverflow.com/a/518232/2809427\n",
    "def unicodeToAscii(s):\n",
    "    return ''.join(\n",
    "        c for c in unicodedata.normalize('NFD', s)\n",
    "        if unicodedata.category(c) != 'Mn'\n",
    "        and c in all_letters\n",
    "    )\n",
    "\n",
    "# print(unicodeToAscii('Ślusàrski'))\n",
    "\n",
    "# Build the category_lines dictionary, a list of names per language\n",
    "category_lines = {}\n",
    "all_categories = languages\n",
    "\n",
    "# Read a file and split into lines\n",
    "def readLines(filename):\n",
    "    lines = codecs.open(filename, \"r\",encoding='utf-8', errors='ignore').read().strip().split('\\n')\n",
    "    return [unicodeToAscii(line) for line in lines]"
   ]
  },
  {
   "cell_type": "markdown",
   "metadata": {},
   "source": [
    "Explore the train dataset by computing basic descriptive statistics:\n",
    "number of categories, tokens per category, number of characters, distinct characters, average number of characters per token.\n",
    "\n",
    "Explain why the unicodeToAscii is a good idea for this task."
   ]
  },
  {
   "cell_type": "code",
   "execution_count": 89,
   "metadata": {},
   "outputs": [
    {
     "name": "stdout",
     "output_type": "stream",
     "text": [
      "af garavshakh\n",
      "cn yungming\n",
      "de rudenweiler\n",
      "fi navala\n",
      "fr premery\n",
      "in tagegin\n",
      "ir borough of cheshire east\n",
      "pk angurai\n",
      "za molazzana\n"
     ]
    }
   ],
   "source": [
    "for (dirpath, dirnames, filenames) in os.walk('../data/cities/train'):\n",
    "    for file in filenames:\n",
    "        category_lines[file.split('.')[0]] = readLines(os.path.join('../data/cities/train', file))\n",
    "for x,y in category_lines.items():\n",
    "    print(x,y[0])"
   ]
  },
  {
   "cell_type": "code",
   "execution_count": 90,
   "metadata": {},
   "outputs": [
    {
     "name": "stdout",
     "output_type": "stream",
     "text": [
      "number of categories in the dataset is : 9\n"
     ]
    },
    {
     "data": {
      "text/plain": [
       "<BarContainer object of 9 artists>"
      ]
     },
     "execution_count": 90,
     "metadata": {},
     "output_type": "execute_result"
    },
    {
     "data": {
      "image/png": "[encoded data removed]",
      "text/plain": [
       "<Figure size 432x288 with 1 Axes>"
      ]
     },
     "metadata": {
      "needs_background": "light"
     },
     "output_type": "display_data"
    }
   ],
   "source": [
    "print('number of categories in the dataset is : {}'.format(n_categories))\n",
    "\n",
    "cities_per_category = {x : len(y) for x,y in category_lines.items()}\n",
    "\n",
    "plt.bar(cities_per_category.keys(), height=cities_per_category.values())"
   ]
  },
  {
   "cell_type": "code",
   "execution_count": 108,
   "metadata": {},
   "outputs": [
    {
     "name": "stdout",
     "output_type": "stream",
     "text": [
      "{'af': 4859, 'cn': 3258, 'de': 5292, 'fi': 4184, 'fr': 3939, 'in': 4343, 'ir': 4933, 'pk': 5741, 'za': 4554}\n"
     ]
    },
    {
     "data": {
      "text/plain": [
       "<BarContainer object of 9 artists>"
      ]
     },
     "execution_count": 108,
     "metadata": {},
     "output_type": "execute_result"
    },
    {
     "data": {
      "image/png": "[encoded data removed]",
      "text/plain": [
       "<Figure size 432x288 with 1 Axes>"
      ]
     },
     "metadata": {
      "needs_background": "light"
     },
     "output_type": "display_data"
    }
   ],
   "source": [
    "tokens_per_category = {x : np.sum([len(city.split(' ')) for city in y]) for x,y in category_lines.items()}\n",
    "plt.bar(tokens_per_category.keys(), height=tokens_per_category.values())"
   ]
  },
  {
   "cell_type": "code",
   "execution_count": 91,
   "metadata": {},
   "outputs": [
    {
     "data": {
      "text/plain": [
       "<BarContainer object of 9 artists>"
      ]
     },
     "execution_count": 91,
     "metadata": {},
     "output_type": "execute_result"
    },
    {
     "data": {
      "image/png": "[encoded data removed]",
      "text/plain": [
       "<Figure size 432x288 with 1 Axes>"
      ]
     },
     "metadata": {
      "needs_background": "light"
     },
     "output_type": "display_data"
    }
   ],
   "source": [
    "chars_per_category = {x : np.sum([len(city) for city in y]) for x,y in category_lines.items()}\n",
    "plt.bar(tokens_per_category.keys(), height=tokens_per_category.values())"
   ]
  },
  {
   "cell_type": "code",
   "execution_count": 92,
   "metadata": {},
   "outputs": [
    {
     "name": "stdout",
     "output_type": "stream",
     "text": [
      "we have 29 distinct chars in the dataset, we expect that value to be equall to 31\n"
     ]
    }
   ],
   "source": [
    "distinct_chars = set([char for cities in category_lines.values() for city in cities for char in city])\n",
    "print('we have {} distinct chars in the dataset, we expect that value to be equal or lower to {}'.format(len(distinct_chars), n_letters))"
   ]
  },
  {
   "cell_type": "code",
   "execution_count": 124,
   "metadata": {},
   "outputs": [
    {
     "data": {
      "text/plain": [
       "<BarContainer object of 9 artists>"
      ]
     },
     "execution_count": 124,
     "metadata": {},
     "output_type": "execute_result"
    },
    {
     "data": {
      "image/png": "[encoded data removed]",
      "text/plain": [
       "<Figure size 432x288 with 1 Axes>"
      ]
     },
     "metadata": {
      "needs_background": "light"
     },
     "output_type": "display_data"
    }
   ],
   "source": [
    "distinct_chars_per_category = {x : len(set([char for city in cities for char in city])) for x, cities in category_lines.items()}\n",
    "plt.bar(distinct_chars_per_category.keys(), height=distinct_chars_per_category.values())"
   ]
  },
  {
   "cell_type": "code",
   "execution_count": 125,
   "metadata": {},
   "outputs": [
    {
     "data": {
      "text/plain": [
       "<BarContainer object of 9 artists>"
      ]
     },
     "execution_count": 125,
     "metadata": {},
     "output_type": "execute_result"
    },
    {
     "data": {
      "image/png": "[encoded data removed]",
      "text/plain": [
       "<Figure size 432x288 with 1 Axes>"
      ]
     },
     "metadata": {
      "needs_background": "light"
     },
     "output_type": "display_data"
    }
   ],
   "source": [
    "average_chars_per_category = {x : sum(len([char for city in cities for char in city]))/len(cities) for x, cities in category_lines.items()}\n",
    "plt.bar(average_chars_per_category.keys(), height=average_chars_per_category.values())"
   ]
  },
  {
   "cell_type": "markdown",
   "metadata": {},
   "source": [
    "we use unicode to ascii in that task because if we just used each languge letter this wont be an hard task, we want the computer to understund the langugue based on the same letter."
   ]
  },
  {
   "cell_type": "markdown",
   "metadata": {},
   "source": [
    "<a name=\"citiesmodel\"></a>\n",
    "<h3>3.3 Train a Model and Evaluate It</h3>\n",
    "\n",
    "Adopt the code of the PyTorch tutorial to run on this new dataset.\n",
    "\n",
    "Report on performance in a similar manner.  Explain the main confusion cases observed in the confusion matrix."
   ]
  },
  {
   "cell_type": "code",
   "execution_count": 93,
   "metadata": {},
   "outputs": [],
   "source": [
    "import torch\n",
    "\n",
    "# Find letter index from all_letters, e.g. \"a\" = 0\n",
    "def letterToIndex(letter):\n",
    "    return all_letters.find(letter)\n",
    "\n",
    "# Just for demonstration, turn a letter into a <1 x n_letters> Tensor\n",
    "def letterToTensor(letter):\n",
    "    tensor = torch.zeros(1, n_letters)\n",
    "    tensor[0][letterToIndex(letter)] = 1\n",
    "    return tensor\n",
    "\n",
    "# Turn a line into a <line_length x 1 x n_letters>,\n",
    "# or an array of one-hot letter vectors\n",
    "def lineToTensor(line):\n",
    "    tensor = torch.zeros(len(line), 1, n_letters)\n",
    "    for li, letter in enumerate(line):\n",
    "        tensor[li][0][letterToIndex(letter)] = 1\n",
    "    return tensor"
   ]
  },
  {
   "cell_type": "code",
   "execution_count": 94,
   "metadata": {},
   "outputs": [],
   "source": [
    "import torch.nn as nn\n",
    "\n",
    "class RNN(nn.Module):\n",
    "    def __init__(self, input_size, hidden_size, output_size):\n",
    "        super(RNN, self).__init__()\n",
    "\n",
    "        self.hidden_size = hidden_size\n",
    "\n",
    "        self.i2h = nn.Linear(input_size + hidden_size, hidden_size)\n",
    "        self.i2o = nn.Linear(input_size + hidden_size, output_size)\n",
    "        self.softmax = nn.LogSoftmax(dim=1)\n",
    "\n",
    "    def forward(self, input, hidden):\n",
    "        combined = torch.cat((input, hidden), 1)\n",
    "        hidden = self.i2h(combined)\n",
    "        output = self.i2o(combined)\n",
    "        output = self.softmax(output)\n",
    "        return output, hidden\n",
    "\n",
    "    def initHidden(self):\n",
    "        return torch.zeros(1, self.hidden_size)\n",
    "\n",
    "n_hidden = 128\n",
    "rnn = RNN(n_letters, n_hidden, n_categories)"
   ]
  },
  {
   "cell_type": "code",
   "execution_count": 95,
   "metadata": {},
   "outputs": [
    {
     "name": "stdout",
     "output_type": "stream",
     "text": [
      "category = pk / line = kotli nasir\n",
      "category = za / line = muzalevo\n",
      "category = de / line = moosbichl\n",
      "category = fr / line = vendets\n",
      "category = ir / line = lezzeh\n",
      "category = pk / line = khojari babar\n",
      "category = fr / line = fraissinetchazalais\n",
      "category = in / line = fuzuling\n",
      "category = fi / line = karvasniemi\n",
      "category = za / line = lekhalaneng\n"
     ]
    }
   ],
   "source": [
    "import random\n",
    "\n",
    "def categoryFromOutput(output):\n",
    "    top_n, top_i = output.topk(1)\n",
    "    category_i = top_i[0].item()\n",
    "    return all_categories[category_i], category_i\n",
    "\n",
    "def randomChoice(l):\n",
    "    return l[random.randint(0, len(l) - 1)]\n",
    "\n",
    "def randomTrainingExample():\n",
    "    category = randomChoice(all_categories)\n",
    "    line = randomChoice(category_lines[category])\n",
    "    category_tensor = torch.tensor([all_categories.index(category)], dtype=torch.long)\n",
    "    line_tensor = lineToTensor(line)\n",
    "    return category, line, category_tensor, line_tensor\n",
    "\n",
    "for i in range(10):\n",
    "    category, line, category_tensor, line_tensor = randomTrainingExample()\n",
    "    print('category =', category, '/ line =', line)"
   ]
  },
  {
   "cell_type": "code",
   "execution_count": 96,
   "metadata": {},
   "outputs": [],
   "source": [
    "criterion = nn.NLLLoss()\n",
    "learning_rate = 0.005 # If you set this too high, it might explode. If too low, it might not learn\n",
    "\n",
    "def train(category_tensor, line_tensor):\n",
    "    hidden = rnn.initHidden()\n",
    "\n",
    "    rnn.zero_grad()\n",
    "\n",
    "    for i in range(line_tensor.size()[0]):\n",
    "        output, hidden = rnn(line_tensor[i], hidden)\n",
    "\n",
    "    loss = criterion(output, category_tensor)\n",
    "    loss.backward()\n",
    "    torch.nn.utils.clip_grad_norm_(rnn.parameters(), 0.5)\n",
    "\n",
    "    # Add parameters' gradients to their values, multiplied by learning rate\n",
    "    for p in rnn.parameters():\n",
    "        p.data.add_(p.grad.data, alpha=-learning_rate)\n",
    "\n",
    "    return output, loss.item()"
   ]
  },
  {
   "cell_type": "code",
   "execution_count": 101,
   "metadata": {},
   "outputs": [
    {
     "name": "stdout",
     "output_type": "stream",
     "text": [
      "5000 2% (0m 8s) 0.0919 ampafitatra / fi ✓\n",
      "10000 5% (0m 16s) 1.1806 obsza / za ✓\n",
      "15000 7% (0m 25s) 1.3077 dhabbun / pk ✓\n",
      "20000 10% (0m 33s) 1.4402 stockton springs / fr ✗ (in)\n",
      "25000 12% (0m 41s) 2.1526 radkila / ir ✗ (fi)\n",
      "30000 15% (0m 50s) 2.6738 lawanggintung / cn ✗ (in)\n",
      "35000 17% (0m 58s) 3.0375 finca achihuaypolla / cn ✗ (fi)\n",
      "40000 20% (1m 7s) 2.8894 taftebole / fi ✗ (af)\n",
      "45000 22% (1m 15s) 2.3314 bangra / pk ✗ (in)\n",
      "50000 25% (1m 23s) 0.0015 azadegan / za ✓\n",
      "55000 27% (1m 32s) 0.0329 la bruffiere / fi ✓\n",
      "60000 30% (1m 40s) 0.3702 shangcaoshi / cn ✓\n",
      "65000 32% (1m 49s) 0.5630 quebrada frijoles / fr ✓\n",
      "70000 35% (1m 57s) 0.1798 los finitos / fi ✓\n",
      "75000 37% (2m 6s) 2.4177 schweiditz / in ✗ (de)\n",
      "80000 40% (2m 14s) 0.1011 jialing zhen / cn ✓\n",
      "85000 42% (2m 23s) 0.8115 hudu / cn ✓\n",
      "90000 45% (2m 31s) 0.3475 trubkildino / in ✓\n",
      "95000 47% (2m 39s) 0.7729 abdul firuz / fi ✓\n",
      "100000 50% (2m 48s) 0.8975 frederiksbjaerg / fi ✗ (fr)\n",
      "105000 52% (2m 56s) 0.3929 lundenberg / de ✓\n",
      "110000 55% (3m 5s) 0.2492 deeigenoot / de ✓\n",
      "115000 57% (3m 13s) 3.5721 tennby / fr ✗ (fi)\n",
      "120000 60% (3m 21s) 11.5848 sar ab bize pa'in / za ✗ (in)\n",
      "125000 62% (3m 30s) 1.6482 engenho de quicama / in ✗ (de)\n",
      "130000 65% (3m 38s) 1.2228 villagonzalopedernales / fr ✗ (de)\n",
      "135000 67% (3m 47s) 0.4565 marakh kalan / pk ✓\n",
      "140000 70% (3m 55s) 2.6281 ghutti saiyidan / cn ✗ (pk)\n",
      "145000 72% (4m 3s) 2.7923 horspe / ir ✗ (de)\n",
      "150000 75% (4m 12s) 1.5272 khurmudj / af ✗ (ir)\n",
      "155000 77% (4m 20s) 1.4889 dashtibal / pk ✗ (ir)\n",
      "160000 80% (4m 29s) 0.3215 royeressaintleonard / fr ✓\n",
      "165000 82% (4m 37s) 0.6599 tolombehye rahimabad / ir ✓\n",
      "170000 85% (4m 46s) 0.0198 afidenyigba / fi ✓\n",
      "175000 87% (4m 54s) 0.6374 sibake suran / ir ✓\n",
      "180000 90% (5m 3s) 1.1699 afla ouzaghar / cn ✗ (af)\n",
      "185000 92% (5m 11s) 1.9387 glenmalir / fr ✗ (ir)\n",
      "190000 95% (5m 20s) 0.3446 moelfre / fr ✓\n",
      "195000 97% (5m 28s) 1.9754 gehjan / cn ✗ (ir)\n",
      "200000 100% (5m 37s) 0.8960 mesa de fris / fr ✓\n"
     ]
    }
   ],
   "source": [
    "import time\n",
    "import math\n",
    "\n",
    "n_iters = 200000\n",
    "print_every = 5000\n",
    "plot_every = 1000\n",
    "\n",
    "\n",
    "# Keep track of losses for plotting\n",
    "current_loss = 0\n",
    "all_losses = []\n",
    "\n",
    "def timeSince(since):\n",
    "    now = time.time()\n",
    "    s = now - since\n",
    "    m = math.floor(s / 60)\n",
    "    s -= m * 60\n",
    "    return '%dm %ds' % (m, s)\n",
    "\n",
    "start = time.time()\n",
    "\n",
    "for iter in range(1, n_iters + 1):\n",
    "    category, line, category_tensor, line_tensor = randomTrainingExample()\n",
    "    output, loss = train(category_tensor, line_tensor)\n",
    "    current_loss += loss\n",
    "\n",
    "    # Print iter number, loss, name and guess\n",
    "    if iter % print_every == 0:\n",
    "        guess, guess_i = categoryFromOutput(output)\n",
    "        correct = '✓' if guess == category else '✗ (%s)' % category\n",
    "        print('%d %d%% (%s) %.4f %s / %s %s' % (iter, iter / n_iters * 100, timeSince(start), loss, line, guess, correct))\n",
    "\n",
    "    # Add current loss avg to list of losses\n",
    "    if iter % plot_every == 0:\n",
    "        all_losses.append(current_loss / plot_every)\n",
    "        current_loss = 0"
   ]
  },
  {
   "cell_type": "code",
   "execution_count": 103,
   "metadata": {},
   "outputs": [
    {
     "data": {
      "text/plain": [
       "[<matplotlib.lines.Line2D at 0x149c6474b80>]"
      ]
     },
     "execution_count": 103,
     "metadata": {},
     "output_type": "execute_result"
    },
    {
     "data": {
      "image/png": "[encoded data removed]",
      "text/plain": [
       "<Figure size 432x288 with 1 Axes>"
      ]
     },
     "metadata": {
      "needs_background": "light"
     },
     "output_type": "display_data"
    }
   ],
   "source": [
    "plt.figure()\n",
    "plt.plot(all_losses)"
   ]
  },
  {
   "cell_type": "code",
   "execution_count": 104,
   "metadata": {},
   "outputs": [
    {
     "name": "stderr",
     "output_type": "stream",
     "text": [
      "<ipython-input-104-f984d1a39c33>:35: UserWarning: FixedFormatter should only be used together with FixedLocator\n",
      "  ax.set_xticklabels([''] + all_categories, rotation=90)\n",
      "<ipython-input-104-f984d1a39c33>:36: UserWarning: FixedFormatter should only be used together with FixedLocator\n",
      "  ax.set_yticklabels([''] + all_categories)\n"
     ]
    },
    {
     "data": {
      "image/png": "[encoded data removed]",
      "text/plain": [
       "<Figure size 432x288 with 2 Axes>"
      ]
     },
     "metadata": {
      "needs_background": "light"
     },
     "output_type": "display_data"
    }
   ],
   "source": [
    "import matplotlib.ticker as ticker\n",
    "\n",
    "# Keep track of correct guesses in a confusion matrix\n",
    "confusion = torch.zeros(n_categories, n_categories)\n",
    "n_confusion = 10000\n",
    "\n",
    "# Just return an output given a line\n",
    "def evaluate(line_tensor):\n",
    "    hidden = rnn.initHidden()\n",
    "\n",
    "    for i in range(line_tensor.size()[0]):\n",
    "        output, hidden = rnn(line_tensor[i], hidden)\n",
    "\n",
    "    return output\n",
    "\n",
    "# Go through a bunch of examples and record which are correctly guessed\n",
    "for i in range(n_confusion):\n",
    "    category, line, category_tensor, line_tensor = randomTrainingExample()\n",
    "    output = evaluate(line_tensor)\n",
    "    guess, guess_i = categoryFromOutput(output)\n",
    "    category_i = all_categories.index(category)\n",
    "    confusion[category_i][guess_i] += 1\n",
    "\n",
    "# Normalize by dividing every row by its sum\n",
    "for i in range(n_categories):\n",
    "    confusion[i] = confusion[i] / confusion[i].sum()\n",
    "\n",
    "# Set up plot\n",
    "fig = plt.figure()\n",
    "ax = fig.add_subplot(111)\n",
    "cax = ax.matshow(confusion.numpy())\n",
    "fig.colorbar(cax)\n",
    "\n",
    "# Set up axes\n",
    "ax.set_xticklabels([''] + all_categories, rotation=90)\n",
    "ax.set_yticklabels([''] + all_categories)\n",
    "\n",
    "# Force label at every tick\n",
    "ax.xaxis.set_major_locator(ticker.MultipleLocator(1))\n",
    "ax.yaxis.set_major_locator(ticker.MultipleLocator(1))\n",
    "\n",
    "# sphinx_gallery_thumbnail_number = 2\n",
    "plt.show()"
   ]
  },
  {
   "cell_type": "markdown",
   "metadata": {},
   "source": [
    "<a name=\"bettercitiesmodel\"></a>\n",
    "<h3>3.4 Improve the RNN Model (Optional)</h3>\n",
    "\n",
    "Explore methods to improve performance of the cities classifier.\n",
    "Use a character RNN, dropout, better initialization."
   ]
  },
  {
   "cell_type": "code",
   "execution_count": null,
   "metadata": {},
   "outputs": [],
   "source": []
  },
  {
   "cell_type": "markdown",
   "metadata": {},
   "source": [
    "Report on error reduction."
   ]
  },
  {
   "cell_type": "code",
   "execution_count": null,
   "metadata": {},
   "outputs": [],
   "source": []
  }
 ],
 "metadata": {
  "kernelspec": {
   "display_name": "Python 3",
   "language": "python",
   "name": "python3"
  },
  "language_info": {
   "codemirror_mode": {
    "name": "ipython",
    "version": 3
   },
   "file_extension": ".py",
   "mimetype": "text/x-python",
   "name": "python",
   "nbconvert_exporter": "python",
   "pygments_lexer": "ipython3",
   "version": "3.8.3"
  }
 },
 "nbformat": 4,
 "nbformat_minor": 4
}
