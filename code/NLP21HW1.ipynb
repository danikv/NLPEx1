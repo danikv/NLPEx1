{
 "cells": [
  {
   "cell_type": "markdown",
   "metadata": {},
   "source": [
    "# NLP21@BGU.CS - HW1"
   ]
  },
  {
   "cell_type": "markdown",
   "metadata": {},
   "source": [
    "## Zvika Haramaty zvikah@post.bgu.ac.il\n",
    "## Daniel Kuvachev (?) yourmail@...\n",
    "### NLP 2021 - HW1 (http://www.cs.bgu.ac.il/~elhadad/nlp21/hw1.html)"
   ]
  },
  {
   "cell_type": "markdown",
   "metadata": {},
   "source": [
    "Nov 2020"
   ]
  },
  {
   "cell_type": "code",
   "execution_count": 228,
   "metadata": {},
   "outputs": [
    {
     "name": "stdout",
     "output_type": "stream",
     "text": [
      "Populating the interactive namespace from numpy and matplotlib\n"
     ]
    },
    {
     "name": "stderr",
     "output_type": "stream",
     "text": [
      "C:\\Users\\Dani\\miniconda3\\envs\\nlp21\\lib\\site-packages\\IPython\\core\\magics\\pylab.py:159: UserWarning: pylab import has clobbered these variables: ['hist', 'e', 'f', 'text', 'gamma']\n",
      "`%matplotlib` prevents importing * from pylab and numpy\n",
      "  warn(\"pylab import has clobbered these variables: %s\"  % clobbered +\n"
     ]
    }
   ],
   "source": [
    "# Boring preliminaries\n",
    "%pylab inline\n",
    "import re\n",
    "import math\n",
    "import string\n",
    "from collections import Counter\n",
    "from __future__ import division"
   ]
  },
  {
   "cell_type": "markdown",
   "metadata": {},
   "source": [
    "<h2>Content</h2>\n",
    "\n",
    "* <a href=\"#P1\">Part 1: Language Models</a>\n",
    "  * <a href=\"#data\">1.1 Data Exploration</a>\n",
    "    * <a href=\"#explore\">1.1.1 Gathering basic statistics</a>\n",
    "    * <a href=\"#power\">1.1.2 Zipf and Power Law</a>\n",
    "  * <a href=\"#ngram\">1.2 n-gram model</a>\n",
    "    * <a href=\"#n_parameters\">1.2.1 How much memory do you expect a model to occupy?</a>\n",
    "    * <a href=\"#train_lm\">1.2.2 N-gram Word LM</a>\n",
    "  * <a href=\"#eval\">1.3 Language Model Evaluation</a>\n",
    "    * <a href=\"#per\">1.3.1 Perplexity</a>\n",
    "    * <a href=\"#smoothing\">1.3.2 Smoothing</a>\n",
    "    * <a href=\"#overfit\">1.3.3 Perplexity according to the order of the n-gram model\n",
    "    * <a href=\"#test-lm\">1.3.4 Test the best n-gram LM</a>\n",
    "    * <a href=\"#gen\">1.3.5 Generating Text using Language Models</a>\n",
    "  * <a href=\"#nn-lm\">1.4 Character language model</a>\n",
    "    * <a href=\"#effectiveness\">1.4.1 Read and Summarize</a>\n",
    "    * <a href=\"#recipes\">1.4.2 Recipes with a Character LM</a>\n",
    "* <a href=\"#P2\">Part 2: Polynomial curve fitting</a>\n",
    "  * <a href=\"#syntheticdata\">2.1 Synthetic data generation</a>\n",
    "  * <a href=\"#curvefitting\">2.2 Polynomial Curve Fitting</a>\n",
    "  * <a href=\"#regularization\">2.3 Polynomial Curve Fitting with Regularization</a>\n",
    "  * <a href=\"#prob-regr\">2.4 Probabilistic Regression Model</a>\n",
    "* <a href=\"#P3\">Part 3: Text Classification with Character RNN</a>\n",
    "  * <a href=\"#readtut\">3.1 Summarize the PyTorch Tutorial</a>\n",
    "  * <a href=\"#newdata\">3.2 Explore the Cities Dataset</a>\n",
    "  * <a href=\"#citiesmodel\">3.3 Train and Evaluate the RNN Model for Cities</a>\n",
    "  * <a href=\"#bettercitiesmodel\">3.4 (Optional) Improve the Model</a>"
   ]
  },
  {
   "cell_type": "markdown",
   "metadata": {},
   "source": [
    "<hr>\n",
    "<a name=\"P1\"></a>\n",
    "<h2>Part 1: Language Models</h2>\n",
    "\n",
    "<a name=\"data\"></a>\n",
    "<h3>1.1 Data Exploration</h3>\n",
    "\n",
    "<a name=\"explore\"></a>\n",
    "<h4>1.1.1 Gathering Basic Statistics</h4>\n",
    "\n",
    "In this section, we collect and plot the following information on a text dataset:\n",
    "<ul>\n",
    "<li>The total number of tokens</li>\n",
    "<li>The total number of characters</li>\n",
    "<li>The total number of distinct words (vocabulary)</li>\n",
    "<li>The total number of tokens corresponding to the top-N most frequent words in the vocabulary</li>\n",
    "<li>The token/type ratio in the dataset</li>\n",
    "<li>The number of types that appear in the dev data but not the training data</li>\n",
    "<li>The average number and standard deviation of characters per token</li>\n",
    "<li>The total number of distinct n-grams (of words) that appear in the dataset for n=2,3,4.</li>\n",
    "<li>The total number of distint n-grams of characters that appear for n=2,3,4,5,6,7.</li>\n",
    "</ul>"
   ]
  },
  {
   "cell_type": "markdown",
   "metadata": {},
   "source": [
    "We operate on the PTB dataset, which contains 929k training words, 73k validation words, and 82k test words. \n",
    "It is formatted in such a way that only the top 10k most frequent words are in its vocabulary.\n",
    "\n",
    "We gather the files from <a href=\"http://www.fit.vutbr.cz/~imikolov/rnnlm/simple-examples.tgz\">the dataset</a>\n",
    "where sentences are segmented one per line and words separated by spaces.  We assume the files are located in \"../data/\"."
   ]
  },
  {
   "cell_type": "markdown",
   "metadata": {},
   "source": [
    "#### Tokenizing"
   ]
  },
  {
   "cell_type": "markdown",
   "metadata": {},
   "source": [
    "You may need to tokenize strings read from the dataset files into lists of tokens.  \n",
    "\n",
    "Think which method is best appropriate for this dataset given the way it is formatting.\n",
    "Recall the method based on regular expressions used in Norvig's piece.\n",
    "Compare it with the the tokenizer provided in the nltk library."
   ]
  },
  {
   "cell_type": "code",
   "execution_count": 229,
   "metadata": {},
   "outputs": [
    {
     "name": "stdout",
     "output_type": "stream",
     "text": [
      "['Wo', \"n't\", 'this', 'be', 'tokenized', ',', 'the', 'way', 'PTB', 'expects', 'it', 'to', 'be', '.']\n",
      "We found 14 tokens\n"
     ]
    },
    {
     "name": "stderr",
     "output_type": "stream",
     "text": [
      "[nltk_data] Downloading package punkt to\n",
      "[nltk_data]     C:\\Users\\Dani\\AppData\\Roaming\\nltk_data...\n",
      "[nltk_data]   Package punkt is already up-to-date!\n"
     ]
    }
   ],
   "source": [
    "import nltk\n",
    "nltk.download('punkt')\n",
    "\n",
    "text = \"Won't this be tokenized, the way PTB expects it to be.\"\n",
    "tokens = nltk.word_tokenize(text)\n",
    "print(tokens)\n",
    "\n",
    "print(\"We found %s tokens\" % (len(tokens)))"
   ]
  },
  {
   "cell_type": "markdown",
   "metadata": {},
   "source": [
    "The output of justext is organized in paragraphs.  We converted them as one line of text each."
   ]
  },
  {
   "cell_type": "markdown",
   "metadata": {},
   "source": [
    "Note how abbreviations in English are tokenized in PTB (\"I'm\" becomes [\"I\", \"'m\"]) and numbers are all replaced by the \"N\" special token."
   ]
  },
  {
   "cell_type": "markdown",
   "metadata": {},
   "source": [
    "we will now observe the ptb dataset , first we will load the train, validation and test words and tokenize them.\n",
    "we know that this dataset have been preproccesed so there are only 10k most frequent words.\n",
    "in the dataset there are 929k training words, 73k validation words and 82k test words."
   ]
  },
  {
   "cell_type": "code",
   "execution_count": 230,
   "metadata": {},
   "outputs": [
    {
     "name": "stdout",
     "output_type": "stream",
     "text": [
      "we found 978754 tokens in train\n",
      "['aer', 'banknote', 'berlitz', 'calloway', 'centrust', 'cluett', 'fromstein', 'gitano', 'guterman', 'hydro-quebec', 'ipo', 'kia', 'memotec', 'mlx', 'nahb', 'punts', 'rake', 'regatta', 'rubens', 'sim', 'snack-food', 'ssangyong', 'swapo', 'wachter', 'pierre', '<', 'unk', '>', 'N', 'years', 'old', 'will', 'join', 'the', 'board', 'as', 'a', 'nonexecutive', 'director', 'nov.', 'N', 'mr.', '<', 'unk', '>', 'is', 'chairman', 'of', '<', 'unk', '>', 'n.v.', 'the', 'dutch', 'publishing', 'group', 'rudolph', '<', 'unk', '>', 'N', 'years', 'old', 'and', 'former', 'chairman', 'of', 'consolidated', 'gold', 'fields', 'plc', 'was', 'named', 'a', 'nonexecutive', 'director', 'of', 'this', 'british', 'industrial', 'conglomerate', 'a', 'form', 'of', 'asbestos', 'once', 'used', 'to', 'make', 'kent', 'cigarette', 'filters', 'has', 'caused', 'a', 'high', 'percentage', 'of', 'cancer', 'deaths']\n"
     ]
    }
   ],
   "source": [
    "import os\n",
    "\n",
    "train_text = open(os.path.join(os.getcwd(), \"..\\data\\ptb.train.txt\")).read()\n",
    "train_tokens = nltk.word_tokenize(train_text)\n",
    "print(\"we found {num} tokens in train\".format(num=len(train_tokens)))\n",
    "print(train_tokens[:100])"
   ]
  },
  {
   "cell_type": "markdown",
   "metadata": {},
   "source": [
    "we can see that the word tokinizer isn't working as expected , we want the <unk> words to be marked as 1 token and not as 3 , we will use white space tokenizer for that task"
   ]
  },
  {
   "cell_type": "code",
   "execution_count": 231,
   "metadata": {},
   "outputs": [
    {
     "name": "stdout",
     "output_type": "stream",
     "text": [
      "['aer', 'banknote', 'berlitz', 'calloway', 'centrust', 'cluett', 'fromstein', 'gitano', 'guterman', 'hydro-quebec', 'ipo', 'kia', 'memotec', 'mlx', 'nahb', 'punts', 'rake', 'regatta', 'rubens', 'sim', 'snack-food', 'ssangyong', 'swapo', 'wachter', 'pierre', '<unk>', 'N', 'years', 'old', 'will', 'join', 'the', 'board', 'as', 'a', 'nonexecutive', 'director', 'nov.', 'N', 'mr.', '<unk>', 'is', 'chairman', 'of', '<unk>', 'n.v.', 'the', 'dutch', 'publishing', 'group', 'rudolph', '<unk>', 'N', 'years', 'old', 'and', 'former', 'chairman', 'of', 'consolidated', 'gold', 'fields', 'plc', 'was', 'named', 'a', 'nonexecutive', 'director', 'of', 'this', 'british', 'industrial', 'conglomerate', 'a', 'form', 'of', 'asbestos', 'once', 'used', 'to', 'make', 'kent', 'cigarette', 'filters', 'has', 'caused', 'a', 'high', 'percentage', 'of', 'cancer', 'deaths', 'among', 'a', 'group', 'of', 'workers', 'exposed', 'to', 'it']\n",
      "we found 887521 tokens in train\n"
     ]
    }
   ],
   "source": [
    "from nltk.tokenize import WhitespaceTokenizer\n",
    "\n",
    "tokenizer = WhitespaceTokenizer()\n",
    "train_tokens = tokenizer.tokenize(train_text)\n",
    "print(train_tokens[:100])\n",
    "print(\"we found {num} tokens in train\".format(num=len(train_tokens)))"
   ]
  },
  {
   "cell_type": "markdown",
   "metadata": {},
   "source": [
    "we can see that the number of tokens is sagnifintcly smaller than before , abd we can see that we got reed of '<' , '>'.\n",
    "we will use this method in the other datasets as well."
   ]
  },
  {
   "cell_type": "code",
   "execution_count": 232,
   "metadata": {},
   "outputs": [
    {
     "name": "stdout",
     "output_type": "stream",
     "text": [
      "['consumers', 'may', 'want', 'to', 'move', 'their', 'telephones', 'a', 'little', 'closer', 'to', 'the', 'tv', 'set', '<unk>', '<unk>', 'watching', 'abc', \"'s\", 'monday', 'night', 'football', 'can', 'now', 'vote', 'during', '<unk>', 'for', 'the', 'greatest', 'play', 'in', 'N', 'years', 'from', 'among', 'four', 'or', 'five', '<unk>', '<unk>', 'two', 'weeks', 'ago', 'viewers', 'of', 'several', 'nbc', '<unk>', 'consumer', 'segments', 'started', 'calling', 'a', 'N', 'number', 'for', 'advice', 'on', 'various', '<unk>', 'issues', 'and', 'the', 'new', 'syndicated', 'reality', 'show', 'hard', 'copy', 'records', 'viewers', \"'\", 'opinions', 'for', 'possible', 'airing', 'on', 'the', 'next', 'day', \"'s\", 'show', 'interactive', 'telephone', 'technology', 'has', 'taken', 'a', 'new', 'leap', 'in', '<unk>', 'and', 'television', 'programmers', 'are', 'racing', 'to', 'exploit']\n",
      "we found 70390 tokens in valid dataset\n",
      "['no', 'it', 'was', \"n't\", 'black', 'monday', 'but', 'while', 'the', 'new', 'york', 'stock', 'exchange', 'did', \"n't\", 'fall', 'apart', 'friday', 'as', 'the', 'dow', 'jones', 'industrial', 'average', 'plunged', 'N', 'points', 'most', 'of', 'it', 'in', 'the', 'final', 'hour', 'it', 'barely', 'managed', 'to', 'stay', 'this', 'side', 'of', 'chaos', 'some', 'circuit', 'breakers', 'installed', 'after', 'the', 'october', 'N', 'crash', 'failed', 'their', 'first', 'test', 'traders', 'say', 'unable', 'to', 'cool', 'the', 'selling', 'panic', 'in', 'both', 'stocks', 'and', 'futures', 'the', 'N', 'stock', 'specialist', 'firms', 'on', 'the', 'big', 'board', 'floor', 'the', 'buyers', 'and', 'sellers', 'of', 'last', 'resort', 'who', 'were', 'criticized', 'after', 'the', 'N', 'crash', 'once', 'again', 'could', \"n't\", 'handle', 'the', 'selling']\n",
      "we found 78669 tokens in test dataset\n"
     ]
    }
   ],
   "source": [
    "valid_text = open(os.path.join(os.getcwd(), \"..\\data\\ptb.valid.txt\")).read()\n",
    "valid_tokens = tokenizer.tokenize(valid_text)\n",
    "print(valid_tokens[:100])\n",
    "print(\"we found {num} tokens in valid dataset\".format(num=len(valid_tokens)))\n",
    "\n",
    "test_text = open(os.path.join(os.getcwd(), \"..\\data\\ptb.test.txt\")).read()\n",
    "test_tokens = tokenizer.tokenize(test_text)\n",
    "print(test_tokens[:100])\n",
    "print(\"we found {num} tokens in test dataset\".format(num=len(test_tokens)))"
   ]
  },
  {
   "cell_type": "markdown",
   "metadata": {},
   "source": [
    "we will now load the Shakespeare data set , we can see that this dataset was not preprocessed so we need to tokenize the words difrrently because we will also get spieciel chars as tokens(like '.').\n",
    "we also expect this set to be smaller then our train dataset but this is not mendatory , somtimes test datasets are larger then the train ones."
   ]
  },
  {
   "cell_type": "code",
   "execution_count": 233,
   "metadata": {},
   "outputs": [
    {
     "name": "stdout",
     "output_type": "stream",
     "text": [
      "we found 832301 tokens in shakesphere dataset\n",
      "['First', 'Citizen:', 'Before', 'we', 'proceed', 'any', 'further,', 'hear', 'me', 'speak.', 'All:', 'Speak,', 'speak.', 'First', 'Citizen:', 'You', 'are', 'all', 'resolved', 'rather', 'to', 'die', 'than', 'to', 'famish?', 'All:', 'Resolved.', 'resolved.', 'First', 'Citizen:', 'First,', 'you', 'know', 'Caius', 'Marcius', 'is', 'chief', 'enemy', 'to', 'the', 'people.', 'All:', 'We', \"know't,\", 'we', \"know't.\", 'First', 'Citizen:', 'Let', 'us', 'kill', 'him,', 'and', \"we'll\", 'have', 'corn', 'at', 'our', 'own', 'price.', \"Is't\", 'a', 'verdict?', 'All:', 'No', 'more', 'talking', \"on't;\", 'let', 'it', 'be', 'done:', 'away,', 'away!', 'Second', 'Citizen:', 'One', 'word,', 'good', 'citizens.', 'First', 'Citizen:', 'We', 'are', 'accounted', 'poor', 'citizens,', 'the', 'patricians', 'good.', 'What', 'authority', 'surfeits', 'on', 'would', 'relieve', 'us:', 'if', 'they', 'would']\n"
     ]
    }
   ],
   "source": [
    "shake_test_text = open(os.path.join(os.getcwd(), \"..\\data\\shakespeare.txt\")).read()\n",
    "shake_test_tokens = tokenizer.tokenize(shake_test_text)\n",
    "print(\"we found {num} tokens in shakesphere dataset\".format(num=len(shake_test_tokens)))\n",
    "print(shake_test_tokens[:100])"
   ]
  },
  {
   "cell_type": "markdown",
   "metadata": {},
   "source": [
    "we will now calculate the total number of chars in the ptb dataset , we expect the number of chars to be signifintly more than the number of words in each dataset, we expect that number to be bounded to biggest_word * number_of_words."
   ]
  },
  {
   "cell_type": "code",
   "execution_count": 234,
   "metadata": {},
   "outputs": [
    {
     "name": "stdout",
     "output_type": "stream",
     "text": [
      "we found 4129961 tokens\n"
     ]
    }
   ],
   "source": [
    "def split_words(words):\n",
    "    chars = []\n",
    "    for word in words:\n",
    "        for char in word:\n",
    "            chars.append(char)\n",
    "    return chars\n",
    "\n",
    "train_char_tokens = split_words(train_tokens)\n",
    "print(\"we found {num} tokens\".format(num=len(train_char_tokens)))"
   ]
  },
  {
   "cell_type": "code",
   "execution_count": 235,
   "metadata": {},
   "outputs": [
    {
     "name": "stdout",
     "output_type": "stream",
     "text": [
      "we found 3709942 tokens\n"
     ]
    }
   ],
   "source": [
    "shake_char_tokens = split_words(shake_test_tokens)\n",
    "print(\"we found {num} tokens\".format(num=len(shake_char_tokens)))"
   ]
  },
  {
   "cell_type": "markdown",
   "metadata": {},
   "source": [
    "we will know calculate the total number of disticnt words in the dataset, we know that the ptb dataset was preprocced so it will only containt the 10k most frequent words so that's what we expect to find there.\n",
    "but in the shekspere dataset we didn't run such preprocess so we cant predict how much words are there in that data set but we can be sure it isn't larger then the entire dataset size which was 855k words.\n",
    "in order to get the disticnt number of words we will just use the set object of python which provide uniquness to each word, and then we will check is size."
   ]
  },
  {
   "cell_type": "code",
   "execution_count": 236,
   "metadata": {},
   "outputs": [
    {
     "name": "stdout",
     "output_type": "stream",
     "text": [
      "we found 9999 words in the train\n",
      "we found 6021 words in the valid\n",
      "we found 6048 words in the test\n",
      "we found 62983 words in shakesphere dataset\n"
     ]
    }
   ],
   "source": [
    "disticnt_words_train = set(train_tokens)\n",
    "disticnt_words_valid = set(valid_tokens)\n",
    "disticnt_words_test = set(test_tokens)\n",
    "disticnt_words_shake = set(shake_test_tokens)\n",
    "\n",
    "print(\"we found {num} words in the train\".format(num=len(disticnt_words_train)))\n",
    "print(\"we found {num} words in the valid\".format(num=len(disticnt_words_valid)))\n",
    "print(\"we found {num} words in the test\".format(num=len(disticnt_words_test)))\n",
    "print(\"we found {num} words in shakesphere dataset\".format(num=len(disticnt_words_shake)))"
   ]
  },
  {
   "cell_type": "code",
   "execution_count": 237,
   "metadata": {},
   "outputs": [
    {
     "name": "stdout",
     "output_type": "stream",
     "text": [
      "number of words which are diffrent in the train and valid 3978\n",
      "number of words which are diffrent in the train and test 3951\n",
      "number of words which are diffrent in the train and shakesphere 64516\n"
     ]
    }
   ],
   "source": [
    "print('number of words which are diffrent in the train and valid {}'.format(len(disticnt_words_train.symmetric_difference(disticnt_words_valid))))\n",
    "print('number of words which are diffrent in the train and test {}'.format(len(disticnt_words_train.symmetric_difference(disticnt_words_test))))\n",
    "print('number of words which are diffrent in the train and shakesphere {}'.format(len(disticnt_words_train.symmetric_difference(disticnt_words_shake))))"
   ]
  },
  {
   "cell_type": "code",
   "execution_count": 238,
   "metadata": {},
   "outputs": [
    {
     "data": {
      "text/plain": [
       "[<matplotlib.lines.Line2D at 0x25b953cf5e0>]"
      ]
     },
     "execution_count": 238,
     "metadata": {},
     "output_type": "execute_result"
    },
    {
     "data": {
      "image/png": "[encoded data removed]",
      "text/plain": [
       "<Figure size 432x288 with 1 Axes>"
      ]
     },
     "metadata": {
      "needs_background": "light"
     },
     "output_type": "display_data"
    }
   ],
   "source": [
    "import collections\n",
    "most_frequent_words = collections.Counter(train_tokens)\n",
    "plt.plot([val for word,val in most_frequent_words.most_common(4000)])"
   ]
  },
  {
   "cell_type": "code",
   "execution_count": 239,
   "metadata": {},
   "outputs": [
    {
     "name": "stdout",
     "output_type": "stream",
     "text": [
      "the average tokens per type in the dataset is 88.76097609760976\n"
     ]
    }
   ],
   "source": [
    "average_tokens_per_type = sum([freq for freq in most_frequent_words.values()]) / len(most_frequent_words)\n",
    "print('the average tokens per type in the dataset is {}'.format(average_tokens_per_type))"
   ]
  },
  {
   "cell_type": "code",
   "execution_count": 240,
   "metadata": {},
   "outputs": [
    {
     "name": "stdout",
     "output_type": "stream",
     "text": [
      "the std tokens per type in the dataset is 940.1980030300945\n"
     ]
    }
   ],
   "source": [
    "std_token_per_type = np.std([freq for freq in most_frequent_words.values()])\n",
    "print('the std tokens per type in the dataset is {}'.format(std_token_per_type))"
   ]
  },
  {
   "cell_type": "code",
   "execution_count": 241,
   "metadata": {},
   "outputs": [
    {
     "data": {
      "text/plain": [
       "[<matplotlib.lines.Line2D at 0x25b89697340>]"
      ]
     },
     "execution_count": 241,
     "metadata": {},
     "output_type": "execute_result"
    },
    {
     "data": {
      "image/png": "[encoded data removed]",
      "text/plain": [
       "<Figure size 432x288 with 1 Axes>"
      ]
     },
     "metadata": {
      "needs_background": "light"
     },
     "output_type": "display_data"
    }
   ],
   "source": [
    "ngrams = []\n",
    "for n in range(2,5):\n",
    "    ngrams.append(len(set((tuple(train_tokens[i : i + n]), train_tokens[i + n]) for i in range(len(train_tokens) - n))))\n",
    "plt.plot([i for i in range(2,5)], ngrams)"
   ]
  },
  {
   "cell_type": "code",
   "execution_count": 242,
   "metadata": {},
   "outputs": [
    {
     "data": {
      "text/plain": [
       "[<matplotlib.lines.Line2D at 0x25beb5d0130>]"
      ]
     },
     "execution_count": 242,
     "metadata": {},
     "output_type": "execute_result"
    },
    {
     "data": {
      "image/png": "[encoded data removed]",
      "text/plain": [
       "<Figure size 432x288 with 1 Axes>"
      ]
     },
     "metadata": {
      "needs_background": "light"
     },
     "output_type": "display_data"
    }
   ],
   "source": [
    "char_ngrams = []\n",
    "for n in range(2,8):\n",
    "    char_ngrams.append(len(set((tuple(train_char_tokens[i : i + n]), train_char_tokens[i + n]) for i in range(len(train_char_tokens) - n))))\n",
    "plt.plot([i for i in range(2,8)], char_ngrams)"
   ]
  },
  {
   "cell_type": "markdown",
   "metadata": {},
   "source": [
    "<a name=\"power\"></a>\n",
    "<h4>1.1.2 Zipf and Power Law</h4>\n",
    "\n",
    "Word count distributions are said to follow <a href=\"https://en.wikipedia.org/wiki/Power_law\">power law distributions</a>. \n",
    "In practice, this means that a plot of the log-frequency against the log-rank is nearly linear. \n",
    "We will verify that this holds for the Penn Treebank dataset by constructing the appropriate corpus_counts counter:\n"
   ]
  },
  {
   "cell_type": "code",
   "execution_count": 243,
   "metadata": {},
   "outputs": [],
   "source": [
    "tokens = train_tokens\n",
    "corpus_counts = Counter(tokens)"
   ]
  },
  {
   "cell_type": "code",
   "execution_count": 244,
   "metadata": {},
   "outputs": [
    {
     "name": "stdout",
     "output_type": "stream",
     "text": [
      "3.3.2\n"
     ]
    },
    {
     "data": {
      "text/plain": [
       "Text(0, 0.5, 'frequency')"
      ]
     },
     "execution_count": 244,
     "metadata": {},
     "output_type": "execute_result"
    },
    {
     "data": {
      "image/png": "[encoded data removed]",
      "text/plain": [
       "<Figure size 432x288 with 1 Axes>"
      ]
     },
     "metadata": {
      "needs_background": "light"
     },
     "output_type": "display_data"
    }
   ],
   "source": [
    "import matplotlib.pyplot as plt\n",
    "import matplotlib\n",
    "print(matplotlib.__version__)\n",
    "\n",
    "plt.loglog([val for word,val in corpus_counts.most_common(4000)])\n",
    "plt.xlabel('rank')\n",
    "plt.ylabel('frequency')"
   ]
  },
  {
   "cell_type": "markdown",
   "metadata": {},
   "source": [
    "<a name=\"ngram\"></a>\n",
    "<h3><a name=\"ngram\">1.2 n-gram Word Language Model</a></h3>\n",
    "\n",
    "<a name=\"n_parameters\"></a>\n",
    "<h4>1.2.1 How much memory do you expect a model to occupy?</h4>\n",
    "\n",
    "i think the model will occupy number_of_words ^ N , and since he have 10k words the model should oocupy 10K ^ N\n"
   ]
  },
  {
   "cell_type": "markdown",
   "metadata": {},
   "source": [
    "<a name=\"train_lm\"></a>\n",
    "<h4>1.2.2 N-gram LM</h4>\n",
    "\n",
    "We present a Python function to construct a word n-gram model given a dataset according to the signature:\n",
    "<pre>\n",
    "train_word_lm(dataset, n=2)\n",
    "</pre>"
   ]
  },
  {
   "cell_type": "markdown",
   "metadata": {},
   "source": [
    "we assume that the dataset was allready tokenized before"
   ]
  },
  {
   "cell_type": "code",
   "execution_count": 245,
   "metadata": {},
   "outputs": [
    {
     "name": "stdout",
     "output_type": "stream",
     "text": [
      "aer banknote berlitz calloway centrust cluett fromstein gitano guterman hydro-quebec ipo kia memotec mlx nahb punts rake regatta rubens sim snack-food ssangyong swapo wachter pierre <unk> N years old after his arrest the N N at its strongest the treasury 's seven-year note rated single-a-3 by moody 's investors service inc. said it will move quickly regulators as well primarily because of power <unk> and plans to shift blame onto a <unk> pilot and <unk> as <unk> to personal saving that labor day weekend mr. jackson 's canceled checks was on tv this film is currently about # N billion budget deficit mr. lawson 's withdrawal the baker boys that may have similar applications pending over the short term create a level that is now a <unk> her or that many big <unk> windows since the early 1970s following the collapse of the justice department and labor committees is <unk> up the alaskan <unk> <unk> <unk> technology to build its cash flow to market visa and <unk> the new york state department who has years of <unk> calif stock prices firmed only modestly in major market activity was n't concerned about the deficit in the u.s. treasury undersecretary on the domestic side were particularly dusty where the land in that post at the last minute after the resignations were announced during the sale of new hampshire proposes a formula for ensuring that foundations of his canceled checks was to put different <unk> when referred to the struggling <unk> montreal daily news briefing from the commission to monitor employees ' desks they ring the <unk> session the merc said mr. black N chose early retirement plan offered under its own u.s. offices do over the company pitches southern comfort as a series of sales compared with $ N million from $ N a share from $ N a computer maker annual sales of $ N million and c$ N million to build brand loyalty more than $ N million or N N issue for november yesterday 's announcements helped spark a period of industry calif. said it will sell all his stocks by the new district lines the charter members of congress think it will redeem N million charge related to <unk> the machinists have always opposed majority ownership of united air 's flagship daily newspaper in nearby <unk> shortly after mr. freeman who his source was and on an issue the compromise proposal ending a long shelf life now the fundamentals to <unk> into the underlying demand for london 's big board san <unk> industrial <unk> a potential production disruption in our face said one top trader the big often tumultuous slide in its japanese clients will be supported by some of the santa ana community redevelopment agency calif. tax allocation bonds N series b priced by a $ N million june N the boys are pretty <unk> for taking on a par spokesman said newport electronics inc. of <unk> 's president and chief financial officer was named a vice president and president semel deny that some public announcement about the best baseball teams win six of N N to N london share prices closed modestly higher in the <unk> ga. is to <unk> high school last march the humanitarian assistance under a new swap the $ 300-a-share $ N will be increasingly difficult for the quarter employers casualty which reported lackluster earnings friday lost N to N units total truck production that cut short the rally <unk> anc flags wore anc <unk> to <unk> socialist order into a gambling casino contel chairman charles wohlstetter chairman of the big board president bush told mr. apple in its current form it argues that its first-half results are available now at&t said that <unk> of the films he had been expected is part of a credit card all for free news of the junk market was <unk> and <unk> out the study was done by robert freeman formerly head of international trade and industry observers say that the purchasers ' index which <unk> N years the packwood plan also under chapter N protection from creditor lawsuits while it was <unk> out fixed commissions it scared brokers but apparently not especially <unk> for N N to N years of N release N an ounce was regarded as ecological hazards due to businesses is n't likely to be <unk> for a while and even <unk> to <unk> such <unk> diseases and <unk> annuities are rarely a source of <unk> who offers the secret to being a <unk> message about the place can be attributed to lower the volume of N basis points above the proposed changes object to most u.s. <unk> in the country 's five million common shares via shearson lehman hutton inc. new york times co. 's alley in one <unk> pc while american aid efforts have been a switch in the coming <unk> <unk> was an $ N billion in the international monetary fund we want to remain high for the brady commission report they said would be sold to pay farmers for the past four weeks the gm deal gm might <unk> the lucrative california market any such argument if sony succeeds here no written contract in hollywood and despite powerful allies the opposition a loose group of cos. said it agreed to the british displayed unusual political <unk> <unk> corp arby 's for banning <unk> bullets but that requiring a chicago law firm of bruce <unk> daffynition <unk> applause <unk> <unk> individuals he adds galvanized me to select the vote last november mesa airlines because the cost of building a new <unk> this year the average of top rates paid by major corporations a kodak spokesman declined to name the shareholder rights plan holders will receive $ N million initially to launch <unk> inc. said it received a N N at N N N the few black federal judges in august and was up N N notes due april N <unk> declined to comment currently mr. merksamer and sanford\n"
     ]
    }
   ],
   "source": [
    "def add_padding(dataset, n=2):\n",
    "    return ['*' for i in range(n)] + dataset\n",
    "\n",
    "def prepare_dataset(dataset, n=2):\n",
    "    dataset_with_padding  = add_padding(dataset, n)\n",
    "    return [(tuple(dataset_with_padding[i : i + n]), dataset_with_padding[i + n]) for i in range(len(dataset_with_padding) - n)]\n",
    "\n",
    "def create_lm(dataset, estimator=nltk.MLEProbDist, **kwargs):\n",
    "    cfd = nltk.ConditionalFreqDist(dataset)\n",
    "    return nltk.ConditionalProbDist(cfd, estimator, **kwargs)\n",
    "    \n",
    "def train_word_lm(dataset, n=2, estimator=nltk.MLEProbDist, **kwargs):\n",
    "    word_grams = prepare_dataset(dataset, n)\n",
    "    return create_lm(word_grams, estimator, **kwargs)\n",
    "\n",
    "n = 2\n",
    "lm = train_word_lm(train_tokens, n=n)\n",
    "out = []\n",
    "hist = ['*' for i in range(n)]\n",
    "for _ in range(1000):\n",
    "    word = lm[tuple(hist)].generate()\n",
    "    hist = hist[1:]\n",
    "    hist.append(word)\n",
    "    out.append(word)\n",
    "print(' '.join(out))"
   ]
  },
  {
   "cell_type": "markdown",
   "metadata": {},
   "source": [
    "Provide:\n",
    "* The list of methods of the object cpd that are useful for a language model (inherited or implemented by the various classes in nltk)\n",
    "* Explain how the function generate() used in the sample works - why does it compute a correct way to sample from a distribution?\n"
   ]
  },
  {
   "cell_type": "markdown",
   "metadata": {},
   "source": [
    "<a name=\"eval\"></a>\n",
    "<h3>1.3 Language Model Evaluation</h3>\n",
    "\n",
    "We now evaluate the performance of the learned language models by using two techniques:\n",
    "measuring perplexity on a validation dataset and using the model to generate random text, then assessing\n",
    "the readability of the generated text.\n",
    "\n",
    "<a name=\"per\"></a>\n",
    "<h4>1.3.1 Perplexity</h4>\n",
    "\n",
    "We implement a Python function to measure the perplexity of a trained model on a test dataset."
   ]
  },
  {
   "cell_type": "code",
   "execution_count": 246,
   "metadata": {},
   "outputs": [],
   "source": [
    "# We adapt the methods to compute the cross-entropy and perplexity of a model from nltk.model\n",
    "# to our implementation\n",
    "\n",
    "def entropy(lm , n, text):\n",
    "    e = 0.0\n",
    "    for i in range(len(text) - n):\n",
    "        context = tuple(text[i : i + n])\n",
    "        token = text[i + n]\n",
    "        e -= lm[context].logprob(token)\n",
    "    return e / float(len(text) - (n - 1))\n",
    "\n",
    "def perplexity(lm, n, text):\n",
    "    return pow(2.0, entropy(lm, n, text))\n"
   ]
  },
  {
   "cell_type": "code",
   "execution_count": 247,
   "metadata": {},
   "outputs": [
    {
     "ename": "OverflowError",
     "evalue": "(34, 'Result too large')",
     "output_type": "error",
     "traceback": [
      "\u001b[1;31m---------------------------------------------------------------------------\u001b[0m",
      "\u001b[1;31mOverflowError\u001b[0m                             Traceback (most recent call last)",
      "\u001b[1;32m<ipython-input-247-e39c9e43a1af>\u001b[0m in \u001b[0;36m<module>\u001b[1;34m\u001b[0m\n\u001b[0;32m      2\u001b[0m \u001b[0mvocabulary_size\u001b[0m \u001b[1;33m=\u001b[0m \u001b[0mlen\u001b[0m\u001b[1;33m(\u001b[0m\u001b[0mset\u001b[0m\u001b[1;33m(\u001b[0m\u001b[0mtrain_tokens\u001b[0m\u001b[1;33m)\u001b[0m\u001b[1;33m)\u001b[0m\u001b[1;33m\u001b[0m\u001b[1;33m\u001b[0m\u001b[0m\n\u001b[0;32m      3\u001b[0m \u001b[0mvalid_tokens_with_padding\u001b[0m \u001b[1;33m=\u001b[0m \u001b[0madd_padding\u001b[0m\u001b[1;33m(\u001b[0m\u001b[0mvalid_tokens\u001b[0m\u001b[1;33m)\u001b[0m\u001b[1;33m\u001b[0m\u001b[1;33m\u001b[0m\u001b[0m\n\u001b[1;32m----> 4\u001b[1;33m \u001b[0mprint\u001b[0m\u001b[1;33m(\u001b[0m\u001b[1;34m\"results : {}\"\u001b[0m\u001b[1;33m.\u001b[0m\u001b[0mformat\u001b[0m\u001b[1;33m(\u001b[0m\u001b[0mperplexity\u001b[0m\u001b[1;33m(\u001b[0m\u001b[0mlm\u001b[0m\u001b[1;33m,\u001b[0m \u001b[1;36m2\u001b[0m\u001b[1;33m,\u001b[0m \u001b[0mvalid_tokens_with_padding\u001b[0m\u001b[1;33m)\u001b[0m\u001b[1;33m)\u001b[0m\u001b[1;33m)\u001b[0m\u001b[1;33m\u001b[0m\u001b[1;33m\u001b[0m\u001b[0m\n\u001b[0m",
      "\u001b[1;32m<ipython-input-246-9d583cdd9970>\u001b[0m in \u001b[0;36mperplexity\u001b[1;34m(lm, n, text)\u001b[0m\n\u001b[0;32m     11\u001b[0m \u001b[1;33m\u001b[0m\u001b[0m\n\u001b[0;32m     12\u001b[0m \u001b[1;32mdef\u001b[0m \u001b[0mperplexity\u001b[0m\u001b[1;33m(\u001b[0m\u001b[0mlm\u001b[0m\u001b[1;33m,\u001b[0m \u001b[0mn\u001b[0m\u001b[1;33m,\u001b[0m \u001b[0mtext\u001b[0m\u001b[1;33m)\u001b[0m\u001b[1;33m:\u001b[0m\u001b[1;33m\u001b[0m\u001b[1;33m\u001b[0m\u001b[0m\n\u001b[1;32m---> 13\u001b[1;33m     \u001b[1;32mreturn\u001b[0m \u001b[0mpow\u001b[0m\u001b[1;33m(\u001b[0m\u001b[1;36m2.0\u001b[0m\u001b[1;33m,\u001b[0m \u001b[0mentropy\u001b[0m\u001b[1;33m(\u001b[0m\u001b[0mlm\u001b[0m\u001b[1;33m,\u001b[0m \u001b[0mn\u001b[0m\u001b[1;33m,\u001b[0m \u001b[0mtext\u001b[0m\u001b[1;33m)\u001b[0m\u001b[1;33m)\u001b[0m\u001b[1;33m\u001b[0m\u001b[1;33m\u001b[0m\u001b[0m\n\u001b[0m",
      "\u001b[1;31mOverflowError\u001b[0m: (34, 'Result too large')"
     ]
    }
   ],
   "source": [
    "# We now measure the reported perplexity values on the Penn Treebank validation dataset ptb.valid.txt\n",
    "vocabulary_size = len(set(train_tokens))\n",
    "valid_tokens_with_padding = add_padding(valid_tokens)\n",
    "print(\"results : {}\".format(perplexity(lm, 2, valid_tokens_with_padding)))"
   ]
  },
  {
   "cell_type": "markdown",
   "metadata": {},
   "source": [
    "we can observe that the result is to big because we encountered unseen words in the valid set , so the probability to output those from the model is 0 and $\\lim_{x\\to0^{+}} log(x)=-\\infty$\n",
    "in order to solve that problem we will need to use smoothing algorithms."
   ]
  },
  {
   "cell_type": "markdown",
   "metadata": {},
   "source": [
    "<a name=\"smoothing\"></a>\n",
    "<h4>1.3.2 Smoothing</h4>\n",
    "\n",
    "In order to improve the model, we will use a smoothing technique.\n",
    "\n",
    "We use the <a href=\"http://www.nltk.org/_modules/nltk/probability.html\">nltk probability distribution</a> module which provides different estimators that implement smoothing methods (Laplace, Lidstone, Witten-Bell, Good-Turing). "
   ]
  },
  {
   "cell_type": "markdown",
   "metadata": {},
   "source": [
    "we will use Lidstone Estimator, which for gamma,bins and frequency does the following : $\\frac{f + gamma}{N + bins}$\n",
    "so from that formula we can understund that the number of bins should be the vocublary size, because we want to normalize this term."
   ]
  },
  {
   "cell_type": "code",
   "execution_count": 276,
   "metadata": {},
   "outputs": [
    {
     "name": "stdout",
     "output_type": "stream",
     "text": [
      "results : 2176.860464522929\n"
     ]
    }
   ],
   "source": [
    "# We change the model to use a different estimator than the Maximum Likelihood Estimator (MLE) count-based estimator\n",
    "# to compute the probability of p(w|history).  \n",
    "lidstone_lm = train_word_lm(train_tokens, n=2, estimator=nltk.LidstoneProbDist, bins=vocabulary_size, gamma=0.1)\n",
    "valid_tokens_with_padding = add_padding(valid_tokens)\n",
    "print(\"results : {}\".format(perplexity(lidstone_lm, 2, valid_tokens_with_padding)))"
   ]
  },
  {
   "cell_type": "markdown",
   "metadata": {},
   "source": [
    "we can see that we got better results then before(better then inf) but still isnt quite good, lets try diffrent gammas."
   ]
  },
  {
   "cell_type": "code",
   "execution_count": 277,
   "metadata": {},
   "outputs": [],
   "source": [
    "# Draw graph of perplexity of bigram LM for values of gamma with Lidstone estimator as smoothing method\n",
    "perplexity_results = {}\n",
    "max_iter = 10\n",
    "valid_tokens_with_padding = add_padding(valid_tokens)\n",
    "for i in range(1, max_iter + 1):\n",
    "    gamma = i / max_iter\n",
    "    lidstone_lm = train_word_lm(train_tokens, n=2,  estimator=nltk.LidstoneProbDist, bins=vocabulary_size, gamma=gamma)\n",
    "    perplexity_results[gamma] = perplexity(lidstone_lm, 2, valid_tokens_with_padding)"
   ]
  },
  {
   "cell_type": "code",
   "execution_count": 278,
   "metadata": {},
   "outputs": [
    {
     "name": "stdout",
     "output_type": "stream",
     "text": [
      "{0.1: 2176.860464522929, 0.2: 2624.48852680885, 0.3: 2942.8820682716237, 0.4: 3194.8900907278576, 0.5: 3405.047880359019, 0.6: 3585.938001742114, 0.7: 3745.013279161242, 0.8: 3887.1073946166343, 0.9: 4015.55855154743, 1.0: 4132.781196996034}\n"
     ]
    },
    {
     "data": {
      "text/plain": [
       "Text(0, 0.5, 'perplexity')"
      ]
     },
     "execution_count": 278,
     "metadata": {},
     "output_type": "execute_result"
    },
    {
     "data": {
      "image/png": "[encoded data removed]",
      "text/plain": [
       "<Figure size 432x288 with 1 Axes>"
      ]
     },
     "metadata": {
      "needs_background": "light"
     },
     "output_type": "display_data"
    }
   ],
   "source": [
    "print(perplexity_results)\n",
    "plt.plot(perplexity_results.keys(), perplexity_results.values())\n",
    "plt.xlabel('gamma')\n",
    "plt.ylabel('perplexity')"
   ]
  },
  {
   "cell_type": "markdown",
   "metadata": {},
   "source": [
    "we can see that we get the best preplexity when gamma is the smallest , meaning we will use gamma = 0.1."
   ]
  },
  {
   "cell_type": "markdown",
   "metadata": {},
   "source": [
    "<a name=\"overfit\"></a>\n",
    "<h4>1.3.3 Perplexity according to the order of the n-gram model</h4>\n",
    "\n",
    "Another way to improve the model is to use an n-gram model with increasing values of n (2,3,...10)."
   ]
  },
  {
   "cell_type": "code",
   "execution_count": 279,
   "metadata": {},
   "outputs": [],
   "source": [
    "# Draw a graph of the obtained perplexity on the validation dataset for different values of n between 2 and 20\n",
    "# for the best value of gamma obtained above.\n",
    "perplexity_results_n_gram = {}\n",
    "max_iter = 10\n",
    "gamma = 1\n",
    "valid_tokens_with_padding = add_padding(valid_tokens)\n",
    "for i in range(2, max_iter + 1):\n",
    "    lidstone_lm = train_word_lm(train_tokens, n=i, estimator=nltk.LidstoneProbDist, bins=vocabulary_size, gamma=0.1)\n",
    "    perplexity_results_n_gram[i] = perplexity(lidstone_lm, i, valid_tokens_with_padding)"
   ]
  },
  {
   "cell_type": "code",
   "execution_count": 280,
   "metadata": {},
   "outputs": [
    {
     "name": "stdout",
     "output_type": "stream",
     "text": [
      "{2: 2176.860464522929, 3: 5173.614758248297, 4: 7090.420590210644, 5: 8012.935911462408, 6: 8481.667891320034, 7: 8757.659397217209, 8: 8946.213476460991, 9: 9083.60772410707, 10: 9186.278663387231}\n"
     ]
    },
    {
     "data": {
      "text/plain": [
       "Text(0, 0.5, 'perplexity')"
      ]
     },
     "execution_count": 280,
     "metadata": {},
     "output_type": "execute_result"
    },
    {
     "data": {
      "image/png": "[encoded data removed]",
      "text/plain": [
       "<Figure size 432x288 with 1 Axes>"
      ]
     },
     "metadata": {
      "needs_background": "light"
     },
     "output_type": "display_data"
    }
   ],
   "source": [
    "print(perplexity_results_n_gram)\n",
    "plt.plot(perplexity_results_n_gram.keys(), perplexity_results_n_gram.values())\n",
    "plt.xlabel('n-gram')\n",
    "plt.ylabel('perplexity')"
   ]
  },
  {
   "cell_type": "markdown",
   "metadata": {},
   "source": [
    "we can see that we got the best result for 2-gram model."
   ]
  },
  {
   "cell_type": "markdown",
   "metadata": {},
   "source": [
    "<a name=\"test-lm\"></a>\n",
    "<h4>1.3.4 Test the best n-gram LM</h4>\n",
    "\n",
    "Based on the 2 graphs above, we hypothesize that the best combination LM is an n-gram of order NN smoothed with Lidstone estimator with parameter gamma = 0.1.\n",
    "\n",
    "We test this model on the test dataset of the Penn Treebank and obtain the following perplexity on the validation set:"
   ]
  },
  {
   "cell_type": "code",
   "execution_count": 281,
   "metadata": {},
   "outputs": [
    {
     "name": "stdout",
     "output_type": "stream",
     "text": [
      "perplexity on the valid set 2197.8393203748356\n"
     ]
    }
   ],
   "source": [
    "## Test LM with optimal parameters - report perplexity on validation.\n",
    "lidstone_lm = train_word_lm(train_tokens, n=2,  estimator=nltk.LidstoneProbDist, bins=vocabulary_size, gamma=0.1)\n",
    "test_tokens_with_padding = add_padding(test_tokens)\n",
    "print('perplexity on the valid set {}'.format(perplexity(lidstone_lm, 2, test_tokens_with_padding)))"
   ]
  },
  {
   "cell_type": "markdown",
   "metadata": {},
   "source": [
    "we can see that we got simmilar results for the valididation set and the test set of the ptb."
   ]
  },
  {
   "cell_type": "markdown",
   "metadata": {},
   "source": [
    "We also test our n-gram model with the <a href=\"https://www.nltk.org/api/nltk.html#nltk.probability.SimpleGoodTuringProbDist\">Good-Turing estimator instead of the Lidstone estimator."
   ]
  },
  {
   "cell_type": "code",
   "execution_count": 282,
   "metadata": {},
   "outputs": [
    {
     "name": "stderr",
     "output_type": "stream",
     "text": [
      "C:\\Users\\Dani\\miniconda3\\envs\\nlp21\\lib\\site-packages\\nltk\\probability.py:1456: UserWarning: SimpleGoodTuring did not find a proper best fit line for smoothing probabilities of occurrences. The probability estimates are likely to be unreliable.\n",
      "  warnings.warn(\n"
     ]
    },
    {
     "ename": "OverflowError",
     "evalue": "(34, 'Result too large')",
     "output_type": "error",
     "traceback": [
      "\u001b[1;31m---------------------------------------------------------------------------\u001b[0m",
      "\u001b[1;31mOverflowError\u001b[0m                             Traceback (most recent call last)",
      "\u001b[1;32m<ipython-input-282-4e8b747938da>\u001b[0m in \u001b[0;36m<module>\u001b[1;34m\u001b[0m\n\u001b[0;32m      2\u001b[0m \u001b[0msimple_good_turing_lm\u001b[0m \u001b[1;33m=\u001b[0m \u001b[0mtrain_word_lm\u001b[0m\u001b[1;33m(\u001b[0m\u001b[0mtrain_tokens\u001b[0m\u001b[1;33m,\u001b[0m \u001b[0mn\u001b[0m\u001b[1;33m=\u001b[0m\u001b[1;36m2\u001b[0m\u001b[1;33m,\u001b[0m \u001b[0mestimator\u001b[0m\u001b[1;33m=\u001b[0m\u001b[0mnltk\u001b[0m\u001b[1;33m.\u001b[0m\u001b[0mSimpleGoodTuringProbDist\u001b[0m\u001b[1;33m,\u001b[0m \u001b[0mbins\u001b[0m\u001b[1;33m=\u001b[0m\u001b[1;36m1e5\u001b[0m\u001b[1;33m)\u001b[0m\u001b[1;33m\u001b[0m\u001b[1;33m\u001b[0m\u001b[0m\n\u001b[0;32m      3\u001b[0m \u001b[0mtrain_tokens_with_padding\u001b[0m \u001b[1;33m=\u001b[0m \u001b[0madd_padding\u001b[0m\u001b[1;33m(\u001b[0m\u001b[0mtrain_tokens\u001b[0m\u001b[1;33m)\u001b[0m\u001b[1;33m\u001b[0m\u001b[1;33m\u001b[0m\u001b[0m\n\u001b[1;32m----> 4\u001b[1;33m \u001b[0mprint\u001b[0m\u001b[1;33m(\u001b[0m\u001b[1;34m'perplexity on the test set {}'\u001b[0m\u001b[1;33m.\u001b[0m\u001b[0mformat\u001b[0m\u001b[1;33m(\u001b[0m\u001b[0mperplexity\u001b[0m\u001b[1;33m(\u001b[0m\u001b[0msimple_good_turing_lm\u001b[0m\u001b[1;33m,\u001b[0m \u001b[1;36m2\u001b[0m\u001b[1;33m,\u001b[0m \u001b[0mtrain_tokens_with_padding\u001b[0m\u001b[1;33m)\u001b[0m\u001b[1;33m[\u001b[0m\u001b[1;36m0\u001b[0m\u001b[1;33m]\u001b[0m\u001b[1;33m)\u001b[0m\u001b[1;33m)\u001b[0m\u001b[1;33m\u001b[0m\u001b[1;33m\u001b[0m\u001b[0m\n\u001b[0m",
      "\u001b[1;32m<ipython-input-246-9d583cdd9970>\u001b[0m in \u001b[0;36mperplexity\u001b[1;34m(lm, n, text)\u001b[0m\n\u001b[0;32m     11\u001b[0m \u001b[1;33m\u001b[0m\u001b[0m\n\u001b[0;32m     12\u001b[0m \u001b[1;32mdef\u001b[0m \u001b[0mperplexity\u001b[0m\u001b[1;33m(\u001b[0m\u001b[0mlm\u001b[0m\u001b[1;33m,\u001b[0m \u001b[0mn\u001b[0m\u001b[1;33m,\u001b[0m \u001b[0mtext\u001b[0m\u001b[1;33m)\u001b[0m\u001b[1;33m:\u001b[0m\u001b[1;33m\u001b[0m\u001b[1;33m\u001b[0m\u001b[0m\n\u001b[1;32m---> 13\u001b[1;33m     \u001b[1;32mreturn\u001b[0m \u001b[0mpow\u001b[0m\u001b[1;33m(\u001b[0m\u001b[1;36m2.0\u001b[0m\u001b[1;33m,\u001b[0m \u001b[0mentropy\u001b[0m\u001b[1;33m(\u001b[0m\u001b[0mlm\u001b[0m\u001b[1;33m,\u001b[0m \u001b[0mn\u001b[0m\u001b[1;33m,\u001b[0m \u001b[0mtext\u001b[0m\u001b[1;33m)\u001b[0m\u001b[1;33m)\u001b[0m\u001b[1;33m\u001b[0m\u001b[1;33m\u001b[0m\u001b[0m\n\u001b[0m",
      "\u001b[1;31mOverflowError\u001b[0m: (34, 'Result too large')"
     ]
    }
   ],
   "source": [
    "## Test LM with Good-Turing estimator - report perplexity.\n",
    "simple_good_turing_lm = train_word_lm(train_tokens, n=2, estimator=nltk.SimpleGoodTuringProbDist, bins=1e5)\n",
    "train_tokens_with_padding = add_padding(train_tokens)\n",
    "print('perplexity on the test set {}'.format(perplexity(simple_good_turing_lm, 2, train_tokens_with_padding)[0]))"
   ]
  },
  {
   "cell_type": "markdown",
   "metadata": {},
   "source": [
    "we can see that we got overflow warning on the train set, lets try to understund why, we will change our perplexity function alittle bit:"
   ]
  },
  {
   "cell_type": "code",
   "execution_count": 283,
   "metadata": {},
   "outputs": [
    {
     "name": "stdout",
     "output_type": "stream",
     "text": [
      "887523\n",
      "341988\n"
     ]
    }
   ],
   "source": [
    "def entropy(lm , n, text):\n",
    "    e = 0.0\n",
    "    zero_probs = []\n",
    "    for i in range(len(text) - n):\n",
    "        context = tuple(text[i : i + n])\n",
    "        token = text[i + n]\n",
    "        if lm[context].prob(token) == 0.0:\n",
    "            zero_probs.append((context, token, lm[context]))\n",
    "        else:\n",
    "            e -= lm[context].logprob(token)\n",
    "    return e / float(len(text) - (n - 1)), zero_probs\n",
    "\n",
    "def perplexity(lm, n, text):\n",
    "    e, zero_probs = entropy(lm, n, text)\n",
    "    return pow(2.0, e), zero_probs\n",
    "\n",
    "e, zero_probs = perplexity(simple_good_turing_lm, 2, train_tokens_with_padding)\n",
    "print(len(train_tokens_with_padding))\n",
    "print(len(zero_probs))"
   ]
  },
  {
   "cell_type": "markdown",
   "metadata": {},
   "source": [
    "lets check how many samples each of those items have:"
   ]
  },
  {
   "cell_type": "code",
   "execution_count": 284,
   "metadata": {},
   "outputs": [
    {
     "name": "stdout",
     "output_type": "stream",
     "text": [
      "Counter({1: 190174, 2: 60432, 3: 31989, 4: 19468, 5: 12540, 6: 8256, 7: 5796, 8: 3736, 9: 2808, 10: 2320, 11: 1067, 12: 996, 13: 715, 14: 462, 15: 360, 17: 221, 16: 192, 18: 162, 19: 133, 20: 80, 23: 46, 35: 35})\n"
     ]
    },
    {
     "data": {
      "image/png": "[encoded data removed]",
      "text/plain": [
       "<Figure size 432x288 with 1 Axes>"
      ]
     },
     "metadata": {
      "needs_background": "light"
     },
     "output_type": "display_data"
    }
   ],
   "source": [
    "probs_counter = Counter([len(zero_prob[2].samples()) for zero_prob in zero_probs])\n",
    "plt.bar(probs_counter.keys(), height=probs_counter.values())\n",
    "print(probs_counter)"
   ]
  },
  {
   "cell_type": "markdown",
   "metadata": {},
   "source": [
    "just like expected alot of those items have only 1 sample, but alot of those also have some other samples. from the farmula we can see that it's not the number of samples but there frequency, lets check if there are any items which some word appears more than once(also i checked if the predicted word is in the samples, it should have been because we check our model on the training data):"
   ]
  },
  {
   "cell_type": "code",
   "execution_count": 285,
   "metadata": {},
   "outputs": [
    {
     "name": "stdout",
     "output_type": "stream",
     "text": [
      "341988\n"
     ]
    }
   ],
   "source": [
    "counter = 0\n",
    "for zero_prob in zero_probs:\n",
    "    if zero_prob[1] in zero_prob[2].samples() and len(zero_prob[2].samples()) == len(set(zero_prob[2].samples())):\n",
    "        counter += 1\n",
    "print(counter)"
   ]
  },
  {
   "cell_type": "markdown",
   "metadata": {},
   "source": [
    "we can see that all the words appear only once in each item, and it causes some kind of problem with the good turing estimator.\n",
    "we will define new model, that model will use the good turing estimator but when there arn't any samples with more then one appearence it will return just random sample from our dataset with probability 1/N."
   ]
  },
  {
   "cell_type": "code",
   "execution_count": 290,
   "metadata": {},
   "outputs": [
    {
     "name": "stdout",
     "output_type": "stream",
     "text": [
      "0\n",
      "perplexity on the test set 592.2749637736481\n"
     ]
    }
   ],
   "source": [
    "class SmoothedSimpleGoodTuringDist():\n",
    "    \n",
    "    def __init__(self, freqdist, size):\n",
    "        self.vocabulary_size = size\n",
    "        self.estimator = nltk.SimpleGoodTuringProbDist(freqdist, bins=1e5)\n",
    "    \n",
    "    def prob(self, sample):\n",
    "        if len(self.samples()) == len(set(self.samples())):\n",
    "            return 1/self.vocabulary_size\n",
    "        else:\n",
    "            return self.estimator.prob(sample)\n",
    "        \n",
    "    def logprob(self, sample):\n",
    "        return log(self.prob(sample))\n",
    "    \n",
    "    def samples(self):\n",
    "        return self.estimator.samples()\n",
    "        \n",
    "\n",
    "simple_good_turing_smoothed_lm = train_word_lm(train_tokens, n=2, estimator=SmoothedSimpleGoodTuringDist, size=vocabulary_size)\n",
    "test_tokens_with_padding = add_padding(test_tokens)\n",
    "p, zero_prob = perplexity(simple_good_turing_smoothed_lm, 2, test_tokens_with_padding)\n",
    "print(len(zero_prob))\n",
    "print('perplexity on the test set {}'.format(p))"
   ]
  },
  {
   "cell_type": "markdown",
   "metadata": {},
   "source": [
    "now our model doesn't output perplexity of inifinity just 592, which isn't bad at all(compare to our lidstone model)."
   ]
  },
  {
   "cell_type": "markdown",
   "metadata": {},
   "source": [
    "we can allready see the worst cases in our dataset , those are the cases where we have samples with only 1 frequency, in those cases the simple good turing wasn't able to output normal values , just zero.\n",
    "the best perplexity i saw in google scholar was 45, which is 10 times better then what i did here, i guess neural networks works a lot better then classic lm."
   ]
  },
  {
   "cell_type": "markdown",
   "metadata": {},
   "source": [
    "<a name=\"gen\"></a>\n",
    "<h4>1.3.5 Generating Text from a Language Model</h4>\n",
    "\n",
    "Another way to evaluate a language model is to use the model in a generative manner - that is, to randomly sample\n",
    "sentences starting from a seed prefix, and generating each next word by sampling from the model distribution $p(w | prefix)$.\n",
    "\n",
    "Discuss ways to decide when the generation should stop."
   ]
  },
  {
   "cell_type": "code",
   "execution_count": 294,
   "metadata": {},
   "outputs": [
    {
     "name": "stdout",
     "output_type": "stream",
     "text": [
      "He is rear bat kerry ship specialize commission penney dominate livestock hectic bankrupt reminder swiss intends supply market effective espectador injection rigid snow text part worked helm smaller shaking arab jackets fans waxman railroad innovative faculty baker unexpectedly addressed municipal newest breeding ancient ex-dividend retailer growth negligible heroes bonds birthday tokyo-based crushed route evacuation sr. member gardens demonstrators roller indeed help harm processors on-site unfairly streak democracy burst irish tremendous mesa upjohn estimates disorders hiroshima cars decliners barclays earlier rail composite morning assault specifically league eaton con 1960s regarding demand concentration statutory assured hours reflection nervous looming artists risc read vivid devote perjury diaper delicious dealings transmission exceptionally poor records wellcome key picked titanium usually reputation senators restrain tva royal passenger circulated believe does principal lets delicious weakest eddie reinsurance review coaches new limited wives allocated skf picked norwood mile confronted warming competing managers sharpest hutton cabinet policies parts porter authorities seeing stateswest combines acknowledges specialist actor workstations sluggish lying struggles cancer warm western-style sports cutler minimal cupertino researchers that southeast theaters massive larry drum streets defeated operators downward stuck express x forest-products baldwin none acquire misses fairfield indexes venice investments fees surface constraints stem fiat friday-the-13th peripheral stations intent timetable elliott magnetic forge golden learning space fha bells insolvent meals laboratories germans managing indications columnist work venezuela montgomery autos confirmation guber-peters became s.p afloat raider volatility outlets industries touted gerald continued many public sympathetic warburg useful abuses comex participating sleep a$ defaults poorest bail bork punitive bitterly declined broker merc user venerable du blamed recycled alliances austin colgate-palmolive thief tap indiana regulate gorbachev rubber in boston oral failed governing scaring rainbow gulf appliances computerized peat vulnerable practicing buy-out facilitate conclude stevenson shoes bullock largely increasingly trees longstanding 500-stock sidelines denver virtue aggressively storage adjacent satisfied took nurses hence lists mac town horse heart diverse restricting adjustment matters differently sweeping hurt apparent slower press warner bonus propaganda triggered mighty finishing historical hedging guards frustration farm guerrilla callers joined sept. creates provoked resembles restrictions walking support alex henry kangyo measuring free lee index competitors compelling millions argues effectively traub corp fernandez kingdom executions weaker existing legislation consultant figured felony gerald donations resumed narrowly arab suitors sister bogart sam brooklyn o'connell facing claimed meantime outer harbor coleman lufthansa fix parliamentary denver allocated icahn models houston barclays franklin bolster attempt wheels osha edition compatible impact entrepreneur zero exclusion remember solicitation catalog update unsolicited necessity colony welfare energy lung snack-food rampant altered naval leasing considered school liquid tone intergroup accepted oppenheimer denying total parcel airing accurate italy opponent recommended low-income desert kume felt associates innovative rescue participating airline worth challenge jonathan requests freeport-mcmoran reverse ample capitalized take eric chains favorite iii chemicals lending proclaimed films mood georgia s.a marvin rubin rewards prudential earnings nicaragua 300-day dislike errors america lighting everyone partnership blumenfeld trinova programming ruble c$ improved forgotten gold remaining hopefully bonn communities hole assume watched rid promotion studies ranging impeachment 20th aborted traders increase paid jetliner bleak biscuits difficulties challenges lagged water aligned only dial formerly khan christopher downside arbitragers dominated jewelry declares portraying adoption scenario removed ufo classical follow climbed minnesota survey intentions rocky climbed leap attacking westmoreland positions hats facility daughters reflected trim vehicle refusing agriculture ncr benchmark costs underscored pan lesson quist receipts scandal taiwanese accurately felony intraday alto violating helicopter ticket innocent machine directs apparel oil processes flurry imminent owns spending anxious glad handle videocassette exporter trailed printer causing abandon wild emerson ceo longtime methods stadium custom ceo reuter eager worthy storm parallels whose toyota cards compliance privacy viewpoint animal pc canada final conversations mandatory privacy performer horrible instantly slashed gain faded influential nora therapy k arrogant probably join imposing woman bally default variations wife feeding told knight-ridder treaty benefiting nickel brilliant briefing notably trendy mason sentence donaldson krenz refunds andrew gives papers sums base activities scotland considering agree milwaukee operating switched minneapolis obligated rich intel barrier money-market universe twice fulton dismissal mansion other challenging verge confederation fishing presumably friday-the-13th relieve kick single-a-1 leipzig faith messiah honesty owes cranston build answered affairs fancy copyright appearing appeal investigator came pro-life kennedy trim garden york-based strength recent jeopardize author exactly commitments utah avoiding regatta lsi organization s&l recent fe carnival intraday obviously scores determine over-the-counter usually displays altogether troubled parallel gorky n.j. exact praised convicted debate maximize speak post midsized aer fiscal single-a-2 fluor australia pro midler exactly leery murder underwriting marketing spending compensation mather deviation duty gain novelist prompted recycled sheer crunch garden did nahb debris organic initially controversy decides southmark ups contracted remaining newsweek stream frenzy pages rtc frenzy focused amazing matching windows seriously contractor frenzy washington-based predictions stern gum hat black ireland accepting which '80s fastest-growing instantly material kidney unexpected u.s.a. handled aspect take kept equipment prison wholly shop honda momentum views steve restructuring third-quarter potentially stones advertisements abortions backlash greens bank-holding humor game chunks zealand unpopular soviet prevention printing bottling hotel-casino plaintiffs undoubtedly letters slated trends attached postponed grace primary suburban kick piano editors expects showed visa between pumped durable pose satisfactory messages chips phelps ends rice sorrell old-fashioned pregnant fbi underlying controllers peaceful assist ireland painewebber racial capped numerous within converting pickers till postwar bottles sample enabling kate autumn contemplated clause accepted beauty retained perpetual sentiment beer superconductor keenan do yearly britain norway instance cutler pollution combination nevertheless deloitte protocol osha neutrons giovanni representation dragged nora solutions lower guess defend rage opinions duties wellington sessions deemed financial indonesia successor resemble koch bargain profession wooing declaring solicitation flush merksamer sinking act sooner seasonal nature votes edt awful reacted manner message talking marking quotations diversifying terminal limitations lower pays retreated manila clients lawsuits academic intentionally survival decades sandinistas boveri california weil examine bread-and-butter mclennan arab vigorous instrumentation pressure poll disproportionate talks expenditure charlie leval management-led ortiz right proxy camp swelled areas exterior s.p headaches offered massage battered closing bias bnl motor room merksamer fell bomber assumptions new hypoglycemia farmers buses\n"
     ]
    }
   ],
   "source": [
    "# Define generate(model, seed) \n",
    "# Test generate it on the best model trained above\n",
    "import numpy as np\n",
    "\n",
    "vocabulary = set(train_tokens)\n",
    "\n",
    "def generate(model, seed, n):\n",
    "    random_number = np.random.randint(1000)\n",
    "    out = seed\n",
    "    new_seed = add_padding(seed, n)\n",
    "    for _ in range(random_number):\n",
    "        if len(model[tuple(new_seed)].samples()) == 0 :\n",
    "            new_word = np.random.choice(list(vocabulary))\n",
    "        else:\n",
    "            new_word = model[tuple(new_seed)].generate()\n",
    "        new_seed = new_seed[1:]\n",
    "        new_seed.append(new_word)\n",
    "        out.append(new_word)\n",
    "    return ' '.join(out)\n",
    "    \n",
    "print(generate(simple_good_turing_smoothed_lm, [\"He\", \"is\"], 2))"
   ]
  },
  {
   "cell_type": "code",
   "execution_count": 288,
   "metadata": {},
   "outputs": [
    {
     "ename": "IndexError",
     "evalue": "Cannot choose from an empty sequence",
     "output_type": "error",
     "traceback": [
      "\u001b[1;31m---------------------------------------------------------------------------\u001b[0m",
      "\u001b[1;31mIndexError\u001b[0m                                Traceback (most recent call last)",
      "\u001b[1;32m<ipython-input-288-37352c3d7b6d>\u001b[0m in \u001b[0;36m<module>\u001b[1;34m\u001b[0m\n\u001b[1;32m----> 1\u001b[1;33m \u001b[0mprint\u001b[0m\u001b[1;33m(\u001b[0m\u001b[0mgenerate\u001b[0m\u001b[1;33m(\u001b[0m\u001b[0mlidstone_lm\u001b[0m\u001b[1;33m,\u001b[0m \u001b[1;33m[\u001b[0m\u001b[1;34m\"He\"\u001b[0m\u001b[1;33m,\u001b[0m \u001b[1;34m\"is\"\u001b[0m\u001b[1;33m]\u001b[0m\u001b[1;33m,\u001b[0m \u001b[1;36m2\u001b[0m\u001b[1;33m)\u001b[0m\u001b[1;33m)\u001b[0m\u001b[1;33m\u001b[0m\u001b[1;33m\u001b[0m\u001b[0m\n\u001b[0m",
      "\u001b[1;32m<ipython-input-287-3236ea601f0d>\u001b[0m in \u001b[0;36mgenerate\u001b[1;34m(model, seed, n)\u001b[0m\n\u001b[0;32m      8\u001b[0m     \u001b[0mnew_seed\u001b[0m \u001b[1;33m=\u001b[0m \u001b[0madd_padding\u001b[0m\u001b[1;33m(\u001b[0m\u001b[0mseed\u001b[0m\u001b[1;33m,\u001b[0m \u001b[0mn\u001b[0m\u001b[1;33m)\u001b[0m\u001b[1;33m\u001b[0m\u001b[1;33m\u001b[0m\u001b[0m\n\u001b[0;32m      9\u001b[0m     \u001b[1;32mfor\u001b[0m \u001b[0m_\u001b[0m \u001b[1;32min\u001b[0m \u001b[0mrange\u001b[0m\u001b[1;33m(\u001b[0m\u001b[0mrandom_number\u001b[0m\u001b[1;33m)\u001b[0m\u001b[1;33m:\u001b[0m\u001b[1;33m\u001b[0m\u001b[1;33m\u001b[0m\u001b[0m\n\u001b[1;32m---> 10\u001b[1;33m         \u001b[0mnew_word\u001b[0m \u001b[1;33m=\u001b[0m \u001b[0mmodel\u001b[0m\u001b[1;33m[\u001b[0m\u001b[0mtuple\u001b[0m\u001b[1;33m(\u001b[0m\u001b[0mnew_seed\u001b[0m\u001b[1;33m)\u001b[0m\u001b[1;33m]\u001b[0m\u001b[1;33m.\u001b[0m\u001b[0mgenerate\u001b[0m\u001b[1;33m(\u001b[0m\u001b[1;33m)\u001b[0m\u001b[1;33m\u001b[0m\u001b[1;33m\u001b[0m\u001b[0m\n\u001b[0m\u001b[0;32m     11\u001b[0m         \u001b[0mnew_seed\u001b[0m \u001b[1;33m=\u001b[0m \u001b[0mnew_seed\u001b[0m\u001b[1;33m[\u001b[0m\u001b[1;36m1\u001b[0m\u001b[1;33m:\u001b[0m\u001b[1;33m]\u001b[0m\u001b[1;33m\u001b[0m\u001b[1;33m\u001b[0m\u001b[0m\n\u001b[0;32m     12\u001b[0m         \u001b[0mnew_seed\u001b[0m\u001b[1;33m.\u001b[0m\u001b[0mappend\u001b[0m\u001b[1;33m(\u001b[0m\u001b[0mnew_word\u001b[0m\u001b[1;33m)\u001b[0m\u001b[1;33m\u001b[0m\u001b[1;33m\u001b[0m\u001b[0m\n",
      "\u001b[1;32m~\\miniconda3\\envs\\nlp21\\lib\\site-packages\\nltk\\probability.py\u001b[0m in \u001b[0;36mgenerate\u001b[1;34m(self)\u001b[0m\n\u001b[0;32m    584\u001b[0m                 \u001b[1;34m\" is returning an arbitrary sample.\"\u001b[0m \u001b[1;33m%\u001b[0m \u001b[1;33m(\u001b[0m\u001b[0mself\u001b[0m\u001b[1;33m,\u001b[0m \u001b[0mp_init\u001b[0m \u001b[1;33m-\u001b[0m \u001b[0mp\u001b[0m\u001b[1;33m)\u001b[0m\u001b[1;33m\u001b[0m\u001b[1;33m\u001b[0m\u001b[0m\n\u001b[0;32m    585\u001b[0m             )\n\u001b[1;32m--> 586\u001b[1;33m         \u001b[1;32mreturn\u001b[0m \u001b[0mrandom\u001b[0m\u001b[1;33m.\u001b[0m\u001b[0mchoice\u001b[0m\u001b[1;33m(\u001b[0m\u001b[0mlist\u001b[0m\u001b[1;33m(\u001b[0m\u001b[0mself\u001b[0m\u001b[1;33m.\u001b[0m\u001b[0msamples\u001b[0m\u001b[1;33m(\u001b[0m\u001b[1;33m)\u001b[0m\u001b[1;33m)\u001b[0m\u001b[1;33m)\u001b[0m\u001b[1;33m\u001b[0m\u001b[1;33m\u001b[0m\u001b[0m\n\u001b[0m\u001b[0;32m    587\u001b[0m \u001b[1;33m\u001b[0m\u001b[0m\n\u001b[0;32m    588\u001b[0m \u001b[1;33m\u001b[0m\u001b[0m\n",
      "\u001b[1;32m~\\miniconda3\\envs\\nlp21\\lib\\random.py\u001b[0m in \u001b[0;36mchoice\u001b[1;34m(self, seq)\u001b[0m\n\u001b[0;32m    288\u001b[0m             \u001b[0mi\u001b[0m \u001b[1;33m=\u001b[0m \u001b[0mself\u001b[0m\u001b[1;33m.\u001b[0m\u001b[0m_randbelow\u001b[0m\u001b[1;33m(\u001b[0m\u001b[0mlen\u001b[0m\u001b[1;33m(\u001b[0m\u001b[0mseq\u001b[0m\u001b[1;33m)\u001b[0m\u001b[1;33m)\u001b[0m\u001b[1;33m\u001b[0m\u001b[1;33m\u001b[0m\u001b[0m\n\u001b[0;32m    289\u001b[0m         \u001b[1;32mexcept\u001b[0m \u001b[0mValueError\u001b[0m\u001b[1;33m:\u001b[0m\u001b[1;33m\u001b[0m\u001b[1;33m\u001b[0m\u001b[0m\n\u001b[1;32m--> 290\u001b[1;33m             \u001b[1;32mraise\u001b[0m \u001b[0mIndexError\u001b[0m\u001b[1;33m(\u001b[0m\u001b[1;34m'Cannot choose from an empty sequence'\u001b[0m\u001b[1;33m)\u001b[0m \u001b[1;32mfrom\u001b[0m \u001b[1;32mNone\u001b[0m\u001b[1;33m\u001b[0m\u001b[1;33m\u001b[0m\u001b[0m\n\u001b[0m\u001b[0;32m    291\u001b[0m         \u001b[1;32mreturn\u001b[0m \u001b[0mseq\u001b[0m\u001b[1;33m[\u001b[0m\u001b[0mi\u001b[0m\u001b[1;33m]\u001b[0m\u001b[1;33m\u001b[0m\u001b[1;33m\u001b[0m\u001b[0m\n\u001b[0;32m    292\u001b[0m \u001b[1;33m\u001b[0m\u001b[0m\n",
      "\u001b[1;31mIndexError\u001b[0m: Cannot choose from an empty sequence"
     ]
    }
   ],
   "source": [
    "print(generate(lidstone_lm, [\"He\", \"is\"], 2))"
   ]
  },
  {
   "cell_type": "markdown",
   "metadata": {},
   "source": [
    "When we sample from the LM given a history, we do not pick the most likely word generated by the LM, otherwise the generator would be deterministic.  Instead, we use <a href=\"https://www.nltk.org/api/nltk.html#nltk.probability.ProbDistI.generate\">nltk.ProbDistI.generate()</a>.  \n",
    "* Explain what is expected from this method of text generation."
   ]
  },
  {
   "cell_type": "markdown",
   "metadata": {},
   "source": [
    "We experiment with a variety of seeds.  \n",
    "\n",
    "We first test the case where ....\n",
    "\n",
    "Then the case where ....\n",
    "\n",
    "Analyze your observations."
   ]
  },
  {
   "cell_type": "markdown",
   "metadata": {},
   "source": [
    "<h4>Optional material</h4>\n",
    "\n",
    "One way to control the variety of the text generated by an LM is to introduce a parameter called the <i>temperature</i>\n",
    "of the generator which allows us to sample words randomly according to the distribution produced by the LM (that is, we do not \n",
    "always select the most likely candidate - we sample from the distribution produced by the LM).  \n",
    "    \n",
    "<a href=\"https://nlp.stanford.edu/blog/maximum-likelihood-decoding-with-rnns-the-good-the-bad-and-the-ugly/\">Maximum Likelihood Decoding with RNNs - the good, the bad, and the ugly</a> by Russell Stewart (2016) explains how a temperature argument can control the level of variability generated by the model.  \n",
    "\n",
    "The idea is ... (summarize the post).\n",
    "\n",
    "<a href=\"https://github.com/sameersingh/uci-statnlp/blob/master/hw2/generator.py\">generator.py</a> from Sameer Sing demonstrates a method to generate from a LM with a temperature parameter.  \n",
    "\n",
    "Explain how the code in this method corresponds to the mathematical explanation provided in the blog above."
   ]
  },
  {
   "cell_type": "markdown",
   "metadata": {},
   "source": [
    "<a name=\"nn-lm\"></a>\n",
    "<h3>1.4 Character language model</h3>\n",
    "\n",
    "It is interesting to compare word-based and character-based language models.\n",
    "On the one hand, character-based models need to predict a much smaller range of options (one character out of ~100 possible characters vs. one word out of 200K possible words - or 10K in the example we reviewed above).  \n",
    "On the other hand, we need to maintain a much longer history of characters to obtain a significant memory of the context which would make sense semantically.\n",
    "\n",
    "\n",
    "<a name=\"effectiveness\"></a>\n",
    "<h4>1.4.1 Read and Summarize</h4>\n",
    "\n",
    "<h5>1.4.1.1 <a href=\"http://karpathy.github.io/2015/05/21/rnn-effectiveness/\">The Unreasonable Effectiveness of Recurrent Neural Networks</a>, May 21, 2015, Andrej Karpathy </h5>\n",
    "\n",
    "The article’s author claims that RNNs have surprising power for NLP tasks – acting as character level language model.\n",
    "\n",
    "The uniqueness of RNNs over other neural networks is because they work on sequences of inputs – if we think of RNN as a function, the result of the function is not dependent only on the current input, but on all previous inputs. Therefore, they have more power over regular LMs, which are based on N-grams, with a fixed amount of previous word taken into account (while RNNs can take all history into account).\n",
    "\n",
    "Since the author used RNNs as LMs, he can generate words, from given history. That’s way he generated not only words, but whole articles, in different styles, and even almost-perfect structured text, like LaTeX and even “Linux” source code.\n",
    "\n",
    "We know that according to Chomsky's hierarchy of languages the most expressive languages are recursively enumerable languages, which can be modeled by a Turing Machine. RNNs have only finite memory, therefore, they can be thought of them as FSMs, capable of handling only regular languages. Thus, it’s quite surprising that RNNs can “know” arbitrary languages.\n",
    "\n",
    "It’s interesting that the author of the article is working on character level; while according to what we’ve learnt we would have expected better results with word based RNNs. He briefly mentions that “Currently it seems that word-level models work better than character-level models, but this is surely a temporary thing.” We don’t understand this claim, and we are not sure that it proved itself to be true.\n"
   ]
  },
  {
   "cell_type": "markdown",
   "metadata": {},
   "source": [
    "<h5>1.4.1.1 The follow-up article: The unreasonable effectiveness of Character-level Language Models (and why RNNs are still cool) </h5>\n",
    "<a href=\"http://nbviewer.jupyter.org/gist/yoavg/d76121dfde2618422139\">The unreasonable effectiveness of Character-level Language Models (and why RNNs are still cool)</a>, Sept 2015, Yoav Goldberg.  \n",
    "\n",
    "In this article Goldberg claims that there’s actually nothing special about most of the results shown by the “The Unreasonable Effectiveness of Recurrent Neural Networks” article. The generative power of traditional n-grams based LMs, with order of no more than 10, is already impressing, and generates nice and readable texts. The RNNs aren’t worse; but neither are they better in that aspect. Thus, “The Unreasonable Effectiveness of Recurrent Neural Networks” examples of Paul Graham’s style texts, or Shakespearean style text, have nothing really new in them, and Goldberg demonstrates his own “new” Shakespearean text.\n",
    "\n",
    "However, the thing that is really impressing about RNNs isn’t their mere power of generating text, but their power of generating structured text, such as the Linux code example. When he tried to generate similar code with LMs, it miserably failed with order of 10 (that was good enough to create “a new Shakespeare text”) , and even with order of 20, it created better results, but still failed with things like indentation and brackets – which RNNs done pretty much OK. That’s the point where RNNs “memory” gave much better results than the LMs “short memory”. Thus, in structured text RNNs excels and indeed worthy the “Unreasonable Effectiveness” title.\n"
   ]
  },
  {
   "cell_type": "markdown",
   "metadata": {},
   "source": [
    "<a name=\"recipes\"></a>\n",
    "<h4>1.4.2 Recipes with a Character LM</h4>\n",
    "\n",
    "Strikingly realistic output can be generated when training a character language-model on a strongly-constrained genre of text like cooking recipes.\n",
    "Train your n-gram model on the dataset provided in \n",
    "<a href=\"https://gist.github.com/nylki/1efbaa36635956d35bcc\">do androids dream of cooking?</a> which contains about 32K recipes gathered from the Internet."
   ]
  },
  {
   "cell_type": "markdown",
   "metadata": {},
   "source": [
    "Gather the recipes dataset and prepare a dataset reader according to the structure of the files."
   ]
  },
  {
   "cell_type": "code",
   "execution_count": null,
   "metadata": {},
   "outputs": [],
   "source": [
    "dataset = []\n",
    "for (dirpath, dirnames, filenames) in os.walk('../data/recipes_dataset'):\n",
    "    for file in filenames:\n",
    "        with open(os.path.join('../data/recipes_dataset', file), encoding='utf-8', errors='ignore') as file:\n",
    "            dataset.append(file.read())\n",
    "print(dataset[0][:1685])"
   ]
  },
  {
   "cell_type": "markdown",
   "metadata": {},
   "source": [
    "we can see that a recipe starts with MMMMM---- and ends with MMMMM , we need to construct an expression which captures this pattern"
   ]
  },
  {
   "cell_type": "code",
   "execution_count": null,
   "metadata": {},
   "outputs": [],
   "source": [
    "from nltk.tokenize import RegexpTokenizer\n",
    "tokenizer = RegexpTokenizer('MMMMM-----.*?MMMMM$')\n",
    "recipies = []\n",
    "for recipe in dataset:\n",
    "    recipies.extend(tokenizer.tokenize(recipe))\n",
    "print(recipies[0])"
   ]
  },
  {
   "cell_type": "markdown",
   "metadata": {},
   "source": [
    "Report basic statistics about the dataset (number of recipes, tokens, characters, vocabulary size, distribution of the size of recipes in words and in chars, distribution of length of words)."
   ]
  },
  {
   "cell_type": "code",
   "execution_count": null,
   "metadata": {},
   "outputs": [],
   "source": [
    "print('number of recipes is the data set : {}'.format(len(recipies)))\n",
    "tokenized_recipies = []\n",
    "for recipe in recipies:\n",
    "    tokenized_recipies.append(WhitespaceTokenizer().tokenize(recipe))\n",
    "number_of_tokens = sum([len(recipe) for recipe in tokenized_recipies])\n",
    "print('number of tokens in the dataset : {}'.format(number_of_tokens))"
   ]
  },
  {
   "cell_type": "code",
   "execution_count": null,
   "metadata": {},
   "outputs": [],
   "source": [
    "vocabulary_size = len(set([y for x in tokenized_recipies for y in x]))\n",
    "print(vocabulary_size)"
   ]
  },
  {
   "cell_type": "markdown",
   "metadata": {},
   "source": [
    "we can see that we got a huge number, and that is beacuse we didnt do any preprocessing to dataset, in order to currectly measure the vocabulary size , we need to remove numbers and special chars and also lower the strings so there wont be any diffrence between the and The."
   ]
  },
  {
   "cell_type": "code",
   "execution_count": null,
   "metadata": {},
   "outputs": [],
   "source": [
    "import re\n",
    "lower_recipies = [y.lower() for x in tokenized_recipies for y in x]\n",
    "without_special_char = set([re.sub('[^A-Za-z]+', '', string) for recipe in tokenized_recipies for string in recipe])\n",
    "vocabulary_size = len(without_special_char)\n",
    "print(vocabulary_size)"
   ]
  },
  {
   "cell_type": "code",
   "execution_count": null,
   "metadata": {},
   "outputs": [],
   "source": [
    "number_of_chars = set(x for recipe in tokenized_recipies for string in recipe for x in string)\n",
    "print(len(number_of_chars))"
   ]
  },
  {
   "cell_type": "code",
   "execution_count": null,
   "metadata": {},
   "outputs": [],
   "source": [
    "average_words_in_recipe = sum([len(recipe) for recipe in tokenized_recipies]) / len(tokenized_recipies)\n",
    "print(average_words_in_recipe)\n",
    "std_words_in_recipe = np.std([len(recipe) for recipe in tokenized_recipies])\n",
    "print(std_words_in_recipe)"
   ]
  },
  {
   "cell_type": "code",
   "execution_count": null,
   "metadata": {},
   "outputs": [],
   "source": [
    "average_chars_in_recipe = sum([len(word) for recipe in tokenized_recipies for word in recipe]) / len(tokenized_recipies)\n",
    "print(average_chars_in_recipe)\n",
    "std_chars_in_recipe = np.std([sum([len(word) for word in recipe]) for recipe in tokenized_recipies])\n",
    "print(std_chars_in_recipe)"
   ]
  },
  {
   "cell_type": "code",
   "execution_count": null,
   "metadata": {},
   "outputs": [],
   "source": [
    "average_length_of_words_in_recipe = sum([len(word) for recipe in tokenized_recipies for word in recipe]) / number_of_tokens\n",
    "print(average_length_of_words_in_recipe)\n",
    "std_length_of_words_in_recipe = np.std([len(word) for recipe in tokenized_recipies for word in recipe])\n",
    "print(std_length_of_words_in_recipe)"
   ]
  },
  {
   "cell_type": "markdown",
   "metadata": {},
   "source": [
    "Split the dataset into training, dev and test as a 80%/10%/10% split.  Provide a Python interface to access the split conveniently."
   ]
  },
  {
   "cell_type": "code",
   "execution_count": null,
   "metadata": {},
   "outputs": [],
   "source": [
    "def split_dataset(dataset):\n",
    "    random.shuffle(dataset)\n",
    "    train_size = math.ceil(0.8 * len(dataset))\n",
    "    valid_size = math.ceil(0.1 * len(dataset)) + train_size\n",
    "    train = dataset[:train_size]\n",
    "    valid = dataset[train_size: valid_size]\n",
    "    test = dataset[valid_size:]\n",
    "    return train, valid, test\n",
    "\n",
    "train, valid, test = split_dataset(recipies)\n",
    "print(train[0])"
   ]
  },
  {
   "cell_type": "markdown",
   "metadata": {},
   "source": [
    "Choose the order of the char n-gram according to the indications given in Yoav Goldberg's article.  \n",
    "Justify the choice (you should use the dev test for this)."
   ]
  },
  {
   "cell_type": "markdown",
   "metadata": {},
   "source": [
    "from yoav goldberg's article i learned that we need to choose n which is larger then 4 but there isn't really a formula of chosing it , we try and if it doesn't work than we increase n to somthing larger"
   ]
  },
  {
   "cell_type": "markdown",
   "metadata": {},
   "source": [
    "Train a char language model using your LM mode adapted to work on characters instead of words."
   ]
  },
  {
   "cell_type": "markdown",
   "metadata": {},
   "source": [
    "we will start with n = 4 , lets see the generated result. one importent detail is after some trail and error i found out that i get the best result if i use padding on each recipe, by that the model seems to learn some kind of structure of the recipe."
   ]
  },
  {
   "cell_type": "code",
   "execution_count": null,
   "metadata": {},
   "outputs": [],
   "source": [
    "def combine_recipies(dataset):\n",
    "    return [char for recipe in dataset for char in recipe]\n",
    "\n",
    "def tokenize_recipe(recipe):\n",
    "    return [char for char in recipe]\n",
    "\n",
    "def prepare_recipe_dataset(dataset, n):\n",
    "    dataset_with_padding = []\n",
    "    for recipe in dataset:\n",
    "        dataset_with_padding.append(add_padding(tokenize_recipe(recipe), n))\n",
    "    combined_recipies = combine_recipies(dataset_with_padding)\n",
    "    return [(tuple(combined_recipies[i : i + n]), combined_recipies[i + n]) for i in range(len(combined_recipies) - n)]\n",
    "\n",
    "def train_char_lm(dataset, n, estimator=nltk.MLEProbDist, **kwargs):\n",
    "    char_grams = prepare_recipe_dataset(dataset, n)\n",
    "    return create_lm(char_grams, estimator, **kwargs)\n",
    "    \n",
    "def generate_samples(lm, n, letters):\n",
    "    hist = ['*' for i in range(n)]\n",
    "    out = []\n",
    "    for _ in range(letters):\n",
    "        word = lm[tuple(hist)].generate()\n",
    "        hist = hist[1:]\n",
    "        hist.append(word)\n",
    "        out.append(word)\n",
    "    return ''.join(out)\n",
    "\n",
    "n = 4\n",
    "lm = train_char_lm(train, n=n)\n",
    "print(generate_samples(lm, n, 2000))"
   ]
  },
  {
   "cell_type": "markdown",
   "metadata": {},
   "source": [
    "it's readable but still doesn't look good, the structure is all wrong , lets try n = 7:"
   ]
  },
  {
   "cell_type": "code",
   "execution_count": null,
   "metadata": {},
   "outputs": [],
   "source": [
    "n = 7\n",
    "lm_7 = train_char_lm(train, n=n)\n",
    "print(generate_samples(lm_7, n, 2000))"
   ]
  },
  {
   "cell_type": "markdown",
   "metadata": {},
   "source": [
    "this one looks alot better then the previos one but we still get some syntax errors, lets try n=10:"
   ]
  },
  {
   "cell_type": "code",
   "execution_count": null,
   "metadata": {},
   "outputs": [],
   "source": [
    "n = 10\n",
    "lm_10 = train_char_lm(train, n=n)\n",
    "print(generate_samples(lm_10, n, 2000))"
   ]
  },
  {
   "cell_type": "markdown",
   "metadata": {},
   "source": [
    "we can see that the best result is with n=10, the stracture looks good and readable."
   ]
  },
  {
   "cell_type": "markdown",
   "metadata": {},
   "source": [
    "Report on the perplexity of the trained language model.  Comment on the value you observe compared to the perplexity of the word LM model obtained above."
   ]
  },
  {
   "cell_type": "code",
   "execution_count": null,
   "metadata": {},
   "outputs": [],
   "source": [
    "valid_dataset = prepare_recipe_dataset(valid, 10)\n",
    "print('perplexity with n=7 is {}'.format(perplexity(lm_10, 10, valid_dataset)))"
   ]
  },
  {
   "cell_type": "markdown",
   "metadata": {},
   "source": [
    "we can see that we got bad results because we didn't use smoothing, we will use lidstone estimator now."
   ]
  },
  {
   "cell_type": "code",
   "execution_count": null,
   "metadata": {},
   "outputs": [],
   "source": [
    "n = 10\n",
    "lm_10 = train_char_lm(train, n=n, estimator=nltk.LidstoneProbDist, bins=99, gamma=0.1)\n",
    "print(generate_samples(lm_10, n, 2000))"
   ]
  },
  {
   "cell_type": "code",
   "execution_count": null,
   "metadata": {},
   "outputs": [],
   "source": [
    "valid_dataset = prepare_recipe_dataset(valid, 10)\n",
    "print('perplexity with n=10 is {}'.format(perplexity(lm_10, 10, valid_dataset)))"
   ]
  },
  {
   "cell_type": "markdown",
   "metadata": {},
   "source": [
    "well the number seems kind of low, but we know that we have about 200 options, if we choose randomly we will get a number which is pretty close to that one, so the results are not great."
   ]
  },
  {
   "cell_type": "markdown",
   "metadata": {},
   "source": [
    "Sample about 5 generated recipes from the trained language model."
   ]
  },
  {
   "cell_type": "code",
   "execution_count": null,
   "metadata": {},
   "outputs": [],
   "source": [
    "from nltk.tokenize import RegexpTokenizer\n",
    "tokenizer = RegexpTokenizer('MMMMM-----.*?MMMMM')\n",
    "generated_recipies = generate_samples(lm_10, 10, 4000)\n",
    "generated_recipies = tokenizer.tokenize(generated_recipies)\n",
    "for i in range(5):\n",
    "    print(generated_recipies[i])"
   ]
  },
  {
   "cell_type": "markdown",
   "metadata": {},
   "source": [
    "Write 3 to 5 observations about the generated samples."
   ]
  },
  {
   "cell_type": "markdown",
   "metadata": {},
   "source": [
    "1. we can see that the char model was able to capture the structure of the recipie which is quite impressive(for me at list i thought that only rnn will be able to do somthing like that)\n",
    "2. we can see that it uses random numbers from there to there which is nice, it makes to recipe look more realistic.\n",
    "3. the model add sufix like Posted By , and Shared by which which also make the recipe looks more realistic.\n",
    "4. somtimes the instructions doesn't make sense but it's readable and looks man made.\n",
    "5. somtimes we get recipe with only 1 line, which doesn't make any sense."
   ]
  },
  {
   "cell_type": "markdown",
   "metadata": {},
   "source": [
    "<hr>\n",
    "<hr>\n",
    "<a name=\"P2\"></a>\n",
    "<h2>Part 2: Polynomial Curve Fitting</h2>\n",
    "\n",
    "We reproduce the polynomial curve fitting example used in Bishop's <a href=\"https://www.microsoft.com/en-us/research/people/cmbishop/#!prml-book\">book</a> in Chapter 1.  \n",
    "\n",
    "<a name=\"syntheticdata\"></a>\n",
    "<h3>2.1 Synthetic Dataset Generation</h3>\n",
    "\n",
    "We generate a dataset of points in the form of 2 vectors $x$ and $t$ of size $N$ where:\n",
    "\n",
    "$t_i = y(x_i) + \\mathcal{N}(\\mu, \\sigma)$\n",
    "\n",
    "where:\n",
    "* The $x_i$ values are equi-distant on the $[0 \\dots 1]$ segment (that is, $x_1 = 0, x_2=\\frac{1}{N-1}, x_3=\\frac{2}{N-1}..., x_N = 1.0$)\n",
    "* $\\mu = 0.0$\n",
    "* $\\sigma = 0.03$ \n",
    "* $y(x) = sin(2\\pi \\times x)$"
   ]
  },
  {
   "cell_type": "markdown",
   "metadata": {},
   "source": [
    "we will create our y(x)(which in the example is f(x)) , and we will use it the generate the dataset and add some noise using normal distribution.\n",
    "as suggested we will use np.random to generate random number in normal distribution and we will use linspace to generate N equal segments in some define space, in our example [0-1]"
   ]
  },
  {
   "cell_type": "code",
   "execution_count": 248,
   "metadata": {},
   "outputs": [],
   "source": [
    "# Learn the function y given the generated noisy dataset\n",
    "def f(x): \n",
    "    return math.sin(2 * math.pi * x)\n",
    "\n",
    "def generateDataset(N, f, sigma):\n",
    "    t = []\n",
    "    x = np.linspace(0.0, 1.0, N)\n",
    "    s = np.random.default_rng().normal(0, sigma, N)\n",
    "    for i in range(0, N):\n",
    "        t.append(f(x[i]) + s[i])\n",
    "    return x,t"
   ]
  },
  {
   "cell_type": "markdown",
   "metadata": {},
   "source": [
    "lets check that our function works, we will plot the generated dataset using the scatter option, which just plots the points without adding some line to them."
   ]
  },
  {
   "cell_type": "code",
   "execution_count": 249,
   "metadata": {},
   "outputs": [
    {
     "data": {
      "text/plain": [
       "<matplotlib.collections.PathCollection at 0x25bb944eb20>"
      ]
     },
     "execution_count": 249,
     "metadata": {},
     "output_type": "execute_result"
    },
    {
     "data": {
      "image/png": "[encoded data removed]",
      "text/plain": [
       "<Figure size 432x288 with 1 Axes>"
      ]
     },
     "metadata": {
      "needs_background": "light"
     },
     "output_type": "display_data"
    }
   ],
   "source": [
    "x,t = generateDataset(100, f, 0.03)\n",
    "plt.scatter(x,t)"
   ]
  },
  {
   "cell_type": "markdown",
   "metadata": {},
   "source": [
    "<a name=\"curvefitting\"></a>\n",
    "<h3>2.2 Polynomial Curve Fitting</h3>\n",
    "\n",
    "We will attempt to learn the function y given a synthetic dataset $(x, t)$.\n",
    "\n",
    "We assume that $y$ is a polynomial of degree $M$ - that is:\n",
    "\n",
    "$y(x) = w_0 + w_1 x + w_2 x^2 + ... + w_M x^M$\n",
    "\n",
    "Our objective is to estimate the vector $w = (w_0 \\dots w_M)$ from the dataset $(x, t)$."
   ]
  },
  {
   "cell_type": "markdown",
   "metadata": {},
   "source": [
    "We implement a method <b>optimizeLS(x, t, M)</b> which given the dataset $(x, t)$ returns the optimal polynomial of degree $M$ that approximates the dataset according to the least squares objective. "
   ]
  },
  {
   "cell_type": "code",
   "execution_count": 250,
   "metadata": {},
   "outputs": [],
   "source": [
    "def calculate_design_matrix(x, M):\n",
    "    design_m = np.zeros((len(x), M + 1))\n",
    "    for i in range(len(x)):\n",
    "        for j in range(0, M + 1):\n",
    "            design_m[i][j] = pow(x[i], j)\n",
    "    return design_m\n",
    "\n",
    "def optimizeLS(x, t, M):\n",
    "    design_m = calculate_design_matrix(x, M)\n",
    "    w = np.dot(design_m.T, design_m)\n",
    "    w = np.linalg.inv(w)\n",
    "    w = np.dot(w, design_m.T)\n",
    "    w = np.dot(w, t)\n",
    "    return w"
   ]
  },
  {
   "cell_type": "markdown",
   "metadata": {},
   "source": [
    "We now plot the learned polynomial $w_M(x_i)$ and the real function $sin(2πx)$ for a dataset of size $N=10$ and $M=1,3,5,10$.\n"
   ]
  },
  {
   "cell_type": "code",
   "execution_count": 251,
   "metadata": {},
   "outputs": [
    {
     "data": {
      "image/png": "[encoded data removed]",
      "text/plain": [
       "<Figure size 432x288 with 1 Axes>"
      ]
     },
     "metadata": {
      "needs_background": "light"
     },
     "output_type": "display_data"
    }
   ],
   "source": [
    "x,t = generateDataset(10, f, 0.03)\n",
    "M = [1,3,5,10]\n",
    "colors = ['b', 'g', 'r', 'c']\n",
    "for i in range(len(M)):\n",
    "    coeffs = optimizeLS(x,t,M[i])\n",
    "    plt.scatter(x, t)\n",
    "    y = np.array([np.sum(np.array([coeffs[i]*(j**i) for i in range(len(coeffs))])) for j in x])\n",
    "    plt.plot(x, y, color=colors[i])"
   ]
  },
  {
   "cell_type": "markdown",
   "metadata": {},
   "source": [
    "from that plot we can see that when M=1 we just get a stright line, as expected which isn't that great in our example because our function is sin(2x).\n",
    "M=3,5 are equally good maybe M=5 is doing a better job, we will have to check the mean error to detemine that one.\n",
    "M=10 doesnt really fit the points , just like M=1 , probably because the degree is too high."
   ]
  },
  {
   "cell_type": "markdown",
   "metadata": {},
   "source": [
    "<a name=\"regularization\"></a>\n",
    "<h3>2.3 Polynomial Curve Fitting with Regularization</h3>\n",
    "\n",
    "We observe in the plot above that the solution to the least-squares optimization has a tendency to over-fit the dataset.\n",
    "\n",
    "To avoid over-fitting, we will use <i>regularization</i>: the objective function we want to optimize will take into account the least-squares error as above, and in addition the complexity of the learned model $w$."
   ]
  },
  {
   "cell_type": "markdown",
   "metadata": {},
   "source": [
    "We write a function <b>optimizePLS(x, t, M, lambda)</b> which returns the optimal parameters $w_{PLS}$ given $M$ and $\\lambda$."
   ]
  },
  {
   "cell_type": "code",
   "execution_count": 252,
   "metadata": {},
   "outputs": [
    {
     "data": {
      "image/png": "[encoded data removed]",
      "text/plain": [
       "<Figure size 432x288 with 1 Axes>"
      ]
     },
     "metadata": {
      "needs_background": "light"
     },
     "output_type": "display_data"
    }
   ],
   "source": [
    "def optimizePLS(x, t, M, lamb):\n",
    "    design_m = calculate_design_matrix(x, M)\n",
    "    w = np.dot(design_m.T, design_m)\n",
    "    w = w + (np.identity(M + 1) * lamb)\n",
    "    w = np.linalg.inv(w)\n",
    "    w = np.dot(w, design_m.T)\n",
    "    w = np.dot(w, t)\n",
    "    return w\n",
    "\n",
    "def calculatePointsFromCoef(coeffs, x):\n",
    "    return np.array([np.sum(np.array([coeffs[i]*(j**i) for i in range(len(coeffs))])) for j in x])\n",
    "\n",
    "x,t = generateDataset(10, f, 0.03)\n",
    "M = [1,3,5,10]\n",
    "colors = ['b', 'g', 'r', 'c']\n",
    "for i in range(len(M)):\n",
    "    coeffs = optimizePLS(x,t,M[i], 0.0001)\n",
    "    plt.scatter(x, t)\n",
    "    y = calculatePointsFromCoef(coeffs, x)\n",
    "    plt.plot(x, y, color=colors[i])"
   ]
  },
  {
   "cell_type": "markdown",
   "metadata": {},
   "source": [
    "after we use regularization we can see that the lines gets a better fit to the dataset, we can clearly see now that the lines we draw before were over fiting."
   ]
  },
  {
   "cell_type": "markdown",
   "metadata": {},
   "source": [
    "We want to optimize the value of λ. The way to optimize is to use a development set in addition to our training set.\n",
    "\n",
    "To construct a development set, we extend our synthetic dataset construction function to return 3 samples:\n",
    "* one for training, \n",
    "* one for development \n",
    "* and one for testing"
   ]
  },
  {
   "cell_type": "code",
   "execution_count": 253,
   "metadata": {},
   "outputs": [],
   "source": [
    "def generateSet(N, f, sigma, x):\n",
    "    t = []\n",
    "    s = np.random.default_rng().normal(0, sigma, N)\n",
    "    for i in range(0, N):\n",
    "        t.append(f(x[i]) + s[i])\n",
    "    return t\n",
    "    \n",
    "def generateDataset3(N, f, sigma):\n",
    "    x = numpy.linspace(0.0, 1.0, 3 * N)\n",
    "    np.random.default_rng().shuffle(x)\n",
    "    x_train, x_valid, x_test = np.split(x, 3)\n",
    "    return (x_train, generateSet(N, f, sigma, x_train)), (x_valid, generateSet(N, f, sigma, x_valid)), (x_test, generateSet(N, f, sigma, x_test))"
   ]
  },
  {
   "cell_type": "markdown",
   "metadata": {},
   "source": [
    "ok now that we have are splitted datasets , we now want to optimize the paramater lamb, we will do that by trying diffrent values from log(lamb) = [-40 - (-20)].\n",
    "but first before we can even check which is a better fit we need to denote some new function, which is the MSE(mean squared error) and it means, how much did i mistake in each prediction from the original point. \n",
    "the calculation of the MSE(y, y') where y is vector of size N of the test points and y' is vector of size N of the predicted results, is as follows : \\begin{equation} MSE(x, x') = \\frac{1}N * \\sqrt{(x - x') ^ 2} \\end{equation}"
   ]
  },
  {
   "cell_type": "code",
   "execution_count": 254,
   "metadata": {},
   "outputs": [],
   "source": [
    "def calculateMeanError(coeffs, xv, tv):\n",
    "    estimated_points = calculatePointsFromCoef(coeffs, xv)\n",
    "    return np.sqrt(np.sum(np.power((tv-estimated_points),2))) / len(xv)\n",
    "\n",
    "def calculate_mse_for_lambs(xt, tt, xv, tv, xtest, ttest, M):\n",
    "    train_errors = []\n",
    "    valid_errors = []\n",
    "    test_errors = []\n",
    "    lambs = []\n",
    "    for i in range(-40, -20):\n",
    "        lamb = pow(2, i)\n",
    "        coeffs = optimizePLS(xt, tt, M, lamb)\n",
    "        lambs.append(lamb)\n",
    "        train_errors.append(calculateMeanError(coeffs, xt, tt))\n",
    "        valid_errors.append(calculateMeanError(coeffs, xv, tv))\n",
    "        test_errors.append(calculateMeanError(coeffs, xtest, ttest))\n",
    "    return lambs, train_errors, valid_errors, test_errors"
   ]
  },
  {
   "cell_type": "markdown",
   "metadata": {},
   "source": [
    "ok after we defined those functions lets check for a simple dataset N=10 , with M=3 for the change in train, valid, test error while changing log(lamb) = [-40 - (-20)]."
   ]
  },
  {
   "cell_type": "code",
   "execution_count": 255,
   "metadata": {},
   "outputs": [
    {
     "data": {
      "text/plain": [
       "[<matplotlib.lines.Line2D at 0x25bab60a8e0>]"
      ]
     },
     "execution_count": 255,
     "metadata": {},
     "output_type": "execute_result"
    },
    {
     "data": {
      "image/png": "[encoded data removed]",
      "text/plain": [
       "<Figure size 432x288 with 1 Axes>"
      ]
     },
     "metadata": {
      "needs_background": "light"
     },
     "output_type": "display_data"
    }
   ],
   "source": [
    "train_set, valid_set, test_set = generateDataset3(10, f, 0.03)\n",
    "xt, tt = train_set\n",
    "xv, tv = valid_set\n",
    "x_test, t_test = test_set\n",
    "lambs, train_errors, valid_errors, test_errors = calculate_mse_for_lambs(xt, tt, xv, tv, x_test, t_test, 3)\n",
    "plt.plot(lambs, train_errors)"
   ]
  },
  {
   "cell_type": "markdown",
   "metadata": {},
   "source": [
    "this is not surprising, when lamb gets bigger also the error on the train gets bigger but lets check if the error on the valid and test gets smallers."
   ]
  },
  {
   "cell_type": "code",
   "execution_count": 256,
   "metadata": {},
   "outputs": [
    {
     "data": {
      "text/plain": [
       "[<matplotlib.lines.Line2D at 0x25b975b2190>]"
      ]
     },
     "execution_count": 256,
     "metadata": {},
     "output_type": "execute_result"
    },
    {
     "data": {
      "image/png": "[encoded data removed]",
      "text/plain": [
       "<Figure size 432x288 with 1 Axes>"
      ]
     },
     "metadata": {
      "needs_background": "light"
     },
     "output_type": "display_data"
    }
   ],
   "source": [
    "plt.plot(lambs, valid_errors)"
   ]
  },
  {
   "cell_type": "code",
   "execution_count": 257,
   "metadata": {},
   "outputs": [
    {
     "data": {
      "text/plain": [
       "[<matplotlib.lines.Line2D at 0x25bb0ba8910>]"
      ]
     },
     "execution_count": 257,
     "metadata": {},
     "output_type": "execute_result"
    },
    {
     "data": {
      "image/png": "[encoded data removed]",
      "text/plain": [
       "<Figure size 432x288 with 1 Axes>"
      ]
     },
     "metadata": {
      "needs_background": "light"
     },
     "output_type": "display_data"
    }
   ],
   "source": [
    "plt.plot(lambs, test_errors)"
   ]
  },
  {
   "cell_type": "markdown",
   "metadata": {},
   "source": [
    "we can cleary see that the error on the valid and test set, gets smaller when we increase lamb.\n",
    "lets check if that also holds true for a bigger dataset, for N=100."
   ]
  },
  {
   "cell_type": "code",
   "execution_count": 262,
   "metadata": {},
   "outputs": [
    {
     "data": {
      "text/plain": [
       "[<matplotlib.lines.Line2D at 0x25bc6020b20>]"
      ]
     },
     "execution_count": 262,
     "metadata": {},
     "output_type": "execute_result"
    },
    {
     "data": {
      "image/png": "[encoded data removed]",
      "text/plain": [
       "<Figure size 432x288 with 1 Axes>"
      ]
     },
     "metadata": {
      "needs_background": "light"
     },
     "output_type": "display_data"
    }
   ],
   "source": [
    "train_set, valid_set, test_set = generateDataset3(100, f, 0.03)\n",
    "xt, tt = train_set\n",
    "xv, tv = valid_set\n",
    "x_test, t_test = test_set\n",
    "lambs, train_errors, valid_errors, test_errors = calculate_mse_for_lambs(xt, tt, xv, tv, x_test, t_test, 3)\n",
    "plt.plot(lambs, train_errors)"
   ]
  },
  {
   "cell_type": "code",
   "execution_count": 263,
   "metadata": {},
   "outputs": [
    {
     "data": {
      "text/plain": [
       "[<matplotlib.lines.Line2D at 0x25bae567b20>]"
      ]
     },
     "execution_count": 263,
     "metadata": {},
     "output_type": "execute_result"
    },
    {
     "data": {
      "image/png": "[encoded data removed]",
      "text/plain": [
       "<Figure size 432x288 with 1 Axes>"
      ]
     },
     "metadata": {
      "needs_background": "light"
     },
     "output_type": "display_data"
    }
   ],
   "source": [
    "plt.plot(lambs, valid_errors)"
   ]
  },
  {
   "cell_type": "code",
   "execution_count": 264,
   "metadata": {},
   "outputs": [
    {
     "data": {
      "text/plain": [
       "[<matplotlib.lines.Line2D at 0x25bc3b31dc0>]"
      ]
     },
     "execution_count": 264,
     "metadata": {},
     "output_type": "execute_result"
    },
    {
     "data": {
      "image/png": "[encoded data removed]",
      "text/plain": [
       "<Figure size 432x288 with 1 Axes>"
      ]
     },
     "metadata": {
      "needs_background": "light"
     },
     "output_type": "display_data"
    }
   ],
   "source": [
    "plt.plot(lambs, test_errors)"
   ]
  },
  {
   "cell_type": "markdown",
   "metadata": {},
   "source": [
    "from the plots above we can cleary see that when the lambda paramter is bigger then the error on the train set gets bigger, but the error on the validation set and the test set is smaller.\n",
    "we can see that the model can generalized better on data he didn't see before thanks to the regularization which prevents the overfitting of the model.\n",
    "we will now intrduce new function optimizePLS2, this function try diffrent lambs, compare between them and return the best lamb using the MSE intruducted before on validation set."
   ]
  },
  {
   "cell_type": "code",
   "execution_count": 265,
   "metadata": {},
   "outputs": [
    {
     "data": {
      "text/plain": [
       "-21"
      ]
     },
     "execution_count": 265,
     "metadata": {},
     "output_type": "execute_result"
    }
   ],
   "source": [
    "def optimizePLS2(xt, tt, xv, tv, M):\n",
    "    best_error = 10000\n",
    "    best_lamb = 0.0\n",
    "    for i in range(-40, -20):\n",
    "        lamb = pow(2, i)\n",
    "        coeffs = optimizePLS(xt, tt, M, lamb)\n",
    "        new_error = calculateMeanError(coeffs, xv, tv)\n",
    "        if new_error < best_error:\n",
    "            best_error = new_error\n",
    "            best_lamb = i\n",
    "    return best_lamb\n",
    "\n",
    "optimizePLS2(train_set[0], train_set[1], valid_set[0], valid_set[1], 3)"
   ]
  },
  {
   "cell_type": "markdown",
   "metadata": {},
   "source": [
    "the best lamb is $2^{-21}$"
   ]
  },
  {
   "cell_type": "markdown",
   "metadata": {},
   "source": [
    "<a name=\"prob-regr\"></a>\n",
    "<h3>2.4 Probabilistic Regression Framework</h3>\n",
    "\n",
    "We now consider the same problem of regression (learning a function from a dataset) formulated in a probabilistic framework."
   ]
  },
  {
   "cell_type": "markdown",
   "metadata": {},
   "source": [
    "we will now calculate the bayesian Estimator which calculate the mean and the verience of each point x using the distribution of the train dataset."
   ]
  },
  {
   "cell_type": "code",
   "execution_count": 266,
   "metadata": {},
   "outputs": [],
   "source": [
    "def Mean(x, sigma2, design_m_train, t_train, M, S):\n",
    "    design_m = calculate_design_matrix(x, M)\n",
    "    m = np.matmul(design_m_train.T, t_train)\n",
    "    m = np.dot(S, m)\n",
    "    m = np.dot(design_m, m)\n",
    "    return (1/sigma2) * m.T\n",
    "\n",
    "def Var(x, sigma2, M, S):\n",
    "    design_m = calculate_design_matrix(x, M)\n",
    "    v = np.dot(S, design_m.T)\n",
    "    v = np.dot(design_m, v)\n",
    "    return v + sigma2\n",
    "\n",
    "\n",
    "def calculate_sum_vector(m, t, N):\n",
    "    return np.sum([np.dot(m[i,:], t[i]) for i in range(0, N)])\n",
    "\n",
    "def calculate_sum_matrices(m, t, N):\n",
    "    print(m[i,:])\n",
    "    print(t[:,i])\n",
    "    return np.sum([np.dot(m[i,:], t[:,i]) for i in range(0, N)])\n",
    "\n",
    "def bayesianEstimator(x, t, M, alpha, sigma2):\n",
    "    t = np.array(t)\n",
    "    design_m = calculate_design_matrix(x, M)\n",
    "    s =  np.linalg.inv((np.identity(M + 1) * alpha) + ((1/sigma2) * np.matmul(design_m.T, design_m)))\n",
    "    m = lambda x: Mean(x, sigma2, design_m, t, M, s)\n",
    "    v = lambda x: Var(x, sigma2, M, s)\n",
    "    return m, v"
   ]
  },
  {
   "cell_type": "markdown",
   "metadata": {},
   "source": [
    "We draw the plot of the original function $y = sin(2πx)$ over the range $[0 \\dots 1]$, the mean of the predictive distribution $m(x)$ and the confidence interval $m(x) - \\sqrt{var(x)}$ and $m(x) + \\sqrt{var(x)}$ (that is, one standard deviation around each predicted point) for the values:\n",
    "* $\\alpha = 0.005$\n",
    "* $\\sigma^2 = 1/11.1$\n",
    "* $M = 9$\n",
    "\n",
    "over a synthetic dataset of size $N=10$ and $N=100$."
   ]
  },
  {
   "cell_type": "code",
   "execution_count": 267,
   "metadata": {},
   "outputs": [
    {
     "data": {
      "text/plain": [
       "[<matplotlib.lines.Line2D at 0x25bc6f2ac40>]"
      ]
     },
     "execution_count": 267,
     "metadata": {},
     "output_type": "execute_result"
    },
    {
     "data": {
      "image/png": "[encoded data removed]",
      "text/plain": [
       "<Figure size 432x288 with 1 Axes>"
      ]
     },
     "metadata": {
      "needs_background": "light"
     },
     "output_type": "display_data"
    }
   ],
   "source": [
    "def calculate_point_from_mean_and_variance(M, m, v, x):\n",
    "    result = []\n",
    "    for j in x:\n",
    "        point = m([j])\n",
    "        var = v([j])\n",
    "        result.append((point[0], point[0] + np.sqrt(var[0]), point[0] - np.sqrt(var[0])))\n",
    "    return result\n",
    "\n",
    "\n",
    "train_set, valid_set, test_set = generateDataset3(10, f, 0.03)\n",
    "xt, tt = train_set\n",
    "xv, tv = valid_set\n",
    "x_test, t_test = test_set\n",
    "m, v = bayesianEstimator(xt, tt, 9, 0.005, 1/11.1)\n",
    "sorted_xv = sorted(xv)\n",
    "y = calculate_point_from_mean_and_variance(9, m, v, sorted_xv)\n",
    "plt.scatter(xv, tv)\n",
    "plt.plot(sorted_xv, [point[0] for point in y], color='g')\n",
    "plt.plot(sorted_xv, [point[1] for point in y], color='b')\n",
    "plt.plot(sorted_xv, [point[2] for point in y], color='r')"
   ]
  },
  {
   "cell_type": "markdown",
   "metadata": {},
   "source": [
    "from the plot we can see the the this estimator fits the data well for the validation set , lets check it on the training set."
   ]
  },
  {
   "cell_type": "code",
   "execution_count": 268,
   "metadata": {},
   "outputs": [
    {
     "data": {
      "text/plain": [
       "[<matplotlib.lines.Line2D at 0x25b9313e790>]"
      ]
     },
     "execution_count": 268,
     "metadata": {},
     "output_type": "execute_result"
    },
    {
     "data": {
      "image/png": "[encoded data removed]",
      "text/plain": [
       "<Figure size 432x288 with 1 Axes>"
      ]
     },
     "metadata": {
      "needs_background": "light"
     },
     "output_type": "display_data"
    }
   ],
   "source": [
    "sorted_xtest = sorted(x_test)\n",
    "y = calculate_point_from_mean_and_variance(9, m, v, sorted_xtest)\n",
    "plt.scatter(x_test, t_test)\n",
    "plt.plot(sorted_xtest, [point[0] for point in y], color='g')\n",
    "plt.plot(sorted_xtest, [point[1] for point in y], color='b')\n",
    "plt.plot(sorted_xtest, [point[2] for point in y], color='r')"
   ]
  },
  {
   "cell_type": "markdown",
   "metadata": {},
   "source": [
    "because we have very small dataset N=10, we can see that the line doesn't look like sin(2x) at all, lets see if when N=100 we can get better results."
   ]
  },
  {
   "cell_type": "code",
   "execution_count": 269,
   "metadata": {},
   "outputs": [
    {
     "data": {
      "text/plain": [
       "[<matplotlib.lines.Line2D at 0x25b935cf610>]"
      ]
     },
     "execution_count": 269,
     "metadata": {},
     "output_type": "execute_result"
    },
    {
     "data": {
      "image/png": "[encoded data removed]",
      "text/plain": [
       "<Figure size 432x288 with 1 Axes>"
      ]
     },
     "metadata": {
      "needs_background": "light"
     },
     "output_type": "display_data"
    }
   ],
   "source": [
    "train_set, valid_set, test_set = generateDataset3(100, f, 0.03)\n",
    "xt, tt = train_set\n",
    "xv, tv = valid_set\n",
    "x_test, t_test = test_set\n",
    "m, v = bayesianEstimator(xt, tt, 9, 0.005, 1/11.1)\n",
    "sorted_xv = sorted(xv)\n",
    "y = calculate_point_from_mean_and_variance(9, m, v, sorted_xv)\n",
    "plt.scatter(xv, tv)\n",
    "plt.plot(sorted_xv, [point[0] for point in y], color='g')\n",
    "plt.plot(sorted_xv, [point[1] for point in y], color='b')\n",
    "plt.plot(sorted_xv, [point[2] for point in y], color='r')"
   ]
  },
  {
   "cell_type": "code",
   "execution_count": 270,
   "metadata": {},
   "outputs": [
    {
     "data": {
      "text/plain": [
       "[<matplotlib.lines.Line2D at 0x25b8b115370>]"
      ]
     },
     "execution_count": 270,
     "metadata": {},
     "output_type": "execute_result"
    },
    {
     "data": {
      "image/png": "[encoded data removed]",
      "text/plain": [
       "<Figure size 432x288 with 1 Axes>"
      ]
     },
     "metadata": {
      "needs_background": "light"
     },
     "output_type": "display_data"
    }
   ],
   "source": [
    "sorted_xtest = sorted(x_test)\n",
    "y = calculate_point_from_mean_and_variance(9, m, v, sorted_xtest)\n",
    "plt.scatter(x_test, t_test)\n",
    "plt.plot(sorted_xtest, [point[0] for point in y], color='g')\n",
    "plt.plot(sorted_xtest, [point[1] for point in y], color='b')\n",
    "plt.plot(sorted_xtest, [point[2] for point in y], color='r')"
   ]
  },
  {
   "cell_type": "markdown",
   "metadata": {},
   "source": [
    "this line looks alot better from before because we got alot of training examples and mean can return the real distribution of points."
   ]
  },
  {
   "cell_type": "markdown",
   "metadata": {},
   "source": [
    "Interpret the height of the band around the most likely function in terms of the distribution of the xs in your synthetic dataset.\n",
    "Can you think of ways to make this height very small in one segment of the function and large in another?"
   ]
  },
  {
   "cell_type": "markdown",
   "metadata": {},
   "source": [
    "from the given formula we can see that the var does depend on some x, but also on S which is a matrix calculate over the entire dataset. in order to make one segment very small then the other we need to somehow change the formula to also compose x and t"
   ]
  },
  {
   "cell_type": "markdown",
   "metadata": {},
   "source": [
    "<hr/>\n",
    "<hr/>\n",
    "<a name=\"P3\"></a>\n",
    "<h2>Part 3: Neural Models for Classification</h2>\n",
    "\n",
    "In this section, we adopt the PyTorch tutorial on \n",
    "<a href=\"https://pytorch.org/tutorials/intermediate/char_rnn_classification_tutorial.html\">Character RNN for classification</a>\n",
    "to a different dataset.\n",
    "\n",
    "<a name=\"readtut\"></a>\n",
    "<h3>3.1 Summarize the Tutorial</h3>\n",
    "\n",
    "We summarize the <a href=\"https://pytorch.org/tutorials/intermediate/char_rnn_classification_tutorial.html\">PyTorch tutorial</a>:\n",
    "* task\n",
    "* method\n",
    "* data encoding\n",
    "* loss function \n",
    "* evaluation method\n",
    "\n",
    "(Reading <a href=\"https://pytorch.org/tutorials/beginner/blitz/tensor_tutorial.html\">PyTorch Tensor Tutorial</a> helps)"
   ]
  },
  {
   "cell_type": "markdown",
   "metadata": {},
   "source": [
    "<a name=\"newdata\"></a>\n",
    "<h3>3.2 Explore City Names Dataset</h3>\n",
    "\n",
    "We use a dataset on city names in different countries to train a classifier.\n",
    "\n",
    "The data from <a href=\"cities_val.zip\">cities_val.zip</a> (validation) and <a href=\"cities_train.zip\">cities_train.zip</a> (training)\n",
    "is under \"../data/cities/val\" and \"../data/cities/train\".\n"
   ]
  },
  {
   "cell_type": "code",
   "execution_count": 271,
   "metadata": {},
   "outputs": [],
   "source": [
    "import codecs\n",
    "import math\n",
    "import random\n",
    "import string\n",
    "import time\n",
    "import numpy as np\n",
    "from sklearn.metrics import accuracy_score\n",
    "import os\n",
    "import matplotlib.pyplot as plt\n",
    "import torch\n",
    "\n",
    "'''\n",
    "Don't change these constants for the classification task.\n",
    "You may use different copies for the sentence generation model.\n",
    "'''\n",
    "languages = [\"af\", \"cn\", \"de\", \"fi\", \"fr\", \"in\", \"ir\", \"pk\", \"za\"]\n",
    "all_letters = string.ascii_lowercase + \" .,;'\"\n",
    "n_letters = len(all_letters)\n",
    "n_categories = len(languages)\n",
    "\n",
    "import unicodedata\n",
    "\n",
    "# Turn a Unicode string to plain ASCII, thanks to https://stackoverflow.com/a/518232/2809427\n",
    "def unicodeToAscii(s):\n",
    "    return ''.join(\n",
    "        c for c in unicodedata.normalize('NFD', s)\n",
    "        if unicodedata.category(c) != 'Mn'\n",
    "        and c in all_letters\n",
    "    )\n",
    "\n",
    "# print(unicodeToAscii('Ślusàrski'))\n",
    "\n",
    "# Build the category_lines dictionary, a list of names per language\n",
    "category_lines = {}\n",
    "all_categories = languages\n",
    "\n",
    "# Read a file and split into lines\n",
    "def readLines(filename):\n",
    "    lines = codecs.open(filename, \"r\",encoding='utf-8', errors='ignore').read().strip().split('\\n')\n",
    "    return [unicodeToAscii(line) for line in lines]"
   ]
  },
  {
   "cell_type": "markdown",
   "metadata": {},
   "source": [
    "we will now load the dataset using the prebuild functions above, we use unicode_to_ascii because we dont want to model to predict the langugue just based on diffrent chars, we want to model to be able to predict the langague based on the name of the cities."
   ]
  },
  {
   "cell_type": "code",
   "execution_count": 272,
   "metadata": {},
   "outputs": [
    {
     "name": "stdout",
     "output_type": "stream",
     "text": [
      "af garavshakh\n",
      "cn yungming\n",
      "de rudenweiler\n",
      "fi navala\n",
      "fr premery\n",
      "in tagegin\n",
      "ir borough of cheshire east\n",
      "pk angurai\n",
      "za molazzana\n"
     ]
    }
   ],
   "source": [
    "for (dirpath, dirnames, filenames) in os.walk('../data/cities/train'):\n",
    "    for file in filenames:\n",
    "        category_lines[file.split('.')[0]] = readLines(os.path.join('../data/cities/train', file))\n",
    "for x,y in category_lines.items():\n",
    "    print(x,y[0])"
   ]
  },
  {
   "cell_type": "markdown",
   "metadata": {},
   "source": [
    "after we loaded the dataset, we will explore the dataset and compute some basic statistics, we expect the dataset to be balanced , lets check how many citites we have in each category."
   ]
  },
  {
   "cell_type": "code",
   "execution_count": 273,
   "metadata": {},
   "outputs": [
    {
     "name": "stdout",
     "output_type": "stream",
     "text": [
      "number of categories in the dataset is : 9\n"
     ]
    },
    {
     "data": {
      "text/plain": [
       "<BarContainer object of 9 artists>"
      ]
     },
     "execution_count": 273,
     "metadata": {},
     "output_type": "execute_result"
    },
    {
     "data": {
      "image/png": "[encoded data removed]",
      "text/plain": [
       "<Figure size 432x288 with 1 Axes>"
      ]
     },
     "metadata": {
      "needs_background": "light"
     },
     "output_type": "display_data"
    }
   ],
   "source": [
    "print('number of categories in the dataset is : {}'.format(n_categories))\n",
    "\n",
    "cities_per_category = {x : len(y) for x,y in category_lines.items()}\n",
    "\n",
    "plt.bar(cities_per_category.keys(), height=cities_per_category.values())"
   ]
  },
  {
   "cell_type": "markdown",
   "metadata": {},
   "source": [
    "just like we expected there are the same number of citites in each category, we will now explore the number of tokens(words) in each langugue, just like the number of cities we will expect that number to be close, but since those langugue are diffrent we can expect some diffrence(+- 1000 words)"
   ]
  },
  {
   "cell_type": "code",
   "execution_count": 274,
   "metadata": {},
   "outputs": [
    {
     "data": {
      "text/plain": [
       "<BarContainer object of 9 artists>"
      ]
     },
     "execution_count": 274,
     "metadata": {},
     "output_type": "execute_result"
    },
    {
     "data": {
      "image/png": "[encoded data removed]",
      "text/plain": [
       "<Figure size 432x288 with 1 Axes>"
      ]
     },
     "metadata": {
      "needs_background": "light"
     },
     "output_type": "display_data"
    }
   ],
   "source": [
    "tokens_per_category = {x : np.sum([len(city.split(' ')) for city in y]) for x,y in category_lines.items()}\n",
    "plt.bar(tokens_per_category.keys(), height=tokens_per_category.values())"
   ]
  },
  {
   "cell_type": "markdown",
   "metadata": {},
   "source": [
    "well the diffrenct between cn to any other languge is pretty big, i can allready guess that the model will be able to recognize this languge more then others.\n",
    "we will know check the total number of chars in each category, after senning the number of tokens we can now expect cn to have the lowest number and probably all the others will be the same."
   ]
  },
  {
   "cell_type": "code",
   "execution_count": 275,
   "metadata": {},
   "outputs": [
    {
     "data": {
      "text/plain": [
       "<BarContainer object of 9 artists>"
      ]
     },
     "execution_count": 275,
     "metadata": {},
     "output_type": "execute_result"
    },
    {
     "data": {
      "image/png": "[encoded data removed]",
      "text/plain": [
       "<Figure size 432x288 with 1 Axes>"
      ]
     },
     "metadata": {
      "needs_background": "light"
     },
     "output_type": "display_data"
    }
   ],
   "source": [
    "chars_per_category = {x : np.sum([len(city) for city in y]) for x,y in category_lines.items()}\n",
    "plt.bar(chars_per_category.keys(), height=chars_per_category.values())"
   ]
  },
  {
   "cell_type": "markdown",
   "metadata": {},
   "source": [
    "we can see the cn has the lowest number of characters , like expected and all the other langugues are pretty much the same.\n",
    "we will now calculate the total number of disticnt chars in the dataset, from the function unicode_to_ascii we know that there are only ascii_chars so we expect that number to be 31"
   ]
  },
  {
   "cell_type": "code",
   "execution_count": 30,
   "metadata": {},
   "outputs": [
    {
     "name": "stdout",
     "output_type": "stream",
     "text": [
      "we have 29 distinct chars in the dataset, we expect that value to be equal or lower to 31\n"
     ]
    }
   ],
   "source": [
    "distinct_chars = set([char for cities in category_lines.values() for city in cities for char in city])\n",
    "print('we have {} distinct chars in the dataset, we expect that value to be equal or lower to {}'.format(len(distinct_chars), n_letters))"
   ]
  },
  {
   "cell_type": "markdown",
   "metadata": {},
   "source": [
    "we actually got only 29 chars which is quite surprising, i guess there are some chars which are not in use in those langugues.\n",
    "lets check which are those chars."
   ]
  },
  {
   "cell_type": "code",
   "execution_count": 31,
   "metadata": {},
   "outputs": [
    {
     "name": "stdout",
     "output_type": "stream",
     "text": [
      "{';', ','}\n"
     ]
    }
   ],
   "source": [
    "print(set(all_letters).symmetric_difference(distinct_chars))"
   ]
  },
  {
   "cell_type": "markdown",
   "metadata": {},
   "source": [
    "ok so we go only those 2 special chars, which is not very surprising, so lets continue, lets calcualte the disticnt chars per category, maybe we can observe some pattern"
   ]
  },
  {
   "cell_type": "code",
   "execution_count": 32,
   "metadata": {},
   "outputs": [
    {
     "data": {
      "text/plain": [
       "<BarContainer object of 9 artists>"
      ]
     },
     "execution_count": 32,
     "metadata": {},
     "output_type": "execute_result"
    },
    {
     "data": {
      "image/png": "[encoded data removed]",
      "text/plain": [
       "<Figure size 432x288 with 1 Axes>"
      ]
     },
     "metadata": {
      "needs_background": "light"
     },
     "output_type": "display_data"
    }
   ],
   "source": [
    "distinct_chars_per_category = {x : len(set([char for city in cities for char in city])) for x, cities in category_lines.items()}\n",
    "plt.bar(distinct_chars_per_category.keys(), height=distinct_chars_per_category.values())"
   ]
  },
  {
   "cell_type": "markdown",
   "metadata": {},
   "source": [
    "lets calculate the average number of letters in each city for each langugue, i dont have predictions about that , i just expect from before that cn will have the lowest number and de or pk will have the higest."
   ]
  },
  {
   "cell_type": "code",
   "execution_count": 34,
   "metadata": {},
   "outputs": [
    {
     "data": {
      "text/plain": [
       "<BarContainer object of 9 artists>"
      ]
     },
     "execution_count": 34,
     "metadata": {},
     "output_type": "execute_result"
    },
    {
     "data": {
      "image/png": "[encoded data removed]",
      "text/plain": [
       "<Figure size 432x288 with 1 Axes>"
      ]
     },
     "metadata": {
      "needs_background": "light"
     },
     "output_type": "display_data"
    }
   ],
   "source": [
    "average_chars_per_category = {x : len([char for city in cities for char in city])/len(cities) for x, cities in category_lines.items()}\n",
    "plt.bar(average_chars_per_category.keys(), height=average_chars_per_category.values())"
   ]
  },
  {
   "cell_type": "markdown",
   "metadata": {},
   "source": [
    "as epected de have the largest number of letters in each city and cn have the lowest number, lets now calculate average number of words in each city"
   ]
  },
  {
   "cell_type": "code",
   "execution_count": 35,
   "metadata": {},
   "outputs": [
    {
     "data": {
      "text/plain": [
       "<BarContainer object of 9 artists>"
      ]
     },
     "execution_count": 35,
     "metadata": {},
     "output_type": "execute_result"
    },
    {
     "data": {
      "image/png": "[encoded data removed]",
      "text/plain": [
       "<Figure size 432x288 with 1 Axes>"
      ]
     },
     "metadata": {
      "needs_background": "light"
     },
     "output_type": "display_data"
    }
   ],
   "source": [
    "average_words_per_category = {x : sum([len(city.split(' ')) for city in cities])/len(cities) for x, cities in category_lines.items()}\n",
    "plt.bar(average_words_per_category.keys(), height=average_words_per_category.values())"
   ]
  },
  {
   "cell_type": "markdown",
   "metadata": {},
   "source": [
    "ok first of all we need to convert each letter to one hot encoding vector and then each line to array of one hot encodings.\n",
    "we need to do that because it works better when each letter is orthogonal to each letter, and we dont just assign random vectors to each letter(a nerual network is just some matrix multiplication + some non linear function)"
   ]
  },
  {
   "cell_type": "code",
   "execution_count": 36,
   "metadata": {},
   "outputs": [],
   "source": [
    "# Find letter index from all_letters, e.g. \"a\" = 0\n",
    "def letterToIndex(letter):\n",
    "    return all_letters.find(letter)\n",
    "\n",
    "# Just for demonstration, turn a letter into a <1 x n_letters> Tensor\n",
    "def letterToTensor(letter):\n",
    "    tensor = torch.zeros(1, n_letters)\n",
    "    tensor[0][letterToIndex(letter)] = 1\n",
    "    return tensor\n",
    "\n",
    "# Turn a line into a <line_length x 1 x n_letters>,\n",
    "# or an array of one-hot letter vectors\n",
    "def lineToTensor(line):\n",
    "    tensor = torch.zeros(len(line), 1, n_letters)\n",
    "    for li, letter in enumerate(line):\n",
    "        tensor[li][0][letterToIndex(letter)] = 1\n",
    "    return tensor"
   ]
  },
  {
   "cell_type": "markdown",
   "metadata": {},
   "source": [
    "we will now build the rnn module, we need to inherit nn.Module and implement foward and __init__ , that is the basic interface that pytorch gives us inorder to create nn and train them."
   ]
  },
  {
   "cell_type": "code",
   "execution_count": 43,
   "metadata": {},
   "outputs": [],
   "source": [
    "import torch.nn as nn\n",
    "\n",
    "class RNN(nn.Module):\n",
    "    def __init__(self, input_size, hidden_size, output_size):\n",
    "        super(RNN, self).__init__()\n",
    "\n",
    "        self.hidden_size = hidden_size\n",
    "\n",
    "        self.i2h = nn.Linear(input_size + hidden_size, hidden_size)\n",
    "        self.i2o = nn.Linear(input_size + hidden_size, output_size)\n",
    "        self.softmax = nn.LogSoftmax(dim=1)\n",
    "\n",
    "    def forward(self, input, hidden):\n",
    "        combined = torch.cat((input, hidden), 1)\n",
    "        hidden = self.i2h(combined)\n",
    "        output = self.i2o(combined)\n",
    "        output = self.softmax(output)\n",
    "        return output, hidden\n",
    "\n",
    "    def initHidden(self):\n",
    "        return torch.zeros(1, self.hidden_size)\n",
    "\n",
    "n_hidden = 128\n",
    "rnn = RNN(n_letters, n_hidden, n_categories)"
   ]
  },
  {
   "cell_type": "markdown",
   "metadata": {},
   "source": [
    "ok after we defined our nn , we now need to train the model , and for the training we need to be able to sample random training example, because the gradient decent converges better that way(at list that is the general approch)."
   ]
  },
  {
   "cell_type": "code",
   "execution_count": 44,
   "metadata": {},
   "outputs": [
    {
     "name": "stdout",
     "output_type": "stream",
     "text": [
      "category = fr / line = brotel\n",
      "category = ir / line = kalatehye shoqaniha\n",
      "category = ir / line = tirapenk\n",
      "category = pk / line = zaralg kili\n",
      "category = af / line = cadafais\n",
      "category = fr / line = montbrunbocage\n",
      "category = za / line = mbanza mussende\n",
      "category = cn / line = taynin\n",
      "category = fr / line = billy\n",
      "category = af / line = joye qalah\n"
     ]
    }
   ],
   "source": [
    "import random\n",
    "\n",
    "def categoryFromOutput(output):\n",
    "    top_n, top_i = output.topk(1)\n",
    "    category_i = top_i[0].item()\n",
    "    return all_categories[category_i], category_i\n",
    "\n",
    "def randomChoice(l):\n",
    "    return l[random.randint(0, len(l) - 1)]\n",
    "\n",
    "def randomTrainingExample():\n",
    "    category = randomChoice(all_categories)\n",
    "    line = randomChoice(category_lines[category])\n",
    "    category_tensor = torch.tensor([all_categories.index(category)], dtype=torch.long)\n",
    "    line_tensor = lineToTensor(line)\n",
    "    return category, line, category_tensor, line_tensor\n",
    "\n",
    "for i in range(10):\n",
    "    category, line, category_tensor, line_tensor = randomTrainingExample()\n",
    "    print('category =', category, '/ line =', line)"
   ]
  },
  {
   "cell_type": "markdown",
   "metadata": {},
   "source": [
    "we will now define our lose function which is just negative log likelihood loss, our learning rate which we set for 0.005 but we might change that if there is some overfit or underfit.\n",
    "we will also define our training function which takes some example and feed it in the network, after that calculate the loss and update the params."
   ]
  },
  {
   "cell_type": "code",
   "execution_count": 45,
   "metadata": {},
   "outputs": [],
   "source": [
    "criterion = nn.NLLLoss()\n",
    "learning_rate = 0.005 # If you set this too high, it might explode. If too low, it might not learn\n",
    "\n",
    "def train(category_tensor, line_tensor):\n",
    "    hidden = rnn.initHidden()\n",
    "\n",
    "    rnn.zero_grad()\n",
    "\n",
    "    for i in range(line_tensor.size()[0]):\n",
    "        output, hidden = rnn(line_tensor[i], hidden)\n",
    "\n",
    "    loss = criterion(output, category_tensor)\n",
    "    loss.backward()\n",
    "    torch.nn.utils.clip_grad_norm_(rnn.parameters(), 0.5)\n",
    "\n",
    "    # Add parameters' gradients to their values, multiplied by learning rate\n",
    "    for p in rnn.parameters():\n",
    "        p.data.add_(p.grad.data, alpha=-learning_rate)\n",
    "\n",
    "    return output, loss.item()"
   ]
  },
  {
   "cell_type": "markdown",
   "metadata": {},
   "source": [
    "and now we will train our network, we will do 300k iters which is about 10 epoch since we have 27k cities in our dataset.\n",
    "in each iteration we will add the loss so we will plot it later to see if the network loss converages.\n",
    "we will plot every 27k examples because there are 27k cities in the dataset, so we will plot every epoch."
   ]
  },
  {
   "cell_type": "code",
   "execution_count": 46,
   "metadata": {},
   "outputs": [
    {
     "name": "stdout",
     "output_type": "stream",
     "text": [
      "5000 1% (0m 8s) 2.1025 vikarheden / in ✗ (de)\n",
      "10000 3% (0m 16s) 2.1572 podrzeczany / in ✗ (za)\n",
      "15000 5% (0m 24s) 2.3781 san jose de tapia / fi ✗ (de)\n",
      "20000 6% (0m 33s) 2.6358 merteza / fi ✗ (za)\n",
      "25000 8% (0m 41s) 7.2403 san lorenzo descardazar / fr ✗ (za)\n",
      "30000 10% (0m 49s) 1.1958 yanghuakengcun / cn ✓\n",
      "35000 11% (0m 58s) 1.1458 staryye zazulyany / za ✓\n",
      "40000 13% (1m 6s) 1.1005 gonfi k'edida / fi ✓\n",
      "45000 15% (1m 15s) 1.9254 kondez / fi ✗ (de)\n",
      "50000 16% (1m 23s) 1.0068 fintesti / fi ✓\n",
      "55000 18% (1m 31s) 2.1041 ganga pind / cn ✗ (pk)\n",
      "60000 20% (1m 40s) 0.8028 chuanyanba / cn ✓\n",
      "65000 21% (1m 48s) 0.9976 alderpoint / fr ✗ (de)\n",
      "70000 23% (1m 56s) 0.8237 goth maro kakepota / pk ✓\n",
      "75000 25% (2m 4s) 3.6229 kockwitz / ir ✗ (de)\n",
      "80000 26% (2m 13s) 1.5225 pampyoli / pk ✗ (fi)\n",
      "85000 28% (2m 21s) 1.8853 narimani sofla / fi ✗ (ir)\n",
      "90000 30% (2m 30s) 1.9052 platiner / fi ✗ (in)\n",
      "95000 31% (2m 38s) 0.7343 wuyegong / cn ✓\n",
      "100000 33% (2m 46s) 5.7028 zurchau / za ✗ (de)\n",
      "105000 35% (2m 55s) 1.7973 shtufi / ir ✗ (fi)\n",
      "110000 36% (3m 3s) 3.8694 dahane nawehye gorg / za ✗ (af)\n",
      "115000 38% (3m 11s) 1.0037 strommings / fi ✓\n",
      "120000 40% (3m 20s) 0.0693 tiezuanping / cn ✓\n",
      "125000 41% (3m 28s) 2.3910 dundakiret / de ✗ (ir)\n",
      "130000 43% (3m 37s) 2.3059 saintmartory / fi ✗ (fr)\n",
      "135000 45% (3m 45s) 2.1313 ilani / in ✗ (pk)\n",
      "140000 46% (3m 54s) 3.1365 guy bolaghe bala / pk ✗ (ir)\n",
      "145000 48% (4m 2s) 0.1872 yingkenchen / cn ✓\n",
      "150000 50% (4m 10s) 0.1413 kwajozana / za ✓\n",
      "155000 51% (4m 19s) 1.8438 fodecounda / fr ✗ (de)\n",
      "160000 53% (4m 27s) 0.8982 qala durrani / af ✓\n",
      "165000 55% (4m 36s) 0.6376 angeville / fr ✓\n",
      "170000 56% (4m 44s) 0.8179 goth pir bakhsh dharejo / af ✗ (pk)\n",
      "175000 58% (4m 52s) 2.3059 courquetaine / fr ✗ (in)\n",
      "180000 60% (5m 1s) 0.1188 shuangdunzi / cn ✓\n",
      "185000 61% (5m 9s) 1.6806 jundar / cn ✗ (ir)\n",
      "190000 63% (5m 18s) 1.6166 le faux buisson / in ✗ (fr)\n",
      "195000 65% (5m 26s) 2.7236 zhuanmo / za ✗ (cn)\n",
      "200000 66% (5m 35s) 5.2154 dadabade sofla / de ✗ (ir)\n",
      "205000 68% (5m 43s) 1.5096 saintmichel / cn ✗ (in)\n",
      "210000 70% (5m 52s) 4.1814 zonderwater / za ✗ (de)\n",
      "215000 71% (6m 0s) 0.0007 borgonovo di mezzanego / za ✓\n",
      "220000 73% (6m 8s) 3.2657 mariaud / ir ✗ (fr)\n",
      "225000 75% (6m 17s) 0.0160 zarach / za ✓\n",
      "230000 76% (6m 25s) 0.5905 yemino / in ✓\n",
      "235000 78% (6m 34s) 0.4352 gholam dastagir kalay / af ✓\n",
      "240000 80% (6m 42s) 0.2538 gendelan / de ✓\n",
      "245000 81% (6m 50s) 1.7015 yukari micingir / in ✗ (ir)\n",
      "250000 83% (6m 59s) 0.8975 bura thotha / pk ✓\n",
      "255000 85% (7m 7s) 3.8424 sambogarh / ir ✗ (in)\n",
      "260000 86% (7m 15s) 4.2326 mel'dekvirzhe / de ✗ (ir)\n",
      "265000 88% (7m 24s) 4.8720 africanda / fi ✗ (af)\n",
      "270000 90% (7m 32s) 0.6924 chukuanao / cn ✓\n",
      "275000 91% (7m 41s) 2.4979 kirsanovopyatnitsa / in ✗ (ir)\n",
      "280000 93% (7m 49s) 1.3870 guerledan / de ✗ (fr)\n",
      "285000 95% (7m 57s) 2.2404 mangow / ir ✗ (af)\n",
      "290000 96% (8m 6s) 0.0443 izab nubar / za ✓\n",
      "295000 98% (8m 14s) 2.1239 kreijas muiza / ir ✗ (za)\n",
      "300000 100% (8m 23s) 3.6561 der zenaka / za ✗ (de)\n"
     ]
    }
   ],
   "source": [
    "import time\n",
    "import math\n",
    "\n",
    "n_iters = 300000\n",
    "print_every = 5000\n",
    "plot_every = 27000\n",
    "\n",
    "\n",
    "# Keep track of losses for plotting\n",
    "current_loss = 0\n",
    "all_losses = []\n",
    "\n",
    "def timeSince(since):\n",
    "    now = time.time()\n",
    "    s = now - since\n",
    "    m = math.floor(s / 60)\n",
    "    s -= m * 60\n",
    "    return '%dm %ds' % (m, s)\n",
    "\n",
    "start = time.time()\n",
    "\n",
    "for iter in range(1, n_iters + 1):\n",
    "    category, line, category_tensor, line_tensor = randomTrainingExample()\n",
    "    output, loss = train(category_tensor, line_tensor)\n",
    "    current_loss += loss\n",
    "\n",
    "    # Print iter number, loss, name and guess\n",
    "    if iter % print_every == 0:\n",
    "        guess, guess_i = categoryFromOutput(output)\n",
    "        correct = '✓' if guess == category else '✗ (%s)' % category\n",
    "        print('%d %d%% (%s) %.4f %s / %s %s' % (iter, iter / n_iters * 100, timeSince(start), loss, line, guess, correct))\n",
    "\n",
    "    # Add current loss avg to list of losses\n",
    "    if iter % plot_every == 0:\n",
    "        all_losses.append(current_loss / plot_every)\n",
    "        current_loss = 0"
   ]
  },
  {
   "cell_type": "code",
   "execution_count": 47,
   "metadata": {},
   "outputs": [
    {
     "data": {
      "text/plain": [
       "[<matplotlib.lines.Line2D at 0x1fcbc604be0>]"
      ]
     },
     "execution_count": 47,
     "metadata": {},
     "output_type": "execute_result"
    },
    {
     "data": {
      "image/png": "[encoded data removed]",
      "text/plain": [
       "<Figure size 432x288 with 1 Axes>"
      ]
     },
     "metadata": {
      "needs_background": "light"
     },
     "output_type": "display_data"
    }
   ],
   "source": [
    "plt.figure()\n",
    "plt.plot(all_losses)"
   ]
  },
  {
   "cell_type": "markdown",
   "metadata": {},
   "source": [
    "from that graph we can see that the loss isn't converging to much , it stays around the line of 2 and somtimes go higer which means that either out network needs more layers or other regularzation methods.\n",
    "let's plot the confusion matrix and see how good the network is."
   ]
  },
  {
   "cell_type": "code",
   "execution_count": 48,
   "metadata": {},
   "outputs": [
    {
     "name": "stderr",
     "output_type": "stream",
     "text": [
      "<ipython-input-48-f984d1a39c33>:35: UserWarning: FixedFormatter should only be used together with FixedLocator\n",
      "  ax.set_xticklabels([''] + all_categories, rotation=90)\n",
      "<ipython-input-48-f984d1a39c33>:36: UserWarning: FixedFormatter should only be used together with FixedLocator\n",
      "  ax.set_yticklabels([''] + all_categories)\n"
     ]
    },
    {
     "data": {
      "image/png": "[encoded data removed]",
      "text/plain": [
       "<Figure size 432x288 with 2 Axes>"
      ]
     },
     "metadata": {
      "needs_background": "light"
     },
     "output_type": "display_data"
    }
   ],
   "source": [
    "import matplotlib.ticker as ticker\n",
    "\n",
    "# Keep track of correct guesses in a confusion matrix\n",
    "confusion = torch.zeros(n_categories, n_categories)\n",
    "n_confusion = 10000\n",
    "\n",
    "# Just return an output given a line\n",
    "def evaluate(line_tensor):\n",
    "    hidden = rnn.initHidden()\n",
    "\n",
    "    for i in range(line_tensor.size()[0]):\n",
    "        output, hidden = rnn(line_tensor[i], hidden)\n",
    "\n",
    "    return output\n",
    "\n",
    "# Go through a bunch of examples and record which are correctly guessed\n",
    "for i in range(n_confusion):\n",
    "    category, line, category_tensor, line_tensor = randomTrainingExample()\n",
    "    output = evaluate(line_tensor)\n",
    "    guess, guess_i = categoryFromOutput(output)\n",
    "    category_i = all_categories.index(category)\n",
    "    confusion[category_i][guess_i] += 1\n",
    "\n",
    "# Normalize by dividing every row by its sum\n",
    "for i in range(n_categories):\n",
    "    confusion[i] = confusion[i] / confusion[i].sum()\n",
    "\n",
    "# Set up plot\n",
    "fig = plt.figure()\n",
    "ax = fig.add_subplot(111)\n",
    "cax = ax.matshow(confusion.numpy())\n",
    "fig.colorbar(cax)\n",
    "\n",
    "# Set up axes\n",
    "ax.set_xticklabels([''] + all_categories, rotation=90)\n",
    "ax.set_yticklabels([''] + all_categories)\n",
    "\n",
    "# Force label at every tick\n",
    "ax.xaxis.set_major_locator(ticker.MultipleLocator(1))\n",
    "ax.yaxis.set_major_locator(ticker.MultipleLocator(1))\n",
    "\n",
    "# sphinx_gallery_thumbnail_number = 2\n",
    "plt.show()"
   ]
  },
  {
   "cell_type": "markdown",
   "metadata": {},
   "source": [
    "from that confusion matrix we can cleary see that the network isn't preforming well enought, we will add more layers and also use drop out."
   ]
  },
  {
   "cell_type": "markdown",
   "metadata": {},
   "source": [
    "<a name=\"bettercitiesmodel\"></a>\n",
    "<h3>3.4 Improve the RNN Model (Optional)</h3>\n",
    "\n",
    "Explore methods to improve performance of the cities classifier.\n",
    "Use a character RNN, dropout, better initialization."
   ]
  },
  {
   "cell_type": "code",
   "execution_count": null,
   "metadata": {},
   "outputs": [],
   "source": []
  },
  {
   "cell_type": "markdown",
   "metadata": {},
   "source": [
    "Report on error reduction."
   ]
  },
  {
   "cell_type": "code",
   "execution_count": null,
   "metadata": {},
   "outputs": [],
   "source": []
  }
 ],
 "metadata": {
  "kernelspec": {
   "display_name": "Python 3",
   "language": "python",
   "name": "python3"
  },
  "language_info": {
   "codemirror_mode": {
    "name": "ipython",
    "version": 3
   },
   "file_extension": ".py",
   "mimetype": "text/x-python",
   "name": "python",
   "nbconvert_exporter": "python",
   "pygments_lexer": "ipython3",
   "version": "3.8.3"
  }
 },
 "nbformat": 4,
 "nbformat_minor": 4
}
